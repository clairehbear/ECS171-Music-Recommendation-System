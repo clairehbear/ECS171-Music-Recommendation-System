{
 "cells": [
  {
   "cell_type": "code",
   "execution_count": 2,
   "id": "1d69a0ba-089d-410f-aa20-5864322dbebb",
   "metadata": {},
   "outputs": [],
   "source": [
    "import numpy as np\n",
    "import pandas as pd\n",
    "import plotly.express as px\n",
    "import matplotlib.pyplot as plt\n",
    "from sklearn.model_selection import train_test_split\n",
    "from sklearn.cluster import KMeans\n",
    "from sklearn.metrics import pairwise_distances, silhouette_score\n",
    "from sklearn.preprocessing import StandardScaler\n",
    "from sklearn.decomposition import PCA\n",
    "from tqdm.notebook import tqdm\n",
    "import os"
   ]
  },
  {
   "cell_type": "markdown",
   "id": "d44748d2-5a1a-4d86-b639-18cf5a22dfd8",
   "metadata": {},
   "source": [
    "# Data Preprocessing"
   ]
  },
  {
   "cell_type": "code",
   "execution_count": 31,
   "id": "d785faa6-dea5-4612-aef2-1699897f6180",
   "metadata": {},
   "outputs": [],
   "source": [
    "data = pd.read_csv('data/dataset.csv', index_col=0)\n",
    "data.drop_duplicates(subset='track_id')\n",
    "features = ['track_name', 'artists', 'popularity', 'track_genre', 'danceability', 'loudness', 'acousticness', 'valence', 'tempo']\n",
    "X = data[features].copy()\n",
    "X.drop_duplicates(subset=['track_name', 'artists'], keep='first', inplace=True)\n",
    "X.reset_index(drop=True, inplace=True)  # fix indices after removing duplicates\n",
    "\n",
    "# Standardize data\n",
    "scaler = StandardScaler()\n",
    "X_scaled = scaler.fit_transform(X[['danceability', 'loudness', 'acousticness', 'valence', 'tempo']])\n",
    "\n",
    "model = KMeans(n_clusters=9, init=\"k-means++\", random_state=42)"
   ]
  },
  {
   "cell_type": "code",
   "execution_count": 32,
   "id": "ed26888c-8ea8-4900-8299-b6e58d7fbf56",
   "metadata": {},
   "outputs": [],
   "source": [
    "clusters = model.fit_predict(X_scaled)\n",
    "results = X.copy()\n",
    "results['cluster'] = clusters.astype(str)"
   ]
  },
  {
   "cell_type": "code",
   "execution_count": 33,
   "id": "1cd9d7db-f331-4507-a2a7-624b91816972",
   "metadata": {},
   "outputs": [
    {
     "data": {
      "text/plain": [
       "track_genre\n",
       "grindcore        622\n",
       "death-metal      478\n",
       "black-metal      414\n",
       "heavy-metal      369\n",
       "metalcore        267\n",
       "                ... \n",
       "latino             3\n",
       "comedy             3\n",
       "reggae             3\n",
       "reggaeton          3\n",
       "chicago-house      1\n",
       "Name: count, Length: 113, dtype: int64"
      ]
     },
     "execution_count": 33,
     "metadata": {},
     "output_type": "execute_result"
    }
   ],
   "source": [
    "results[results['cluster'] == '2'].track_genre.value_counts()"
   ]
  },
  {
   "cell_type": "markdown",
   "id": "f4276650-8d13-496d-bf97-1c5be25683bd",
   "metadata": {},
   "source": [
    "# Create Song Search"
   ]
  },
  {
   "cell_type": "code",
   "execution_count": 34,
   "id": "f835d3fe-934c-459d-8218-09154c42d94e",
   "metadata": {
    "scrolled": true
   },
   "outputs": [
    {
     "data": {
      "text/html": [
       "<div>\n",
       "<style scoped>\n",
       "    .dataframe tbody tr th:only-of-type {\n",
       "        vertical-align: middle;\n",
       "    }\n",
       "\n",
       "    .dataframe tbody tr th {\n",
       "        vertical-align: top;\n",
       "    }\n",
       "\n",
       "    .dataframe thead th {\n",
       "        text-align: right;\n",
       "    }\n",
       "</style>\n",
       "<table border=\"1\" class=\"dataframe\">\n",
       "  <thead>\n",
       "    <tr style=\"text-align: right;\">\n",
       "      <th></th>\n",
       "      <th>track_name</th>\n",
       "      <th>artists</th>\n",
       "      <th>popularity</th>\n",
       "      <th>track_genre</th>\n",
       "      <th>danceability</th>\n",
       "      <th>loudness</th>\n",
       "      <th>acousticness</th>\n",
       "      <th>valence</th>\n",
       "      <th>tempo</th>\n",
       "    </tr>\n",
       "  </thead>\n",
       "  <tbody>\n",
       "  </tbody>\n",
       "</table>\n",
       "</div>"
      ],
      "text/plain": [
       "Empty DataFrame\n",
       "Columns: [track_name, artists, popularity, track_genre, danceability, loudness, acousticness, valence, tempo]\n",
       "Index: []"
      ]
     },
     "execution_count": 34,
     "metadata": {},
     "output_type": "execute_result"
    }
   ],
   "source": [
    "title = 'up town funk'\n",
    "artist = ''\n",
    "X[X['track_name'].str.contains(title, na=False, case=False) & X['artists'].str.contains(artist, na=False, case=False)]"
   ]
  },
  {
   "cell_type": "markdown",
   "id": "5106f38e-5439-4286-95cd-13cf84669359",
   "metadata": {},
   "source": [
    "# Create Playlist Song Recommendation"
   ]
  },
  {
   "cell_type": "code",
   "execution_count": 35,
   "id": "44aee6e7-5239-466e-bfe7-74373cc41203",
   "metadata": {},
   "outputs": [
    {
     "data": {
      "text/html": [
       "<div>\n",
       "<style scoped>\n",
       "    .dataframe tbody tr th:only-of-type {\n",
       "        vertical-align: middle;\n",
       "    }\n",
       "\n",
       "    .dataframe tbody tr th {\n",
       "        vertical-align: top;\n",
       "    }\n",
       "\n",
       "    .dataframe thead th {\n",
       "        text-align: right;\n",
       "    }\n",
       "</style>\n",
       "<table border=\"1\" class=\"dataframe\">\n",
       "  <thead>\n",
       "    <tr style=\"text-align: right;\">\n",
       "      <th></th>\n",
       "      <th>track_name</th>\n",
       "      <th>artists</th>\n",
       "      <th>popularity</th>\n",
       "      <th>track_genre</th>\n",
       "      <th>danceability</th>\n",
       "      <th>loudness</th>\n",
       "      <th>acousticness</th>\n",
       "      <th>valence</th>\n",
       "      <th>tempo</th>\n",
       "      <th>cluster</th>\n",
       "    </tr>\n",
       "  </thead>\n",
       "  <tbody>\n",
       "    <tr>\n",
       "      <th>50201</th>\n",
       "      <td>Blue Flame</td>\n",
       "      <td>LE SSERAFIM</td>\n",
       "      <td>75</td>\n",
       "      <td>k-pop</td>\n",
       "      <td>0.781</td>\n",
       "      <td>-3.571</td>\n",
       "      <td>0.0281</td>\n",
       "      <td>0.765</td>\n",
       "      <td>112.045</td>\n",
       "      <td>0</td>\n",
       "    </tr>\n",
       "    <tr>\n",
       "      <th>17307</th>\n",
       "      <td>Take You Dancing</td>\n",
       "      <td>Jason Derulo</td>\n",
       "      <td>78</td>\n",
       "      <td>dance</td>\n",
       "      <td>0.789</td>\n",
       "      <td>-4.248</td>\n",
       "      <td>0.0332</td>\n",
       "      <td>0.753</td>\n",
       "      <td>112.985</td>\n",
       "      <td>0</td>\n",
       "    </tr>\n",
       "    <tr>\n",
       "      <th>8889</th>\n",
       "      <td>Back to Flow</td>\n",
       "      <td>Krafty Kuts</td>\n",
       "      <td>13</td>\n",
       "      <td>breakbeat</td>\n",
       "      <td>0.773</td>\n",
       "      <td>-3.973</td>\n",
       "      <td>0.0129</td>\n",
       "      <td>0.734</td>\n",
       "      <td>110.027</td>\n",
       "      <td>0</td>\n",
       "    </tr>\n",
       "    <tr>\n",
       "      <th>4125</th>\n",
       "      <td>Always</td>\n",
       "      <td>ENHYPEN</td>\n",
       "      <td>59</td>\n",
       "      <td>anime</td>\n",
       "      <td>0.804</td>\n",
       "      <td>-3.836</td>\n",
       "      <td>0.0466</td>\n",
       "      <td>0.730</td>\n",
       "      <td>110.014</td>\n",
       "      <td>0</td>\n",
       "    </tr>\n",
       "  </tbody>\n",
       "</table>\n",
       "</div>"
      ],
      "text/plain": [
       "             track_name       artists  popularity track_genre  danceability  \\\n",
       "50201        Blue Flame   LE SSERAFIM          75       k-pop         0.781   \n",
       "17307  Take You Dancing  Jason Derulo          78       dance         0.789   \n",
       "8889       Back to Flow   Krafty Kuts          13   breakbeat         0.773   \n",
       "4125             Always       ENHYPEN          59       anime         0.804   \n",
       "\n",
       "       loudness  acousticness  valence    tempo cluster  \n",
       "50201    -3.571        0.0281    0.765  112.045       0  \n",
       "17307    -4.248        0.0332    0.753  112.985       0  \n",
       "8889     -3.973        0.0129    0.734  110.027       0  \n",
       "4125     -3.836        0.0466    0.730  110.014       0  "
      ]
     },
     "execution_count": 35,
     "metadata": {},
     "output_type": "execute_result"
    }
   ],
   "source": [
    "most_similar = np.argpartition(np.mean((X_scaled - X_scaled[50201].T)**2, axis=1), kth=4)[:4]\n",
    "results.iloc[most_similar]"
   ]
  },
  {
   "cell_type": "code",
   "execution_count": 41,
   "id": "e2466db9-21f9-4dbc-989e-5a5b48755822",
   "metadata": {},
   "outputs": [],
   "source": [
    "# Create a playlist based on the index of the songs\n",
    "playlist = [50201]# [3884, 48383, 48625, 50201]\n",
    "\n",
    "# Find groups each correspond to\n",
    "songs = results.iloc[playlist]\n",
    "clusters = model.predict(X_scaled[playlist])\n",
    "majority = np.argmax(np.bincount(clusters))"
   ]
  },
  {
   "cell_type": "code",
   "execution_count": 42,
   "id": "eee6e52b-4fcc-4a67-8344-46dcb9eb8b4d",
   "metadata": {},
   "outputs": [],
   "source": [
    "# For each song in majority cluster, pick the songs that are cloest to the songs in the playlist\n",
    "song_score = []\n",
    "indices = results[results['cluster'] == str(majority)].index\n",
    "N = len(playlist)\n",
    "for song in indices:\n",
    "    score = float('inf')\n",
    "    for liked_song in playlist:\n",
    "        score = min(score, np.mean((X_scaled[song] - X_scaled[liked_song])**2))\n",
    "    song_score.append(score)"
   ]
  },
  {
   "cell_type": "code",
   "execution_count": 43,
   "id": "c871df22-bc9a-4c7b-a986-63ca2305635d",
   "metadata": {},
   "outputs": [
    {
     "data": {
      "text/html": [
       "<div>\n",
       "<style scoped>\n",
       "    .dataframe tbody tr th:only-of-type {\n",
       "        vertical-align: middle;\n",
       "    }\n",
       "\n",
       "    .dataframe tbody tr th {\n",
       "        vertical-align: top;\n",
       "    }\n",
       "\n",
       "    .dataframe thead th {\n",
       "        text-align: right;\n",
       "    }\n",
       "</style>\n",
       "<table border=\"1\" class=\"dataframe\">\n",
       "  <thead>\n",
       "    <tr style=\"text-align: right;\">\n",
       "      <th></th>\n",
       "      <th>track_name</th>\n",
       "      <th>artists</th>\n",
       "      <th>popularity</th>\n",
       "      <th>track_genre</th>\n",
       "      <th>danceability</th>\n",
       "      <th>loudness</th>\n",
       "      <th>acousticness</th>\n",
       "      <th>valence</th>\n",
       "      <th>tempo</th>\n",
       "      <th>cluster</th>\n",
       "    </tr>\n",
       "  </thead>\n",
       "  <tbody>\n",
       "    <tr>\n",
       "      <th>50201</th>\n",
       "      <td>Blue Flame</td>\n",
       "      <td>LE SSERAFIM</td>\n",
       "      <td>75</td>\n",
       "      <td>k-pop</td>\n",
       "      <td>0.781</td>\n",
       "      <td>-3.571</td>\n",
       "      <td>0.0281</td>\n",
       "      <td>0.765</td>\n",
       "      <td>112.045</td>\n",
       "      <td>0</td>\n",
       "    </tr>\n",
       "  </tbody>\n",
       "</table>\n",
       "</div>"
      ],
      "text/plain": [
       "       track_name      artists  popularity track_genre  danceability  \\\n",
       "50201  Blue Flame  LE SSERAFIM          75       k-pop         0.781   \n",
       "\n",
       "       loudness  acousticness  valence    tempo cluster  \n",
       "50201    -3.571        0.0281    0.765  112.045       0  "
      ]
     },
     "execution_count": 43,
     "metadata": {},
     "output_type": "execute_result"
    }
   ],
   "source": [
    "results.iloc[playlist]"
   ]
  },
  {
   "cell_type": "code",
   "execution_count": 44,
   "id": "8a23b360-b612-4c2e-a0c8-541d35619af1",
   "metadata": {},
   "outputs": [
    {
     "data": {
      "text/html": [
       "<div>\n",
       "<style scoped>\n",
       "    .dataframe tbody tr th:only-of-type {\n",
       "        vertical-align: middle;\n",
       "    }\n",
       "\n",
       "    .dataframe tbody tr th {\n",
       "        vertical-align: top;\n",
       "    }\n",
       "\n",
       "    .dataframe thead th {\n",
       "        text-align: right;\n",
       "    }\n",
       "</style>\n",
       "<table border=\"1\" class=\"dataframe\">\n",
       "  <thead>\n",
       "    <tr style=\"text-align: right;\">\n",
       "      <th></th>\n",
       "      <th>track_name</th>\n",
       "      <th>artists</th>\n",
       "      <th>popularity</th>\n",
       "      <th>track_genre</th>\n",
       "      <th>danceability</th>\n",
       "      <th>loudness</th>\n",
       "      <th>acousticness</th>\n",
       "      <th>valence</th>\n",
       "      <th>tempo</th>\n",
       "      <th>cluster</th>\n",
       "    </tr>\n",
       "  </thead>\n",
       "  <tbody>\n",
       "    <tr>\n",
       "      <th>50201</th>\n",
       "      <td>Blue Flame</td>\n",
       "      <td>LE SSERAFIM</td>\n",
       "      <td>75</td>\n",
       "      <td>k-pop</td>\n",
       "      <td>0.781</td>\n",
       "      <td>-3.571</td>\n",
       "      <td>0.0281</td>\n",
       "      <td>0.765</td>\n",
       "      <td>112.045</td>\n",
       "      <td>0</td>\n",
       "    </tr>\n",
       "    <tr>\n",
       "      <th>17307</th>\n",
       "      <td>Take You Dancing</td>\n",
       "      <td>Jason Derulo</td>\n",
       "      <td>78</td>\n",
       "      <td>dance</td>\n",
       "      <td>0.789</td>\n",
       "      <td>-4.248</td>\n",
       "      <td>0.0332</td>\n",
       "      <td>0.753</td>\n",
       "      <td>112.985</td>\n",
       "      <td>0</td>\n",
       "    </tr>\n",
       "    <tr>\n",
       "      <th>8889</th>\n",
       "      <td>Back to Flow</td>\n",
       "      <td>Krafty Kuts</td>\n",
       "      <td>13</td>\n",
       "      <td>breakbeat</td>\n",
       "      <td>0.773</td>\n",
       "      <td>-3.973</td>\n",
       "      <td>0.0129</td>\n",
       "      <td>0.734</td>\n",
       "      <td>110.027</td>\n",
       "      <td>0</td>\n",
       "    </tr>\n",
       "    <tr>\n",
       "      <th>4125</th>\n",
       "      <td>Always</td>\n",
       "      <td>ENHYPEN</td>\n",
       "      <td>59</td>\n",
       "      <td>anime</td>\n",
       "      <td>0.804</td>\n",
       "      <td>-3.836</td>\n",
       "      <td>0.0466</td>\n",
       "      <td>0.730</td>\n",
       "      <td>110.014</td>\n",
       "      <td>0</td>\n",
       "    </tr>\n",
       "  </tbody>\n",
       "</table>\n",
       "</div>"
      ],
      "text/plain": [
       "             track_name       artists  popularity track_genre  danceability  \\\n",
       "50201        Blue Flame   LE SSERAFIM          75       k-pop         0.781   \n",
       "17307  Take You Dancing  Jason Derulo          78       dance         0.789   \n",
       "8889       Back to Flow   Krafty Kuts          13   breakbeat         0.773   \n",
       "4125             Always       ENHYPEN          59       anime         0.804   \n",
       "\n",
       "       loudness  acousticness  valence    tempo cluster  \n",
       "50201    -3.571        0.0281    0.765  112.045       0  \n",
       "17307    -4.248        0.0332    0.753  112.985       0  \n",
       "8889     -3.973        0.0129    0.734  110.027       0  \n",
       "4125     -3.836        0.0466    0.730  110.014       0  "
      ]
     },
     "execution_count": 44,
     "metadata": {},
     "output_type": "execute_result"
    }
   ],
   "source": [
    "top_k = len(playlist) + 3\n",
    "most_similar = np.argpartition(song_score, top_k)[:top_k]\n",
    "results.iloc[indices[most_similar]]"
   ]
  },
  {
   "cell_type": "markdown",
   "id": "b6cef8da-b30b-4128-b073-ad677ce6bc08",
   "metadata": {},
   "source": [
    "# Genre Evaluation\n",
    "Based on a custom-made grouping of the genres, evaluate the performance of the model."
   ]
  },
  {
   "cell_type": "code",
   "execution_count": 45,
   "id": "cd14c817-d8a7-466d-b73b-1ca557d39415",
   "metadata": {},
   "outputs": [],
   "source": [
    "# Custom genre groupings for each possible genre in the dataset\n",
    "genre_groupings = [\n",
    "    ['acoustic', 'folk', 'singer-songwriter', 'bluegrass', 'country', 'honky-tonk', 'rockabilly', 'study', 'guitar', 'piano', 'new-age', 'ambient', 'sleep', 'chill'],\n",
    "    ['rock', 'alt-rock', 'alternative', 'hard-rock', 'grunge', 'punk', 'punk-rock', 'emo', 'psych-rock', 'rock-n-roll', 'indie', 'indie-pop', 'power-pop', 'goth', 'industrial'],\n",
    "    ['metal', 'black-metal', 'death-metal', 'heavy-metal', 'hardcore', 'metalcore', 'grindcore', 'hardstyle'],\n",
    "    ['electronic', 'edm', 'dance', 'electro', 'house', 'deep-house', 'chicago-house', 'progressive-house', 'techno', 'detroit-techno', 'minimal-techno', 'trance', 'dubstep', 'drum-and-bass', 'breakbeat', 'idm', 'trip-hop', 'garage', 'club', 'party', 'synth-pop', 'disco'],\n",
    "    ['hip-hop', 'r-n-b', 'soul', 'funk', 'groove', 'reggae', 'dancehall', 'dub'],\n",
    "    ['jazz', 'blues', 'classical', 'opera', 'show-tunes', 'disney', 'pop-film', 'romance', 'sad', 'happy'],\n",
    "    ['pop', 'k-pop', 'j-pop', 'j-dance', 'j-idol', 'j-rock', 'cantopop', 'mandopop', 'british', 'swedish'],\n",
    "    ['latin', 'latino', 'salsa', 'samba', 'brazil', 'mpb', 'pagode', 'forro', 'sertanejo', 'tango', 'spanish', 'afrobeat', 'reggaeton'],\n",
    "    ['world-music', 'anime', 'children', 'kids', 'comedy', 'french', 'german', 'indian', 'iranian', 'malay', 'turkish']\n",
    "]\n",
    "\n",
    "# Create genre to group dictionary\n",
    "genre_groups = {}\n",
    "for idx, group in enumerate(genre_groupings):\n",
    "    for genre in group:\n",
    "        genre_groups[genre] = idx\n"
   ]
  },
  {
   "cell_type": "code",
   "execution_count": 46,
   "id": "5f610264-9d04-4865-b5c3-5dff30194417",
   "metadata": {},
   "outputs": [
    {
     "name": "stdout",
     "output_type": "stream",
     "text": [
      "0.3333333333333333\n"
     ]
    }
   ],
   "source": [
    "# Find group majority\n",
    "group_indices = [genre_groups[genre] for genre in results.iloc[playlist].track_genre]\n",
    "counts = np.bincount(group_indices)\n",
    "majority_group = np.argmax(counts)\n",
    "\n",
    "# Calculate the ratio of the recommended songs that are in the same genre group (higher is better)\n",
    "total = top_k - len(playlist)\n",
    "in_group = sum([1 for genre in results.iloc[indices[most_similar]][len(playlist)-1:].track_genre if genre_groups[genre] == majority_group])\n",
    "print(in_group / total)"
   ]
  },
  {
   "cell_type": "code",
   "execution_count": null,
   "id": "1febe2a0-dd77-489d-bc70-726f93947d48",
   "metadata": {},
   "outputs": [],
   "source": []
  }
 ],
 "metadata": {
  "kernelspec": {
   "display_name": "Python 3 (ipykernel)",
   "language": "python",
   "name": "python3"
  },
  "language_info": {
   "codemirror_mode": {
    "name": "ipython",
    "version": 3
   },
   "file_extension": ".py",
   "mimetype": "text/x-python",
   "name": "python",
   "nbconvert_exporter": "python",
   "pygments_lexer": "ipython3",
   "version": "3.10.12"
  }
 },
 "nbformat": 4,
 "nbformat_minor": 5
}
