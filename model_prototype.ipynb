{
 "cells": [
  {
   "cell_type": "code",
   "execution_count": 1,
   "id": "7e1dd52b-f1f0-4554-b030-75bb0b2d636a",
   "metadata": {},
   "outputs": [],
   "source": [
    "import numpy as np\n",
    "import pandas as pd\n",
    "import plotly.express as px\n",
    "from sklearn.model_selection import train_test_split\n",
    "from sklearn.cluster import KMeans\n",
    "from sklearn.metrics import pairwise_distances\n",
    "from sklearn.preprocessing import StandardScaler\n",
    "from sklearn.decomposition import PCA\n",
    "import os"
   ]
  },
  {
   "cell_type": "markdown",
   "id": "bef7677a-57ac-48ed-a34f-bc5a99f819b0",
   "metadata": {},
   "source": [
    "# Data Preprocessing"
   ]
  },
  {
   "cell_type": "markdown",
   "id": "39f0d50d-da3a-465d-ae4f-15443026fbea",
   "metadata": {},
   "source": [
    "## Load Data"
   ]
  },
  {
   "cell_type": "code",
   "execution_count": 2,
   "id": "85ba8814-ba4a-4049-b12e-3e0c2660c10d",
   "metadata": {},
   "outputs": [
    {
     "data": {
      "text/html": [
       "<div>\n",
       "<style scoped>\n",
       "    .dataframe tbody tr th:only-of-type {\n",
       "        vertical-align: middle;\n",
       "    }\n",
       "\n",
       "    .dataframe tbody tr th {\n",
       "        vertical-align: top;\n",
       "    }\n",
       "\n",
       "    .dataframe thead th {\n",
       "        text-align: right;\n",
       "    }\n",
       "</style>\n",
       "<table border=\"1\" class=\"dataframe\">\n",
       "  <thead>\n",
       "    <tr style=\"text-align: right;\">\n",
       "      <th></th>\n",
       "      <th>track_id</th>\n",
       "      <th>artists</th>\n",
       "      <th>album_name</th>\n",
       "      <th>track_name</th>\n",
       "      <th>popularity</th>\n",
       "      <th>duration_ms</th>\n",
       "      <th>explicit</th>\n",
       "      <th>danceability</th>\n",
       "      <th>energy</th>\n",
       "      <th>key</th>\n",
       "      <th>loudness</th>\n",
       "      <th>mode</th>\n",
       "      <th>speechiness</th>\n",
       "      <th>acousticness</th>\n",
       "      <th>instrumentalness</th>\n",
       "      <th>liveness</th>\n",
       "      <th>valence</th>\n",
       "      <th>tempo</th>\n",
       "      <th>time_signature</th>\n",
       "      <th>track_genre</th>\n",
       "    </tr>\n",
       "  </thead>\n",
       "  <tbody>\n",
       "    <tr>\n",
       "      <th>0</th>\n",
       "      <td>5SuOikwiRyPMVoIQDJUgSV</td>\n",
       "      <td>Gen Hoshino</td>\n",
       "      <td>Comedy</td>\n",
       "      <td>Comedy</td>\n",
       "      <td>73</td>\n",
       "      <td>230666</td>\n",
       "      <td>False</td>\n",
       "      <td>0.676</td>\n",
       "      <td>0.4610</td>\n",
       "      <td>1</td>\n",
       "      <td>-6.746</td>\n",
       "      <td>0</td>\n",
       "      <td>0.1430</td>\n",
       "      <td>0.0322</td>\n",
       "      <td>0.000001</td>\n",
       "      <td>0.3580</td>\n",
       "      <td>0.715</td>\n",
       "      <td>87.917</td>\n",
       "      <td>4</td>\n",
       "      <td>acoustic</td>\n",
       "    </tr>\n",
       "    <tr>\n",
       "      <th>1</th>\n",
       "      <td>4qPNDBW1i3p13qLCt0Ki3A</td>\n",
       "      <td>Ben Woodward</td>\n",
       "      <td>Ghost (Acoustic)</td>\n",
       "      <td>Ghost - Acoustic</td>\n",
       "      <td>55</td>\n",
       "      <td>149610</td>\n",
       "      <td>False</td>\n",
       "      <td>0.420</td>\n",
       "      <td>0.1660</td>\n",
       "      <td>1</td>\n",
       "      <td>-17.235</td>\n",
       "      <td>1</td>\n",
       "      <td>0.0763</td>\n",
       "      <td>0.9240</td>\n",
       "      <td>0.000006</td>\n",
       "      <td>0.1010</td>\n",
       "      <td>0.267</td>\n",
       "      <td>77.489</td>\n",
       "      <td>4</td>\n",
       "      <td>acoustic</td>\n",
       "    </tr>\n",
       "    <tr>\n",
       "      <th>2</th>\n",
       "      <td>1iJBSr7s7jYXzM8EGcbK5b</td>\n",
       "      <td>Ingrid Michaelson;ZAYN</td>\n",
       "      <td>To Begin Again</td>\n",
       "      <td>To Begin Again</td>\n",
       "      <td>57</td>\n",
       "      <td>210826</td>\n",
       "      <td>False</td>\n",
       "      <td>0.438</td>\n",
       "      <td>0.3590</td>\n",
       "      <td>0</td>\n",
       "      <td>-9.734</td>\n",
       "      <td>1</td>\n",
       "      <td>0.0557</td>\n",
       "      <td>0.2100</td>\n",
       "      <td>0.000000</td>\n",
       "      <td>0.1170</td>\n",
       "      <td>0.120</td>\n",
       "      <td>76.332</td>\n",
       "      <td>4</td>\n",
       "      <td>acoustic</td>\n",
       "    </tr>\n",
       "    <tr>\n",
       "      <th>3</th>\n",
       "      <td>6lfxq3CG4xtTiEg7opyCyx</td>\n",
       "      <td>Kina Grannis</td>\n",
       "      <td>Crazy Rich Asians (Original Motion Picture Sou...</td>\n",
       "      <td>Can't Help Falling In Love</td>\n",
       "      <td>71</td>\n",
       "      <td>201933</td>\n",
       "      <td>False</td>\n",
       "      <td>0.266</td>\n",
       "      <td>0.0596</td>\n",
       "      <td>0</td>\n",
       "      <td>-18.515</td>\n",
       "      <td>1</td>\n",
       "      <td>0.0363</td>\n",
       "      <td>0.9050</td>\n",
       "      <td>0.000071</td>\n",
       "      <td>0.1320</td>\n",
       "      <td>0.143</td>\n",
       "      <td>181.740</td>\n",
       "      <td>3</td>\n",
       "      <td>acoustic</td>\n",
       "    </tr>\n",
       "    <tr>\n",
       "      <th>4</th>\n",
       "      <td>5vjLSffimiIP26QG5WcN2K</td>\n",
       "      <td>Chord Overstreet</td>\n",
       "      <td>Hold On</td>\n",
       "      <td>Hold On</td>\n",
       "      <td>82</td>\n",
       "      <td>198853</td>\n",
       "      <td>False</td>\n",
       "      <td>0.618</td>\n",
       "      <td>0.4430</td>\n",
       "      <td>2</td>\n",
       "      <td>-9.681</td>\n",
       "      <td>1</td>\n",
       "      <td>0.0526</td>\n",
       "      <td>0.4690</td>\n",
       "      <td>0.000000</td>\n",
       "      <td>0.0829</td>\n",
       "      <td>0.167</td>\n",
       "      <td>119.949</td>\n",
       "      <td>4</td>\n",
       "      <td>acoustic</td>\n",
       "    </tr>\n",
       "  </tbody>\n",
       "</table>\n",
       "</div>"
      ],
      "text/plain": [
       "                 track_id                 artists  \\\n",
       "0  5SuOikwiRyPMVoIQDJUgSV             Gen Hoshino   \n",
       "1  4qPNDBW1i3p13qLCt0Ki3A            Ben Woodward   \n",
       "2  1iJBSr7s7jYXzM8EGcbK5b  Ingrid Michaelson;ZAYN   \n",
       "3  6lfxq3CG4xtTiEg7opyCyx            Kina Grannis   \n",
       "4  5vjLSffimiIP26QG5WcN2K        Chord Overstreet   \n",
       "\n",
       "                                          album_name  \\\n",
       "0                                             Comedy   \n",
       "1                                   Ghost (Acoustic)   \n",
       "2                                     To Begin Again   \n",
       "3  Crazy Rich Asians (Original Motion Picture Sou...   \n",
       "4                                            Hold On   \n",
       "\n",
       "                   track_name  popularity  duration_ms  explicit  \\\n",
       "0                      Comedy          73       230666     False   \n",
       "1            Ghost - Acoustic          55       149610     False   \n",
       "2              To Begin Again          57       210826     False   \n",
       "3  Can't Help Falling In Love          71       201933     False   \n",
       "4                     Hold On          82       198853     False   \n",
       "\n",
       "   danceability  energy  key  loudness  mode  speechiness  acousticness  \\\n",
       "0         0.676  0.4610    1    -6.746     0       0.1430        0.0322   \n",
       "1         0.420  0.1660    1   -17.235     1       0.0763        0.9240   \n",
       "2         0.438  0.3590    0    -9.734     1       0.0557        0.2100   \n",
       "3         0.266  0.0596    0   -18.515     1       0.0363        0.9050   \n",
       "4         0.618  0.4430    2    -9.681     1       0.0526        0.4690   \n",
       "\n",
       "   instrumentalness  liveness  valence    tempo  time_signature track_genre  \n",
       "0          0.000001    0.3580    0.715   87.917               4    acoustic  \n",
       "1          0.000006    0.1010    0.267   77.489               4    acoustic  \n",
       "2          0.000000    0.1170    0.120   76.332               4    acoustic  \n",
       "3          0.000071    0.1320    0.143  181.740               3    acoustic  \n",
       "4          0.000000    0.0829    0.167  119.949               4    acoustic  "
      ]
     },
     "execution_count": 2,
     "metadata": {},
     "output_type": "execute_result"
    }
   ],
   "source": [
    "data = pd.read_csv('data/dataset.csv', index_col=0)\n",
    "data.head()"
   ]
  },
  {
   "cell_type": "code",
   "execution_count": 3,
   "id": "281273b7-c79d-4386-9ce4-32fc8ecdc025",
   "metadata": {},
   "outputs": [],
   "source": [
    "features = ['track_name', 'track_genre', 'danceability', 'loudness', 'acousticness', 'valence', 'tempo']\n",
    "X = data[features].copy()"
   ]
  },
  {
   "cell_type": "code",
   "execution_count": 4,
   "id": "4c4b51b3-8ecb-42d3-9f05-9558f59071db",
   "metadata": {},
   "outputs": [],
   "source": [
    "X_train, X_test = train_test_split(X, test_size=0.25, random_state=42)"
   ]
  },
  {
   "cell_type": "markdown",
   "id": "5e34e32c-ef13-4970-b34a-0e86f68db0a5",
   "metadata": {},
   "source": [
    "## Standardize Data\n",
    "Since danceability, acousticness, and valence are already on a \\[0, 1\\] scale, we just need to standardize the tempo and loudness data"
   ]
  },
  {
   "cell_type": "code",
   "execution_count": 5,
   "id": "f4134d69-c66a-4303-8a27-07fba0cd7321",
   "metadata": {},
   "outputs": [],
   "source": [
    "scaler = StandardScaler()\n",
    "X_train_scaled = scaler.fit_transform(X_train[['danceability', 'loudness', 'acousticness', 'valence', 'tempo']])"
   ]
  },
  {
   "cell_type": "code",
   "execution_count": 6,
   "id": "47a14a3b-956d-4f24-842f-e45cd60328b4",
   "metadata": {},
   "outputs": [
    {
     "data": {
      "text/plain": [
       "array([[ 0.01123353,  0.62958632, -0.79986331, -0.30136515, -0.07159454],\n",
       "       [ 0.34029685,  0.91292818, -0.7264848 ,  1.63690055,  0.56523708],\n",
       "       [-1.3973884 ,  0.44108859,  0.89987173, -0.98863864, -0.68824429],\n",
       "       ...,\n",
       "       [ 0.35761597, -0.63334851,  0.84273273,  1.56740098, -0.10644503],\n",
       "       [-0.84317649, -1.37464066,  1.9043153 , -1.37474734, -0.59685783],\n",
       "       [-0.01185864, -2.06652657,  1.85319093, -1.51104372, -0.23893033]])"
      ]
     },
     "execution_count": 6,
     "metadata": {},
     "output_type": "execute_result"
    }
   ],
   "source": [
    "X_train_scaled"
   ]
  },
  {
   "cell_type": "markdown",
   "id": "c316f102-5ba6-4a2a-a332-c1f60a2a28a7",
   "metadata": {},
   "source": [
    "# K-Means - Euclidean Distance"
   ]
  },
  {
   "cell_type": "code",
   "execution_count": 7,
   "id": "49ba7955-e99e-4b30-98a8-640bfdd06215",
   "metadata": {},
   "outputs": [],
   "source": [
    "kmeans = KMeans(n_clusters=8, init=\"k-means++\", random_state=42)"
   ]
  },
  {
   "cell_type": "code",
   "execution_count": 8,
   "id": "c1daeff1-b820-4f38-b3c4-179ca9ef362a",
   "metadata": {},
   "outputs": [],
   "source": [
    "clusters = kmeans.fit_predict(X_train_scaled)"
   ]
  },
  {
   "cell_type": "code",
   "execution_count": 9,
   "id": "521b6bd6-f72e-4559-9c7e-5d40d8679a69",
   "metadata": {},
   "outputs": [
    {
     "data": {
      "text/html": [
       "<div>\n",
       "<style scoped>\n",
       "    .dataframe tbody tr th:only-of-type {\n",
       "        vertical-align: middle;\n",
       "    }\n",
       "\n",
       "    .dataframe tbody tr th {\n",
       "        vertical-align: top;\n",
       "    }\n",
       "\n",
       "    .dataframe thead th {\n",
       "        text-align: right;\n",
       "    }\n",
       "</style>\n",
       "<table border=\"1\" class=\"dataframe\">\n",
       "  <thead>\n",
       "    <tr style=\"text-align: right;\">\n",
       "      <th></th>\n",
       "      <th>track_name</th>\n",
       "      <th>track_genre</th>\n",
       "      <th>danceability</th>\n",
       "      <th>loudness</th>\n",
       "      <th>acousticness</th>\n",
       "      <th>valence</th>\n",
       "      <th>tempo</th>\n",
       "      <th>clusters</th>\n",
       "    </tr>\n",
       "  </thead>\n",
       "  <tbody>\n",
       "    <tr>\n",
       "      <th>86480</th>\n",
       "      <td>Cansado de ser</td>\n",
       "      <td>punk</td>\n",
       "      <td>0.569</td>\n",
       "      <td>-5.090</td>\n",
       "      <td>0.0488</td>\n",
       "      <td>0.396</td>\n",
       "      <td>119.938</td>\n",
       "      <td>1</td>\n",
       "    </tr>\n",
       "    <tr>\n",
       "      <th>53743</th>\n",
       "      <td>I Just Called</td>\n",
       "      <td>house</td>\n",
       "      <td>0.626</td>\n",
       "      <td>-3.662</td>\n",
       "      <td>0.0732</td>\n",
       "      <td>0.898</td>\n",
       "      <td>138.997</td>\n",
       "      <td>7</td>\n",
       "    </tr>\n",
       "    <tr>\n",
       "      <th>103085</th>\n",
       "      <td>Someday At Christmas</td>\n",
       "      <td>soul</td>\n",
       "      <td>0.325</td>\n",
       "      <td>-6.040</td>\n",
       "      <td>0.6140</td>\n",
       "      <td>0.218</td>\n",
       "      <td>101.483</td>\n",
       "      <td>4</td>\n",
       "    </tr>\n",
       "    <tr>\n",
       "      <th>8838</th>\n",
       "      <td>Tipsy</td>\n",
       "      <td>blues</td>\n",
       "      <td>0.772</td>\n",
       "      <td>-5.276</td>\n",
       "      <td>0.6510</td>\n",
       "      <td>0.791</td>\n",
       "      <td>104.009</td>\n",
       "      <td>3</td>\n",
       "    </tr>\n",
       "    <tr>\n",
       "      <th>113095</th>\n",
       "      <td>Cornerstone - Live</td>\n",
       "      <td>world-music</td>\n",
       "      <td>0.391</td>\n",
       "      <td>-6.698</td>\n",
       "      <td>0.0477</td>\n",
       "      <td>0.129</td>\n",
       "      <td>142.977</td>\n",
       "      <td>5</td>\n",
       "    </tr>\n",
       "  </tbody>\n",
       "</table>\n",
       "</div>"
      ],
      "text/plain": [
       "                  track_name  track_genre  danceability  loudness  \\\n",
       "86480         Cansado de ser         punk         0.569    -5.090   \n",
       "53743          I Just Called        house         0.626    -3.662   \n",
       "103085  Someday At Christmas         soul         0.325    -6.040   \n",
       "8838                   Tipsy        blues         0.772    -5.276   \n",
       "113095    Cornerstone - Live  world-music         0.391    -6.698   \n",
       "\n",
       "        acousticness  valence    tempo clusters  \n",
       "86480         0.0488    0.396  119.938        1  \n",
       "53743         0.0732    0.898  138.997        7  \n",
       "103085        0.6140    0.218  101.483        4  \n",
       "8838          0.6510    0.791  104.009        3  \n",
       "113095        0.0477    0.129  142.977        5  "
      ]
     },
     "execution_count": 9,
     "metadata": {},
     "output_type": "execute_result"
    }
   ],
   "source": [
    "results = X_train.copy()  # create a copy of the original data, which includes the song name and genre\n",
    "results['clusters'] = clusters.astype(str)  # add the predicted clusters to each data point\n",
    "results.head()"
   ]
  },
  {
   "cell_type": "markdown",
   "id": "5fc59451-acf5-45db-bec5-b6e183f50777",
   "metadata": {},
   "source": [
    "## Plot Clusters\n",
    "First, perform PCA on the grouped data  \n",
    "Then, plot and color based on their cluster"
   ]
  },
  {
   "cell_type": "code",
   "execution_count": 10,
   "id": "370e0282-7249-4f79-844b-56af976e76d7",
   "metadata": {},
   "outputs": [],
   "source": [
    "pca = PCA(n_components=3)\n",
    "components = pca.fit_transform(X_train_scaled)"
   ]
  },
  {
   "cell_type": "code",
   "execution_count": 11,
   "id": "90109a25-8e9f-401e-9eb5-7c085c80b76a",
   "metadata": {},
   "outputs": [],
   "source": [
    "# add components to each data point\n",
    "results['pca1'] = components[:, 0]\n",
    "results['pca2'] = components[:, 1]\n",
    "results['pca3'] = components[:, 2]"
   ]
  },
  {
   "cell_type": "code",
   "execution_count": 12,
   "id": "629765e2-6dae-4251-9511-4ee9dcca349b",
   "metadata": {},
   "outputs": [
    {
     "data": {
      "text/html": [
       "<iframe\n",
       "    scrolling=\"no\"\n",
       "    width=\"100%\"\n",
       "    height=\"545px\"\n",
       "    src=\"iframe_figures/figure_12.html\"\n",
       "    frameborder=\"0\"\n",
       "    allowfullscreen\n",
       "></iframe>\n"
      ]
     },
     "metadata": {},
     "output_type": "display_data"
    }
   ],
   "source": [
    "fig = px.scatter_3d(results, x='pca1', y='pca2', z='pca3', color='clusters', labels={'clusters': 'Cluster', 'pca1': 'Principal Component 1', 'pca2': 'Principal Component 2', 'pca3': 'Principal Component 3'}, hover_data=['track_name', 'track_genre'], title='Clusters Visualized with PCA (3 Components)')\n",
    "fig.show(renderer='iframe')"
   ]
  },
  {
   "cell_type": "markdown",
   "id": "b32029de-e18a-4fdd-9dc4-4086d34f783a",
   "metadata": {},
   "source": [
    "## Plot Two Clusters Against Each Other"
   ]
  },
  {
   "cell_type": "code",
   "execution_count": 13,
   "id": "14250e20-fbea-45ec-ad54-a2a9fabe6fb0",
   "metadata": {},
   "outputs": [
    {
     "data": {
      "text/html": [
       "<iframe\n",
       "    scrolling=\"no\"\n",
       "    width=\"100%\"\n",
       "    height=\"545px\"\n",
       "    src=\"iframe_figures/figure_13.html\"\n",
       "    frameborder=\"0\"\n",
       "    allowfullscreen\n",
       "></iframe>\n"
      ]
     },
     "metadata": {},
     "output_type": "display_data"
    }
   ],
   "source": [
    "group1 = results[results['clusters'].isin(['1', '2'])]\n",
    "\n",
    "fig = px.scatter_3d(group1, x='pca1', y='pca2', z='pca3', color='clusters', labels={'clusters': 'Cluster'}, hover_data=['track_name', 'track_genre', 'loudness', 'acousticness', 'valence', 'tempo'], title='Clusters Visualized with PCA (3 Components)')\n",
    "fig.show(renderer='iframe')"
   ]
  },
  {
   "cell_type": "markdown",
   "id": "7535be50-1b97-4021-a6b8-8c4d071747cd",
   "metadata": {},
   "source": [
    "# K-Means - Cosine Distance\n",
    "In order to use the distance metric of $1-\\cos \\theta$, where $\\cos \\theta=\\frac{x\\cdot y}{\\lVert x \\rVert\\lVert y \\rVert}$, observe that when $x$ and $y$ are unit vectors, we have\n",
    "$$\n",
    "x\\cdot y=\\cos \\theta\n",
    "$$\n",
    "Therefore, the Euclidean distance is just,\n",
    "$$\n",
    "\\begin{aligned}\n",
    "\\lVert x-y \\rVert ^{2}&= (x-y)\\cdot(x-y) \\\\\n",
    " & = x\\cdot x-2x\\cdot y+y\\cdot y \\\\\n",
    " & = 2-2x\\cdot y \\\\\n",
    " & =2(1-\\cos\\theta)\n",
    "\\end{aligned}\n",
    "$$\n",
    "So normalizing the vectors and minimizing the Euclidean distance is the same as minimizing the cosine distance."
   ]
  },
  {
   "cell_type": "code",
   "execution_count": 41,
   "id": "dd59b34f-a452-40ae-b70e-7a0998b336b9",
   "metadata": {},
   "outputs": [],
   "source": [
    "X_train_unit = X_train_scaled / np.linalg.norm(X_train_scaled, axis=1)[:, np.newaxis]\n",
    "cosCluster = KMeans(n_clusters=7, init=\"k-means++\", random_state=42)"
   ]
  },
  {
   "cell_type": "code",
   "execution_count": 42,
   "id": "e1ac87fd-c8d2-4df3-a26f-f78f0ded7100",
   "metadata": {},
   "outputs": [],
   "source": [
    "cosClusters = cosCluster.fit_predict(X_train_unit)"
   ]
  },
  {
   "cell_type": "code",
   "execution_count": 43,
   "id": "ab1baae0-77c6-4be7-b9a3-31986d7af065",
   "metadata": {},
   "outputs": [
    {
     "data": {
      "text/html": [
       "<div>\n",
       "<style scoped>\n",
       "    .dataframe tbody tr th:only-of-type {\n",
       "        vertical-align: middle;\n",
       "    }\n",
       "\n",
       "    .dataframe tbody tr th {\n",
       "        vertical-align: top;\n",
       "    }\n",
       "\n",
       "    .dataframe thead th {\n",
       "        text-align: right;\n",
       "    }\n",
       "</style>\n",
       "<table border=\"1\" class=\"dataframe\">\n",
       "  <thead>\n",
       "    <tr style=\"text-align: right;\">\n",
       "      <th></th>\n",
       "      <th>track_name</th>\n",
       "      <th>track_genre</th>\n",
       "      <th>danceability</th>\n",
       "      <th>loudness</th>\n",
       "      <th>acousticness</th>\n",
       "      <th>valence</th>\n",
       "      <th>tempo</th>\n",
       "      <th>clusters</th>\n",
       "    </tr>\n",
       "  </thead>\n",
       "  <tbody>\n",
       "    <tr>\n",
       "      <th>86480</th>\n",
       "      <td>Cansado de ser</td>\n",
       "      <td>punk</td>\n",
       "      <td>0.569</td>\n",
       "      <td>-5.090</td>\n",
       "      <td>0.0488</td>\n",
       "      <td>0.396</td>\n",
       "      <td>119.938</td>\n",
       "      <td>2</td>\n",
       "    </tr>\n",
       "    <tr>\n",
       "      <th>53743</th>\n",
       "      <td>I Just Called</td>\n",
       "      <td>house</td>\n",
       "      <td>0.626</td>\n",
       "      <td>-3.662</td>\n",
       "      <td>0.0732</td>\n",
       "      <td>0.898</td>\n",
       "      <td>138.997</td>\n",
       "      <td>1</td>\n",
       "    </tr>\n",
       "    <tr>\n",
       "      <th>103085</th>\n",
       "      <td>Someday At Christmas</td>\n",
       "      <td>soul</td>\n",
       "      <td>0.325</td>\n",
       "      <td>-6.040</td>\n",
       "      <td>0.6140</td>\n",
       "      <td>0.218</td>\n",
       "      <td>101.483</td>\n",
       "      <td>5</td>\n",
       "    </tr>\n",
       "    <tr>\n",
       "      <th>8838</th>\n",
       "      <td>Tipsy</td>\n",
       "      <td>blues</td>\n",
       "      <td>0.772</td>\n",
       "      <td>-5.276</td>\n",
       "      <td>0.6510</td>\n",
       "      <td>0.791</td>\n",
       "      <td>104.009</td>\n",
       "      <td>0</td>\n",
       "    </tr>\n",
       "    <tr>\n",
       "      <th>113095</th>\n",
       "      <td>Cornerstone - Live</td>\n",
       "      <td>world-music</td>\n",
       "      <td>0.391</td>\n",
       "      <td>-6.698</td>\n",
       "      <td>0.0477</td>\n",
       "      <td>0.129</td>\n",
       "      <td>142.977</td>\n",
       "      <td>6</td>\n",
       "    </tr>\n",
       "  </tbody>\n",
       "</table>\n",
       "</div>"
      ],
      "text/plain": [
       "                  track_name  track_genre  danceability  loudness  \\\n",
       "86480         Cansado de ser         punk         0.569    -5.090   \n",
       "53743          I Just Called        house         0.626    -3.662   \n",
       "103085  Someday At Christmas         soul         0.325    -6.040   \n",
       "8838                   Tipsy        blues         0.772    -5.276   \n",
       "113095    Cornerstone - Live  world-music         0.391    -6.698   \n",
       "\n",
       "        acousticness  valence    tempo clusters  \n",
       "86480         0.0488    0.396  119.938        2  \n",
       "53743         0.0732    0.898  138.997        1  \n",
       "103085        0.6140    0.218  101.483        5  \n",
       "8838          0.6510    0.791  104.009        0  \n",
       "113095        0.0477    0.129  142.977        6  "
      ]
     },
     "execution_count": 43,
     "metadata": {},
     "output_type": "execute_result"
    }
   ],
   "source": [
    "resultsCos = X_train.copy()  # create a copy of the original data, which includes the song name and genre\n",
    "resultsCos['clusters'] = cosClusters.astype(str)  # add the predicted clusters to each data point\n",
    "resultsCos.head()"
   ]
  },
  {
   "cell_type": "markdown",
   "id": "df28f1be-03d5-4004-81c8-091811a2f3fc",
   "metadata": {},
   "source": [
    "## Visualize Cosine Distance Clustering"
   ]
  },
  {
   "cell_type": "code",
   "execution_count": 44,
   "id": "50fdff22-e2b1-4c75-9870-baf8d182eb15",
   "metadata": {},
   "outputs": [],
   "source": [
    "pca = PCA(n_components=3)\n",
    "components = pca.fit_transform(X_train_unit)"
   ]
  },
  {
   "cell_type": "code",
   "execution_count": 45,
   "id": "664f7ffa-09cd-4c74-af23-923441fe91de",
   "metadata": {},
   "outputs": [],
   "source": [
    "# add components to each data point\n",
    "resultsCos['pca1'] = components[:, 0]\n",
    "resultsCos['pca2'] = components[:, 1]\n",
    "resultsCos['pca3'] = components[:, 2]"
   ]
  },
  {
   "cell_type": "code",
   "execution_count": 46,
   "id": "05b3a33b-e7d0-4415-bbad-7f862755b51f",
   "metadata": {},
   "outputs": [
    {
     "data": {
      "text/html": [
       "<iframe\n",
       "    scrolling=\"no\"\n",
       "    width=\"100%\"\n",
       "    height=\"545px\"\n",
       "    src=\"iframe_figures/figure_46.html\"\n",
       "    frameborder=\"0\"\n",
       "    allowfullscreen\n",
       "></iframe>\n"
      ]
     },
     "metadata": {},
     "output_type": "display_data"
    }
   ],
   "source": [
    "fig = px.scatter_3d(resultsCos, x='pca1', y='pca2', z='pca3', color='clusters', labels={'clusters': 'Cluster', 'pca1': 'Principal Component 1', 'pca2': 'Principal Component 2', 'pca3': 'Principal Component 3'}, hover_data=['track_name', 'track_genre'], title='Clusters Visualized with PCA (3 Components)')\n",
    "fig.show(renderer='iframe')"
   ]
  },
  {
   "cell_type": "code",
   "execution_count": null,
   "id": "c79a567b-8b7f-4e53-991e-f6c417d716cd",
   "metadata": {},
   "outputs": [],
   "source": []
  }
 ],
 "metadata": {
  "kernelspec": {
   "display_name": "Python 3 (ipykernel)",
   "language": "python",
   "name": "python3"
  },
  "language_info": {
   "codemirror_mode": {
    "name": "ipython",
    "version": 3
   },
   "file_extension": ".py",
   "mimetype": "text/x-python",
   "name": "python",
   "nbconvert_exporter": "python",
   "pygments_lexer": "ipython3",
   "version": "3.10.12"
  }
 },
 "nbformat": 4,
 "nbformat_minor": 5
}
