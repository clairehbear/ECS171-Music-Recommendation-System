{
 "cells": [
  {
   "cell_type": "code",
   "execution_count": 3,
   "id": "2fa71709",
   "metadata": {
    "_cell_guid": "b1076dfc-b9ad-4769-8c92-a6c4dae69d19",
    "_uuid": "8f2839f25d086af736a60e9eeb907d3b93b6e0e5",
    "papermill": {
     "duration": 1.935689,
     "end_time": "2025-05-06T18:53:12.580485",
     "exception": false,
     "start_time": "2025-05-06T18:53:10.644796",
     "status": "completed"
    },
    "tags": []
   },
   "outputs": [],
   "source": [
    "# This Python 3 environment comes with many helpful analytics libraries installed\n",
    "# It is defined by the kaggle/python Docker image: https://github.com/kaggle/docker-python\n",
    "# For example, here's several helpful packages to load\n",
    "\n",
    "import numpy as np # linear algebra\n",
    "import pandas as pd # data processing, CSV file I/O (e.g. pd.read_csv)\n",
    "\n",
    "# Input data files are available in the read-only \"../input/\" directory\n",
    "# For example, running this (by clicking run or pressing Shift+Enter) will list all files under the input directory\n",
    "\n",
    "import os\n",
    "for dirname, _, filenames in os.walk('/kaggle/input'):\n",
    "    for filename in filenames:\n",
    "        print(os.path.join(dirname, filename))\n",
    "\n",
    "# You can write up to 20GB to the current directory (/kaggle/working/) that gets preserved as output when you create a version using \"Save & Run All\" \n",
    "# You can also write temporary files to /kaggle/temp/, but they won't be saved outside of the current session"
   ]
  },
  {
   "cell_type": "code",
   "execution_count": 4,
   "id": "7a67272d",
   "metadata": {
    "papermill": {
     "duration": 0.953417,
     "end_time": "2025-05-06T18:53:13.537646",
     "exception": false,
     "start_time": "2025-05-06T18:53:12.584229",
     "status": "completed"
    },
    "tags": []
   },
   "outputs": [
    {
     "data": {
      "text/plain": [
       "Index(['track_id', 'artists', 'album_name', 'track_name', 'popularity',\n",
       "       'duration_ms', 'explicit', 'danceability', 'energy', 'key', 'loudness',\n",
       "       'mode', 'speechiness', 'acousticness', 'instrumentalness', 'liveness',\n",
       "       'valence', 'tempo', 'time_signature', 'track_genre'],\n",
       "      dtype='object')"
      ]
     },
     "execution_count": 4,
     "metadata": {},
     "output_type": "execute_result"
    }
   ],
   "source": [
    "data = pd.read_csv('data/dataset.csv', index_col=0)\n",
    "data.columns"
   ]
  },
  {
   "cell_type": "code",
   "execution_count": 5,
   "id": "c41d2be1",
   "metadata": {
    "papermill": {
     "duration": 0.036358,
     "end_time": "2025-05-06T18:53:13.577371",
     "exception": false,
     "start_time": "2025-05-06T18:53:13.541013",
     "status": "completed"
    },
    "tags": []
   },
   "outputs": [
    {
     "data": {
      "text/html": [
       "<div>\n",
       "<style scoped>\n",
       "    .dataframe tbody tr th:only-of-type {\n",
       "        vertical-align: middle;\n",
       "    }\n",
       "\n",
       "    .dataframe tbody tr th {\n",
       "        vertical-align: top;\n",
       "    }\n",
       "\n",
       "    .dataframe thead th {\n",
       "        text-align: right;\n",
       "    }\n",
       "</style>\n",
       "<table border=\"1\" class=\"dataframe\">\n",
       "  <thead>\n",
       "    <tr style=\"text-align: right;\">\n",
       "      <th></th>\n",
       "      <th>track_id</th>\n",
       "      <th>artists</th>\n",
       "      <th>album_name</th>\n",
       "      <th>track_name</th>\n",
       "      <th>popularity</th>\n",
       "      <th>duration_ms</th>\n",
       "      <th>explicit</th>\n",
       "      <th>danceability</th>\n",
       "      <th>energy</th>\n",
       "      <th>key</th>\n",
       "      <th>loudness</th>\n",
       "      <th>mode</th>\n",
       "      <th>speechiness</th>\n",
       "      <th>acousticness</th>\n",
       "      <th>instrumentalness</th>\n",
       "      <th>liveness</th>\n",
       "      <th>valence</th>\n",
       "      <th>tempo</th>\n",
       "      <th>time_signature</th>\n",
       "      <th>track_genre</th>\n",
       "    </tr>\n",
       "  </thead>\n",
       "  <tbody>\n",
       "    <tr>\n",
       "      <th>0</th>\n",
       "      <td>5SuOikwiRyPMVoIQDJUgSV</td>\n",
       "      <td>Gen Hoshino</td>\n",
       "      <td>Comedy</td>\n",
       "      <td>Comedy</td>\n",
       "      <td>73</td>\n",
       "      <td>230666</td>\n",
       "      <td>False</td>\n",
       "      <td>0.676</td>\n",
       "      <td>0.4610</td>\n",
       "      <td>1</td>\n",
       "      <td>-6.746</td>\n",
       "      <td>0</td>\n",
       "      <td>0.1430</td>\n",
       "      <td>0.0322</td>\n",
       "      <td>0.000001</td>\n",
       "      <td>0.3580</td>\n",
       "      <td>0.715</td>\n",
       "      <td>87.917</td>\n",
       "      <td>4</td>\n",
       "      <td>acoustic</td>\n",
       "    </tr>\n",
       "    <tr>\n",
       "      <th>1</th>\n",
       "      <td>4qPNDBW1i3p13qLCt0Ki3A</td>\n",
       "      <td>Ben Woodward</td>\n",
       "      <td>Ghost (Acoustic)</td>\n",
       "      <td>Ghost - Acoustic</td>\n",
       "      <td>55</td>\n",
       "      <td>149610</td>\n",
       "      <td>False</td>\n",
       "      <td>0.420</td>\n",
       "      <td>0.1660</td>\n",
       "      <td>1</td>\n",
       "      <td>-17.235</td>\n",
       "      <td>1</td>\n",
       "      <td>0.0763</td>\n",
       "      <td>0.9240</td>\n",
       "      <td>0.000006</td>\n",
       "      <td>0.1010</td>\n",
       "      <td>0.267</td>\n",
       "      <td>77.489</td>\n",
       "      <td>4</td>\n",
       "      <td>acoustic</td>\n",
       "    </tr>\n",
       "    <tr>\n",
       "      <th>2</th>\n",
       "      <td>1iJBSr7s7jYXzM8EGcbK5b</td>\n",
       "      <td>Ingrid Michaelson;ZAYN</td>\n",
       "      <td>To Begin Again</td>\n",
       "      <td>To Begin Again</td>\n",
       "      <td>57</td>\n",
       "      <td>210826</td>\n",
       "      <td>False</td>\n",
       "      <td>0.438</td>\n",
       "      <td>0.3590</td>\n",
       "      <td>0</td>\n",
       "      <td>-9.734</td>\n",
       "      <td>1</td>\n",
       "      <td>0.0557</td>\n",
       "      <td>0.2100</td>\n",
       "      <td>0.000000</td>\n",
       "      <td>0.1170</td>\n",
       "      <td>0.120</td>\n",
       "      <td>76.332</td>\n",
       "      <td>4</td>\n",
       "      <td>acoustic</td>\n",
       "    </tr>\n",
       "    <tr>\n",
       "      <th>3</th>\n",
       "      <td>6lfxq3CG4xtTiEg7opyCyx</td>\n",
       "      <td>Kina Grannis</td>\n",
       "      <td>Crazy Rich Asians (Original Motion Picture Sou...</td>\n",
       "      <td>Can't Help Falling In Love</td>\n",
       "      <td>71</td>\n",
       "      <td>201933</td>\n",
       "      <td>False</td>\n",
       "      <td>0.266</td>\n",
       "      <td>0.0596</td>\n",
       "      <td>0</td>\n",
       "      <td>-18.515</td>\n",
       "      <td>1</td>\n",
       "      <td>0.0363</td>\n",
       "      <td>0.9050</td>\n",
       "      <td>0.000071</td>\n",
       "      <td>0.1320</td>\n",
       "      <td>0.143</td>\n",
       "      <td>181.740</td>\n",
       "      <td>3</td>\n",
       "      <td>acoustic</td>\n",
       "    </tr>\n",
       "    <tr>\n",
       "      <th>4</th>\n",
       "      <td>5vjLSffimiIP26QG5WcN2K</td>\n",
       "      <td>Chord Overstreet</td>\n",
       "      <td>Hold On</td>\n",
       "      <td>Hold On</td>\n",
       "      <td>82</td>\n",
       "      <td>198853</td>\n",
       "      <td>False</td>\n",
       "      <td>0.618</td>\n",
       "      <td>0.4430</td>\n",
       "      <td>2</td>\n",
       "      <td>-9.681</td>\n",
       "      <td>1</td>\n",
       "      <td>0.0526</td>\n",
       "      <td>0.4690</td>\n",
       "      <td>0.000000</td>\n",
       "      <td>0.0829</td>\n",
       "      <td>0.167</td>\n",
       "      <td>119.949</td>\n",
       "      <td>4</td>\n",
       "      <td>acoustic</td>\n",
       "    </tr>\n",
       "  </tbody>\n",
       "</table>\n",
       "</div>"
      ],
      "text/plain": [
       "                 track_id                 artists  \\\n",
       "0  5SuOikwiRyPMVoIQDJUgSV             Gen Hoshino   \n",
       "1  4qPNDBW1i3p13qLCt0Ki3A            Ben Woodward   \n",
       "2  1iJBSr7s7jYXzM8EGcbK5b  Ingrid Michaelson;ZAYN   \n",
       "3  6lfxq3CG4xtTiEg7opyCyx            Kina Grannis   \n",
       "4  5vjLSffimiIP26QG5WcN2K        Chord Overstreet   \n",
       "\n",
       "                                          album_name  \\\n",
       "0                                             Comedy   \n",
       "1                                   Ghost (Acoustic)   \n",
       "2                                     To Begin Again   \n",
       "3  Crazy Rich Asians (Original Motion Picture Sou...   \n",
       "4                                            Hold On   \n",
       "\n",
       "                   track_name  popularity  duration_ms  explicit  \\\n",
       "0                      Comedy          73       230666     False   \n",
       "1            Ghost - Acoustic          55       149610     False   \n",
       "2              To Begin Again          57       210826     False   \n",
       "3  Can't Help Falling In Love          71       201933     False   \n",
       "4                     Hold On          82       198853     False   \n",
       "\n",
       "   danceability  energy  key  loudness  mode  speechiness  acousticness  \\\n",
       "0         0.676  0.4610    1    -6.746     0       0.1430        0.0322   \n",
       "1         0.420  0.1660    1   -17.235     1       0.0763        0.9240   \n",
       "2         0.438  0.3590    0    -9.734     1       0.0557        0.2100   \n",
       "3         0.266  0.0596    0   -18.515     1       0.0363        0.9050   \n",
       "4         0.618  0.4430    2    -9.681     1       0.0526        0.4690   \n",
       "\n",
       "   instrumentalness  liveness  valence    tempo  time_signature track_genre  \n",
       "0          0.000001    0.3580    0.715   87.917               4    acoustic  \n",
       "1          0.000006    0.1010    0.267   77.489               4    acoustic  \n",
       "2          0.000000    0.1170    0.120   76.332               4    acoustic  \n",
       "3          0.000071    0.1320    0.143  181.740               3    acoustic  \n",
       "4          0.000000    0.0829    0.167  119.949               4    acoustic  "
      ]
     },
     "execution_count": 5,
     "metadata": {},
     "output_type": "execute_result"
    }
   ],
   "source": [
    "data.head()"
   ]
  },
  {
   "cell_type": "markdown",
   "id": "22f1e524",
   "metadata": {
    "papermill": {
     "duration": 0.003215,
     "end_time": "2025-05-06T18:53:13.584498",
     "exception": false,
     "start_time": "2025-05-06T18:53:13.581283",
     "status": "completed"
    },
    "tags": []
   },
   "source": [
    "# Check Feature Correlations"
   ]
  },
  {
   "cell_type": "code",
   "execution_count": 6,
   "id": "ebb1bf66",
   "metadata": {
    "papermill": {
     "duration": 3.076665,
     "end_time": "2025-05-06T18:53:16.664994",
     "exception": false,
     "start_time": "2025-05-06T18:53:13.588329",
     "status": "completed"
    },
    "tags": []
   },
   "outputs": [
    {
     "name": "stderr",
     "output_type": "stream",
     "text": [
      "/tmp/ipykernel_4556/3425715054.py:14: SettingWithCopyWarning: \n",
      "A value is trying to be set on a copy of a slice from a DataFrame.\n",
      "Try using .loc[row_indexer,col_indexer] = value instead\n",
      "\n",
      "See the caveats in the documentation: https://pandas.pydata.org/pandas-docs/stable/user_guide/indexing.html#returning-a-view-versus-a-copy\n",
      "  numerical_data[numeric_features] = scaler.fit_transform(numerical_data[numeric_features])\n",
      "/tmp/ipykernel_4556/3425715054.py:15: SettingWithCopyWarning: \n",
      "A value is trying to be set on a copy of a slice from a DataFrame.\n",
      "Try using .loc[row_indexer,col_indexer] = value instead\n",
      "\n",
      "See the caveats in the documentation: https://pandas.pydata.org/pandas-docs/stable/user_guide/indexing.html#returning-a-view-versus-a-copy\n",
      "  numerical_data['tempo'] = ( numerical_data['tempo'] - numerical_data['tempo'].min() ) / (numerical_data['tempo'].max() - numerical_data['tempo'].min())\n"
     ]
    }
   ],
   "source": [
    "import seaborn as sns\n",
    "import matplotlib.pyplot as plt\n",
    "import plotly.express as px\n",
    "from sklearn.preprocessing import StandardScaler\n",
    "from sklearn.compose import ColumnTransformer\n",
    "from sklearn.pipeline import Pipeline\n",
    "\n",
    "data.drop_duplicates(subset=['track_name', 'artists'], keep='first', inplace=True)\n",
    "data.reset_index(drop=True, inplace=True)  # fix indices after removing duplicates\n",
    "\n",
    "numerical_data = data[['track_genre', 'energy', 'danceability', 'loudness', 'popularity', 'speechiness', 'acousticness', 'instrumentalness', 'liveness', 'valence', 'tempo', 'popularity', 'duration_ms', 'key', 'mode', 'time_signature']]\n",
    "numeric_features = data.select_dtypes(include=['int64', 'float64']).columns\n",
    "scaler = StandardScaler()\n",
    "numerical_data[numeric_features] = scaler.fit_transform(numerical_data[numeric_features])\n",
    "numerical_data['tempo'] = ( numerical_data['tempo'] - numerical_data['tempo'].min() ) / (numerical_data['tempo'].max() - numerical_data['tempo'].min())\n",
    "# numerical_data['loudness'] = ( numerical_data['loudness'] - numerical_data['loudness'].mean() ) / numerical_data['loudness'].std()\n",
    "\n",
    "features = ['track_genre', 'danceability', 'loudness', 'speechiness', 'acousticness', 'instrumentalness', 'liveness', 'valence', 'tempo']\n",
    "feature_data = numerical_data[features]\n",
    "# feature_data['tempo'] = ( feature_data['tempo'] - feature_data['tempo'].min() ) / (feature_data['tempo'].max() - feature_data['tempo'].min())\n",
    "# feature_data['loudness'] = ( feature_data['loudness'] - feature_data['loudness'].min() ) / (feature_data['loudness'].max() - feature_data['loudness'].min())\n",
    "# feature_data['loudness'] = ( feature_data['loudness'] - feature_data['loudness'].mean() ) / feature_data['loudness'].std()"
   ]
  },
  {
   "cell_type": "code",
   "execution_count": 7,
   "id": "06d38596",
   "metadata": {
    "papermill": {
     "duration": 0.651507,
     "end_time": "2025-05-06T18:53:17.320221",
     "exception": false,
     "start_time": "2025-05-06T18:53:16.668714",
     "status": "completed"
    },
    "tags": []
   },
   "outputs": [
    {
     "data": {
      "text/plain": [
       "(array([ 0.5,  1.5,  2.5,  3.5,  4.5,  5.5,  6.5,  7.5,  8.5,  9.5, 10.5,\n",
       "        11.5, 12.5, 13.5, 14.5]),\n",
       " [Text(0.5, 0, 'energy'),\n",
       "  Text(1.5, 0, 'danceability'),\n",
       "  Text(2.5, 0, 'loudness'),\n",
       "  Text(3.5, 0, 'popularity'),\n",
       "  Text(4.5, 0, 'speechiness'),\n",
       "  Text(5.5, 0, 'acousticness'),\n",
       "  Text(6.5, 0, 'instrumentalness'),\n",
       "  Text(7.5, 0, 'liveness'),\n",
       "  Text(8.5, 0, 'valence'),\n",
       "  Text(9.5, 0, 'tempo'),\n",
       "  Text(10.5, 0, 'popularity'),\n",
       "  Text(11.5, 0, 'duration_ms'),\n",
       "  Text(12.5, 0, 'key'),\n",
       "  Text(13.5, 0, 'mode'),\n",
       "  Text(14.5, 0, 'time_signature')])"
      ]
     },
     "execution_count": 7,
     "metadata": {},
     "output_type": "execute_result"
    },
    {
     "data": {
      "image/png": "[encoded data removed]",
      "text/plain": [
       "<Figure size 1100x900 with 2 Axes>"
      ]
     },
     "metadata": {},
     "output_type": "display_data"
    }
   ],
   "source": [
    "f, ax = plt.subplots(figsize=(11, 9))\n",
    "cmap = sns.diverging_palette(230, 20, as_cmap=True)\n",
    "sns.heatmap(numerical_data.loc[:, numerical_data.columns != 'track_genre'].corr(), cmap=cmap).set(title='Correlation Matrix')\n",
    "plt.xticks(rotation=45)"
   ]
  },
  {
   "cell_type": "markdown",
   "id": "d37a1fcc",
   "metadata": {
    "papermill": {
     "duration": 0.005036,
     "end_time": "2025-05-06T18:53:17.331027",
     "exception": false,
     "start_time": "2025-05-06T18:53:17.325991",
     "status": "completed"
    },
    "tags": []
   },
   "source": [
    "# Visulize Feature Distributions"
   ]
  },
  {
   "cell_type": "markdown",
   "id": "2689cfc6",
   "metadata": {
    "papermill": {
     "duration": 0.004786,
     "end_time": "2025-05-06T18:53:17.340790",
     "exception": false,
     "start_time": "2025-05-06T18:53:17.336004",
     "status": "completed"
    },
    "tags": []
   },
   "source": [
    "## Features of a song based on their genre"
   ]
  },
  {
   "cell_type": "code",
   "execution_count": 8,
   "id": "4e4fb5ae",
   "metadata": {
    "papermill": {
     "duration": 0.227133,
     "end_time": "2025-05-06T18:53:17.572911",
     "exception": false,
     "start_time": "2025-05-06T18:53:17.345778",
     "status": "completed"
    },
    "tags": []
   },
   "outputs": [
    {
     "data": {
      "text/html": [
       "<div>\n",
       "<style scoped>\n",
       "    .dataframe tbody tr th:only-of-type {\n",
       "        vertical-align: middle;\n",
       "    }\n",
       "\n",
       "    .dataframe tbody tr th {\n",
       "        vertical-align: top;\n",
       "    }\n",
       "\n",
       "    .dataframe thead th {\n",
       "        text-align: right;\n",
       "    }\n",
       "</style>\n",
       "<table border=\"1\" class=\"dataframe\">\n",
       "  <thead>\n",
       "    <tr style=\"text-align: right;\">\n",
       "      <th></th>\n",
       "      <th>track_id</th>\n",
       "      <th>artists</th>\n",
       "      <th>album_name</th>\n",
       "      <th>track_name</th>\n",
       "      <th>popularity</th>\n",
       "      <th>duration_ms</th>\n",
       "      <th>explicit</th>\n",
       "      <th>danceability</th>\n",
       "      <th>energy</th>\n",
       "      <th>key</th>\n",
       "      <th>loudness</th>\n",
       "      <th>mode</th>\n",
       "      <th>speechiness</th>\n",
       "      <th>acousticness</th>\n",
       "      <th>instrumentalness</th>\n",
       "      <th>liveness</th>\n",
       "      <th>valence</th>\n",
       "      <th>tempo</th>\n",
       "      <th>time_signature</th>\n",
       "    </tr>\n",
       "    <tr>\n",
       "      <th>track_genre</th>\n",
       "      <th></th>\n",
       "      <th></th>\n",
       "      <th></th>\n",
       "      <th></th>\n",
       "      <th></th>\n",
       "      <th></th>\n",
       "      <th></th>\n",
       "      <th></th>\n",
       "      <th></th>\n",
       "      <th></th>\n",
       "      <th></th>\n",
       "      <th></th>\n",
       "      <th></th>\n",
       "      <th></th>\n",
       "      <th></th>\n",
       "      <th></th>\n",
       "      <th></th>\n",
       "      <th></th>\n",
       "      <th></th>\n",
       "    </tr>\n",
       "  </thead>\n",
       "  <tbody>\n",
       "    <tr>\n",
       "      <th>acoustic</th>\n",
       "      <td>941</td>\n",
       "      <td>330</td>\n",
       "      <td>690</td>\n",
       "      <td>911</td>\n",
       "      <td>62</td>\n",
       "      <td>919</td>\n",
       "      <td>2</td>\n",
       "      <td>409</td>\n",
       "      <td>565</td>\n",
       "      <td>12</td>\n",
       "      <td>907</td>\n",
       "      <td>2</td>\n",
       "      <td>377</td>\n",
       "      <td>615</td>\n",
       "      <td>492</td>\n",
       "      <td>388</td>\n",
       "      <td>566</td>\n",
       "      <td>933</td>\n",
       "      <td>4</td>\n",
       "    </tr>\n",
       "    <tr>\n",
       "      <th>afrobeat</th>\n",
       "      <td>953</td>\n",
       "      <td>343</td>\n",
       "      <td>491</td>\n",
       "      <td>947</td>\n",
       "      <td>55</td>\n",
       "      <td>936</td>\n",
       "      <td>2</td>\n",
       "      <td>413</td>\n",
       "      <td>488</td>\n",
       "      <td>12</td>\n",
       "      <td>900</td>\n",
       "      <td>2</td>\n",
       "      <td>552</td>\n",
       "      <td>723</td>\n",
       "      <td>677</td>\n",
       "      <td>527</td>\n",
       "      <td>520</td>\n",
       "      <td>936</td>\n",
       "      <td>4</td>\n",
       "    </tr>\n",
       "    <tr>\n",
       "      <th>alt-rock</th>\n",
       "      <td>798</td>\n",
       "      <td>342</td>\n",
       "      <td>472</td>\n",
       "      <td>792</td>\n",
       "      <td>55</td>\n",
       "      <td>782</td>\n",
       "      <td>2</td>\n",
       "      <td>404</td>\n",
       "      <td>439</td>\n",
       "      <td>12</td>\n",
       "      <td>750</td>\n",
       "      <td>2</td>\n",
       "      <td>439</td>\n",
       "      <td>678</td>\n",
       "      <td>521</td>\n",
       "      <td>476</td>\n",
       "      <td>552</td>\n",
       "      <td>791</td>\n",
       "      <td>5</td>\n",
       "    </tr>\n",
       "    <tr>\n",
       "      <th>alternative</th>\n",
       "      <td>238</td>\n",
       "      <td>110</td>\n",
       "      <td>157</td>\n",
       "      <td>235</td>\n",
       "      <td>50</td>\n",
       "      <td>234</td>\n",
       "      <td>2</td>\n",
       "      <td>197</td>\n",
       "      <td>198</td>\n",
       "      <td>12</td>\n",
       "      <td>229</td>\n",
       "      <td>2</td>\n",
       "      <td>204</td>\n",
       "      <td>223</td>\n",
       "      <td>140</td>\n",
       "      <td>176</td>\n",
       "      <td>209</td>\n",
       "      <td>232</td>\n",
       "      <td>4</td>\n",
       "    </tr>\n",
       "    <tr>\n",
       "      <th>ambient</th>\n",
       "      <td>937</td>\n",
       "      <td>325</td>\n",
       "      <td>521</td>\n",
       "      <td>918</td>\n",
       "      <td>72</td>\n",
       "      <td>924</td>\n",
       "      <td>2</td>\n",
       "      <td>496</td>\n",
       "      <td>652</td>\n",
       "      <td>12</td>\n",
       "      <td>923</td>\n",
       "      <td>2</td>\n",
       "      <td>325</td>\n",
       "      <td>421</td>\n",
       "      <td>425</td>\n",
       "      <td>360</td>\n",
       "      <td>562</td>\n",
       "      <td>929</td>\n",
       "      <td>5</td>\n",
       "    </tr>\n",
       "    <tr>\n",
       "      <th>...</th>\n",
       "      <td>...</td>\n",
       "      <td>...</td>\n",
       "      <td>...</td>\n",
       "      <td>...</td>\n",
       "      <td>...</td>\n",
       "      <td>...</td>\n",
       "      <td>...</td>\n",
       "      <td>...</td>\n",
       "      <td>...</td>\n",
       "      <td>...</td>\n",
       "      <td>...</td>\n",
       "      <td>...</td>\n",
       "      <td>...</td>\n",
       "      <td>...</td>\n",
       "      <td>...</td>\n",
       "      <td>...</td>\n",
       "      <td>...</td>\n",
       "      <td>...</td>\n",
       "      <td>...</td>\n",
       "    </tr>\n",
       "    <tr>\n",
       "      <th>techno</th>\n",
       "      <td>401</td>\n",
       "      <td>264</td>\n",
       "      <td>352</td>\n",
       "      <td>399</td>\n",
       "      <td>54</td>\n",
       "      <td>400</td>\n",
       "      <td>2</td>\n",
       "      <td>246</td>\n",
       "      <td>276</td>\n",
       "      <td>12</td>\n",
       "      <td>396</td>\n",
       "      <td>2</td>\n",
       "      <td>270</td>\n",
       "      <td>363</td>\n",
       "      <td>294</td>\n",
       "      <td>260</td>\n",
       "      <td>327</td>\n",
       "      <td>346</td>\n",
       "      <td>4</td>\n",
       "    </tr>\n",
       "    <tr>\n",
       "      <th>trance</th>\n",
       "      <td>676</td>\n",
       "      <td>447</td>\n",
       "      <td>505</td>\n",
       "      <td>675</td>\n",
       "      <td>57</td>\n",
       "      <td>645</td>\n",
       "      <td>2</td>\n",
       "      <td>346</td>\n",
       "      <td>320</td>\n",
       "      <td>12</td>\n",
       "      <td>645</td>\n",
       "      <td>2</td>\n",
       "      <td>456</td>\n",
       "      <td>580</td>\n",
       "      <td>473</td>\n",
       "      <td>417</td>\n",
       "      <td>442</td>\n",
       "      <td>563</td>\n",
       "      <td>4</td>\n",
       "    </tr>\n",
       "    <tr>\n",
       "      <th>trip-hop</th>\n",
       "      <td>861</td>\n",
       "      <td>297</td>\n",
       "      <td>491</td>\n",
       "      <td>859</td>\n",
       "      <td>53</td>\n",
       "      <td>846</td>\n",
       "      <td>2</td>\n",
       "      <td>415</td>\n",
       "      <td>496</td>\n",
       "      <td>12</td>\n",
       "      <td>827</td>\n",
       "      <td>2</td>\n",
       "      <td>491</td>\n",
       "      <td>696</td>\n",
       "      <td>650</td>\n",
       "      <td>474</td>\n",
       "      <td>568</td>\n",
       "      <td>844</td>\n",
       "      <td>4</td>\n",
       "    </tr>\n",
       "    <tr>\n",
       "      <th>turkish</th>\n",
       "      <td>849</td>\n",
       "      <td>413</td>\n",
       "      <td>637</td>\n",
       "      <td>839</td>\n",
       "      <td>36</td>\n",
       "      <td>835</td>\n",
       "      <td>2</td>\n",
       "      <td>443</td>\n",
       "      <td>472</td>\n",
       "      <td>12</td>\n",
       "      <td>820</td>\n",
       "      <td>2</td>\n",
       "      <td>549</td>\n",
       "      <td>657</td>\n",
       "      <td>412</td>\n",
       "      <td>429</td>\n",
       "      <td>526</td>\n",
       "      <td>823</td>\n",
       "      <td>4</td>\n",
       "    </tr>\n",
       "    <tr>\n",
       "      <th>world-music</th>\n",
       "      <td>880</td>\n",
       "      <td>224</td>\n",
       "      <td>412</td>\n",
       "      <td>845</td>\n",
       "      <td>51</td>\n",
       "      <td>864</td>\n",
       "      <td>1</td>\n",
       "      <td>437</td>\n",
       "      <td>576</td>\n",
       "      <td>12</td>\n",
       "      <td>843</td>\n",
       "      <td>2</td>\n",
       "      <td>335</td>\n",
       "      <td>720</td>\n",
       "      <td>344</td>\n",
       "      <td>477</td>\n",
       "      <td>519</td>\n",
       "      <td>851</td>\n",
       "      <td>5</td>\n",
       "    </tr>\n",
       "  </tbody>\n",
       "</table>\n",
       "<p>113 rows × 19 columns</p>\n",
       "</div>"
      ],
      "text/plain": [
       "             track_id  artists  album_name  track_name  popularity  \\\n",
       "track_genre                                                          \n",
       "acoustic          941      330         690         911          62   \n",
       "afrobeat          953      343         491         947          55   \n",
       "alt-rock          798      342         472         792          55   \n",
       "alternative       238      110         157         235          50   \n",
       "ambient           937      325         521         918          72   \n",
       "...               ...      ...         ...         ...         ...   \n",
       "techno            401      264         352         399          54   \n",
       "trance            676      447         505         675          57   \n",
       "trip-hop          861      297         491         859          53   \n",
       "turkish           849      413         637         839          36   \n",
       "world-music       880      224         412         845          51   \n",
       "\n",
       "             duration_ms  explicit  danceability  energy  key  loudness  mode  \\\n",
       "track_genre                                                                     \n",
       "acoustic             919         2           409     565   12       907     2   \n",
       "afrobeat             936         2           413     488   12       900     2   \n",
       "alt-rock             782         2           404     439   12       750     2   \n",
       "alternative          234         2           197     198   12       229     2   \n",
       "ambient              924         2           496     652   12       923     2   \n",
       "...                  ...       ...           ...     ...  ...       ...   ...   \n",
       "techno               400         2           246     276   12       396     2   \n",
       "trance               645         2           346     320   12       645     2   \n",
       "trip-hop             846         2           415     496   12       827     2   \n",
       "turkish              835         2           443     472   12       820     2   \n",
       "world-music          864         1           437     576   12       843     2   \n",
       "\n",
       "             speechiness  acousticness  instrumentalness  liveness  valence  \\\n",
       "track_genre                                                                   \n",
       "acoustic             377           615               492       388      566   \n",
       "afrobeat             552           723               677       527      520   \n",
       "alt-rock             439           678               521       476      552   \n",
       "alternative          204           223               140       176      209   \n",
       "ambient              325           421               425       360      562   \n",
       "...                  ...           ...               ...       ...      ...   \n",
       "techno               270           363               294       260      327   \n",
       "trance               456           580               473       417      442   \n",
       "trip-hop             491           696               650       474      568   \n",
       "turkish              549           657               412       429      526   \n",
       "world-music          335           720               344       477      519   \n",
       "\n",
       "             tempo  time_signature  \n",
       "track_genre                         \n",
       "acoustic       933               4  \n",
       "afrobeat       936               4  \n",
       "alt-rock       791               5  \n",
       "alternative    232               4  \n",
       "ambient        929               5  \n",
       "...            ...             ...  \n",
       "techno         346               4  \n",
       "trance         563               4  \n",
       "trip-hop       844               4  \n",
       "turkish        823               4  \n",
       "world-music    851               5  \n",
       "\n",
       "[113 rows x 19 columns]"
      ]
     },
     "execution_count": 8,
     "metadata": {},
     "output_type": "execute_result"
    }
   ],
   "source": [
    "data.groupby('track_genre').nunique()"
   ]
  },
  {
   "cell_type": "code",
   "execution_count": 9,
   "id": "e1a49867",
   "metadata": {
    "papermill": {
     "duration": 2.114673,
     "end_time": "2025-05-06T18:53:19.695196",
     "exception": false,
     "start_time": "2025-05-06T18:53:17.580523",
     "status": "completed"
    },
    "tags": []
   },
   "outputs": [
    {
     "data": {
      "application/vnd.plotly.v1+json": {
       "config": {
        "plotlyServerURL": "https://plot.ly"
       },
       "data": [
        {
         "alignmentgroup": "True",
         "hovertemplate": "feature=valence<br>track_genre=%{x}<br>median_value=%{y}<extra></extra>",
         "legendgroup": "valence",
         "marker": {
          "color": "#636efa",
          "pattern": {
           "shape": ""
          }
         },
         "name": "valence",
         "offsetgroup": "valence",
         "orientation": "v",
         "showlegend": true,
         "textposition": "auto",
         "type": "bar",
         "x": [
          "study",
          "black-metal",
          "comedy",
          "heavy-metal",
          "bluegrass"
         ],
         "xaxis": "x",
         "y": {
          "bdata": "ccB926Ek07/aN0ap5ujyv5VEE2+Xwqu/q5n0MPm41L/EFEpdrJHoPw==",
          "dtype": "f8"
         },
         "yaxis": "y"
        },
        {
         "alignmentgroup": "True",
         "hovertemplate": "feature=danceability<br>track_genre=%{x}<br>median_value=%{y}<extra></extra>",
         "legendgroup": "danceability",
         "marker": {
          "color": "#EF553B",
          "pattern": {
           "shape": ""
          }
         },
         "name": "danceability",
         "offsetgroup": "danceability",
         "orientation": "v",
         "showlegend": true,
         "textposition": "auto",
         "type": "bar",
         "x": [
          "study",
          "black-metal",
          "comedy",
          "heavy-metal",
          "bluegrass"
         ],
         "xaxis": "x",
         "y": {
          "bdata": "AwvBymFv6D+Azffcpwz5v0G0cVJuA6w/55fK7q9k5L8YlkHFAgC2vw==",
          "dtype": "f8"
         },
         "yaxis": "y"
        },
        {
         "alignmentgroup": "True",
         "hovertemplate": "feature=acousticness<br>track_genre=%{x}<br>median_value=%{y}<extra></extra>",
         "legendgroup": "acousticness",
         "marker": {
          "color": "#00cc96",
          "pattern": {
           "shape": ""
          }
         },
         "name": "acousticness",
         "offsetgroup": "acousticness",
         "orientation": "v",
         "showlegend": true,
         "textposition": "auto",
         "type": "bar",
         "x": [
          "study",
          "black-metal",
          "comedy",
          "heavy-metal",
          "bluegrass"
         ],
         "xaxis": "x",
         "y": {
          "bdata": "yLdOQzyf5j/giK+x/Qbvv9tFwOTrRvY/O8mfrU/+7r9IYmfC80HpPw==",
          "dtype": "f8"
         },
         "yaxis": "y"
        },
        {
         "alignmentgroup": "True",
         "hovertemplate": "feature=liveness<br>track_genre=%{x}<br>median_value=%{y}<extra></extra>",
         "legendgroup": "liveness",
         "marker": {
          "color": "#ab63fa",
          "pattern": {
           "shape": ""
          }
         },
         "name": "liveness",
         "offsetgroup": "liveness",
         "orientation": "v",
         "showlegend": true,
         "textposition": "auto",
         "type": "bar",
         "x": [
          "study",
          "black-metal",
          "comedy",
          "heavy-metal",
          "bluegrass"
         ],
         "xaxis": "x",
         "y": {
          "bdata": "4qNlWCAQ4b943lx+Veu/vzYKU6R4CAVAeN5cflXrv7+Rs09jNXHYvw==",
          "dtype": "f8"
         },
         "yaxis": "y"
        },
        {
         "alignmentgroup": "True",
         "hovertemplate": "feature=tempo<br>track_genre=%{x}<br>median_value=%{y}<extra></extra>",
         "legendgroup": "tempo",
         "marker": {
          "color": "#FFA15A",
          "pattern": {
           "shape": ""
          }
         },
         "name": "tempo",
         "offsetgroup": "tempo",
         "orientation": "v",
         "showlegend": true,
         "textposition": "auto",
         "type": "bar",
         "x": [
          "study",
          "black-metal",
          "comedy",
          "heavy-metal",
          "bluegrass"
         ],
         "xaxis": "x",
         "y": {
          "bdata": "6v3MEDU02D+gJP30qtvgPy47KmFhyNg/AxqOObPU4D9nLYterlrgPw==",
          "dtype": "f8"
         },
         "yaxis": "y"
        },
        {
         "alignmentgroup": "True",
         "hovertemplate": "feature=popularity<br>track_genre=%{x}<br>median_value=%{y}<extra></extra>",
         "legendgroup": "popularity",
         "marker": {
          "color": "#19d3f3",
          "pattern": {
           "shape": ""
          }
         },
         "name": "popularity",
         "offsetgroup": "popularity",
         "orientation": "v",
         "showlegend": true,
         "textposition": "auto",
         "type": "bar",
         "x": [
          "study",
          "black-metal",
          "comedy",
          "heavy-metal",
          "bluegrass",
          "study",
          "black-metal",
          "comedy",
          "heavy-metal",
          "bluegrass"
         ],
         "xaxis": "x",
         "y": {
          "bdata": "TggQ0yrZ1b8FREArcL3pv9u1Q5y5J+O/27VDnLkn479RkoT4S4Lhv04IENMq2dW/BURAK3C96b/btUOcuSfjv9u1Q5y5J+O/UZKE+EuC4b8=",
          "dtype": "f8"
         },
         "yaxis": "y"
        },
        {
         "alignmentgroup": "True",
         "hovertemplate": "feature=time_signature<br>track_genre=%{x}<br>median_value=%{y}<extra></extra>",
         "legendgroup": "time_signature",
         "marker": {
          "color": "#FF6692",
          "pattern": {
           "shape": ""
          }
         },
         "name": "time_signature",
         "offsetgroup": "time_signature",
         "orientation": "v",
         "showlegend": true,
         "textposition": "auto",
         "type": "bar",
         "x": [
          "study",
          "black-metal",
          "comedy",
          "heavy-metal",
          "bluegrass"
         ],
         "xaxis": "x",
         "y": {
          "bdata": "9mK2DnHlzD/2YrYOceXMP/Zitg5x5cw/9mK2DnHlzD/2YrYOceXMPw==",
          "dtype": "f8"
         },
         "yaxis": "y"
        }
       ],
       "layout": {
        "barmode": "group",
        "legend": {
         "title": {
          "text": "feature"
         },
         "tracegroupgap": 0
        },
        "template": {
         "data": {
          "bar": [
           {
            "error_x": {
             "color": "#2a3f5f"
            },
            "error_y": {
             "color": "#2a3f5f"
            },
            "marker": {
             "line": {
              "color": "#E5ECF6",
              "width": 0.5
             },
             "pattern": {
              "fillmode": "overlay",
              "size": 10,
              "solidity": 0.2
             }
            },
            "type": "bar"
           }
          ],
          "barpolar": [
           {
            "marker": {
             "line": {
              "color": "#E5ECF6",
              "width": 0.5
             },
             "pattern": {
              "fillmode": "overlay",
              "size": 10,
              "solidity": 0.2
             }
            },
            "type": "barpolar"
           }
          ],
          "carpet": [
           {
            "aaxis": {
             "endlinecolor": "#2a3f5f",
             "gridcolor": "white",
             "linecolor": "white",
             "minorgridcolor": "white",
             "startlinecolor": "#2a3f5f"
            },
            "baxis": {
             "endlinecolor": "#2a3f5f",
             "gridcolor": "white",
             "linecolor": "white",
             "minorgridcolor": "white",
             "startlinecolor": "#2a3f5f"
            },
            "type": "carpet"
           }
          ],
          "choropleth": [
           {
            "colorbar": {
             "outlinewidth": 0,
             "ticks": ""
            },
            "type": "choropleth"
           }
          ],
          "contour": [
           {
            "colorbar": {
             "outlinewidth": 0,
             "ticks": ""
            },
            "colorscale": [
             [
              0,
              "#0d0887"
             ],
             [
              0.1111111111111111,
              "#46039f"
             ],
             [
              0.2222222222222222,
              "#7201a8"
             ],
             [
              0.3333333333333333,
              "#9c179e"
             ],
             [
              0.4444444444444444,
              "#bd3786"
             ],
             [
              0.5555555555555556,
              "#d8576b"
             ],
             [
              0.6666666666666666,
              "#ed7953"
             ],
             [
              0.7777777777777778,
              "#fb9f3a"
             ],
             [
              0.8888888888888888,
              "#fdca26"
             ],
             [
              1,
              "#f0f921"
             ]
            ],
            "type": "contour"
           }
          ],
          "contourcarpet": [
           {
            "colorbar": {
             "outlinewidth": 0,
             "ticks": ""
            },
            "type": "contourcarpet"
           }
          ],
          "heatmap": [
           {
            "colorbar": {
             "outlinewidth": 0,
             "ticks": ""
            },
            "colorscale": [
             [
              0,
              "#0d0887"
             ],
             [
              0.1111111111111111,
              "#46039f"
             ],
             [
              0.2222222222222222,
              "#7201a8"
             ],
             [
              0.3333333333333333,
              "#9c179e"
             ],
             [
              0.4444444444444444,
              "#bd3786"
             ],
             [
              0.5555555555555556,
              "#d8576b"
             ],
             [
              0.6666666666666666,
              "#ed7953"
             ],
             [
              0.7777777777777778,
              "#fb9f3a"
             ],
             [
              0.8888888888888888,
              "#fdca26"
             ],
             [
              1,
              "#f0f921"
             ]
            ],
            "type": "heatmap"
           }
          ],
          "histogram": [
           {
            "marker": {
             "pattern": {
              "fillmode": "overlay",
              "size": 10,
              "solidity": 0.2
             }
            },
            "type": "histogram"
           }
          ],
          "histogram2d": [
           {
            "colorbar": {
             "outlinewidth": 0,
             "ticks": ""
            },
            "colorscale": [
             [
              0,
              "#0d0887"
             ],
             [
              0.1111111111111111,
              "#46039f"
             ],
             [
              0.2222222222222222,
              "#7201a8"
             ],
             [
              0.3333333333333333,
              "#9c179e"
             ],
             [
              0.4444444444444444,
              "#bd3786"
             ],
             [
              0.5555555555555556,
              "#d8576b"
             ],
             [
              0.6666666666666666,
              "#ed7953"
             ],
             [
              0.7777777777777778,
              "#fb9f3a"
             ],
             [
              0.8888888888888888,
              "#fdca26"
             ],
             [
              1,
              "#f0f921"
             ]
            ],
            "type": "histogram2d"
           }
          ],
          "histogram2dcontour": [
           {
            "colorbar": {
             "outlinewidth": 0,
             "ticks": ""
            },
            "colorscale": [
             [
              0,
              "#0d0887"
             ],
             [
              0.1111111111111111,
              "#46039f"
             ],
             [
              0.2222222222222222,
              "#7201a8"
             ],
             [
              0.3333333333333333,
              "#9c179e"
             ],
             [
              0.4444444444444444,
              "#bd3786"
             ],
             [
              0.5555555555555556,
              "#d8576b"
             ],
             [
              0.6666666666666666,
              "#ed7953"
             ],
             [
              0.7777777777777778,
              "#fb9f3a"
             ],
             [
              0.8888888888888888,
              "#fdca26"
             ],
             [
              1,
              "#f0f921"
             ]
            ],
            "type": "histogram2dcontour"
           }
          ],
          "mesh3d": [
           {
            "colorbar": {
             "outlinewidth": 0,
             "ticks": ""
            },
            "type": "mesh3d"
           }
          ],
          "parcoords": [
           {
            "line": {
             "colorbar": {
              "outlinewidth": 0,
              "ticks": ""
             }
            },
            "type": "parcoords"
           }
          ],
          "pie": [
           {
            "automargin": true,
            "type": "pie"
           }
          ],
          "scatter": [
           {
            "fillpattern": {
             "fillmode": "overlay",
             "size": 10,
             "solidity": 0.2
            },
            "type": "scatter"
           }
          ],
          "scatter3d": [
           {
            "line": {
             "colorbar": {
              "outlinewidth": 0,
              "ticks": ""
             }
            },
            "marker": {
             "colorbar": {
              "outlinewidth": 0,
              "ticks": ""
             }
            },
            "type": "scatter3d"
           }
          ],
          "scattercarpet": [
           {
            "marker": {
             "colorbar": {
              "outlinewidth": 0,
              "ticks": ""
             }
            },
            "type": "scattercarpet"
           }
          ],
          "scattergeo": [
           {
            "marker": {
             "colorbar": {
              "outlinewidth": 0,
              "ticks": ""
             }
            },
            "type": "scattergeo"
           }
          ],
          "scattergl": [
           {
            "marker": {
             "colorbar": {
              "outlinewidth": 0,
              "ticks": ""
             }
            },
            "type": "scattergl"
           }
          ],
          "scattermap": [
           {
            "marker": {
             "colorbar": {
              "outlinewidth": 0,
              "ticks": ""
             }
            },
            "type": "scattermap"
           }
          ],
          "scattermapbox": [
           {
            "marker": {
             "colorbar": {
              "outlinewidth": 0,
              "ticks": ""
             }
            },
            "type": "scattermapbox"
           }
          ],
          "scatterpolar": [
           {
            "marker": {
             "colorbar": {
              "outlinewidth": 0,
              "ticks": ""
             }
            },
            "type": "scatterpolar"
           }
          ],
          "scatterpolargl": [
           {
            "marker": {
             "colorbar": {
              "outlinewidth": 0,
              "ticks": ""
             }
            },
            "type": "scatterpolargl"
           }
          ],
          "scatterternary": [
           {
            "marker": {
             "colorbar": {
              "outlinewidth": 0,
              "ticks": ""
             }
            },
            "type": "scatterternary"
           }
          ],
          "surface": [
           {
            "colorbar": {
             "outlinewidth": 0,
             "ticks": ""
            },
            "colorscale": [
             [
              0,
              "#0d0887"
             ],
             [
              0.1111111111111111,
              "#46039f"
             ],
             [
              0.2222222222222222,
              "#7201a8"
             ],
             [
              0.3333333333333333,
              "#9c179e"
             ],
             [
              0.4444444444444444,
              "#bd3786"
             ],
             [
              0.5555555555555556,
              "#d8576b"
             ],
             [
              0.6666666666666666,
              "#ed7953"
             ],
             [
              0.7777777777777778,
              "#fb9f3a"
             ],
             [
              0.8888888888888888,
              "#fdca26"
             ],
             [
              1,
              "#f0f921"
             ]
            ],
            "type": "surface"
           }
          ],
          "table": [
           {
            "cells": {
             "fill": {
              "color": "#EBF0F8"
             },
             "line": {
              "color": "white"
             }
            },
            "header": {
             "fill": {
              "color": "#C8D4E3"
             },
             "line": {
              "color": "white"
             }
            },
            "type": "table"
           }
          ]
         },
         "layout": {
          "annotationdefaults": {
           "arrowcolor": "#2a3f5f",
           "arrowhead": 0,
           "arrowwidth": 1
          },
          "autotypenumbers": "strict",
          "coloraxis": {
           "colorbar": {
            "outlinewidth": 0,
            "ticks": ""
           }
          },
          "colorscale": {
           "diverging": [
            [
             0,
             "#8e0152"
            ],
            [
             0.1,
             "#c51b7d"
            ],
            [
             0.2,
             "#de77ae"
            ],
            [
             0.3,
             "#f1b6da"
            ],
            [
             0.4,
             "#fde0ef"
            ],
            [
             0.5,
             "#f7f7f7"
            ],
            [
             0.6,
             "#e6f5d0"
            ],
            [
             0.7,
             "#b8e186"
            ],
            [
             0.8,
             "#7fbc41"
            ],
            [
             0.9,
             "#4d9221"
            ],
            [
             1,
             "#276419"
            ]
           ],
           "sequential": [
            [
             0,
             "#0d0887"
            ],
            [
             0.1111111111111111,
             "#46039f"
            ],
            [
             0.2222222222222222,
             "#7201a8"
            ],
            [
             0.3333333333333333,
             "#9c179e"
            ],
            [
             0.4444444444444444,
             "#bd3786"
            ],
            [
             0.5555555555555556,
             "#d8576b"
            ],
            [
             0.6666666666666666,
             "#ed7953"
            ],
            [
             0.7777777777777778,
             "#fb9f3a"
            ],
            [
             0.8888888888888888,
             "#fdca26"
            ],
            [
             1,
             "#f0f921"
            ]
           ],
           "sequentialminus": [
            [
             0,
             "#0d0887"
            ],
            [
             0.1111111111111111,
             "#46039f"
            ],
            [
             0.2222222222222222,
             "#7201a8"
            ],
            [
             0.3333333333333333,
             "#9c179e"
            ],
            [
             0.4444444444444444,
             "#bd3786"
            ],
            [
             0.5555555555555556,
             "#d8576b"
            ],
            [
             0.6666666666666666,
             "#ed7953"
            ],
            [
             0.7777777777777778,
             "#fb9f3a"
            ],
            [
             0.8888888888888888,
             "#fdca26"
            ],
            [
             1,
             "#f0f921"
            ]
           ]
          },
          "colorway": [
           "#636efa",
           "#EF553B",
           "#00cc96",
           "#ab63fa",
           "#FFA15A",
           "#19d3f3",
           "#FF6692",
           "#B6E880",
           "#FF97FF",
           "#FECB52"
          ],
          "font": {
           "color": "#2a3f5f"
          },
          "geo": {
           "bgcolor": "white",
           "lakecolor": "white",
           "landcolor": "#E5ECF6",
           "showlakes": true,
           "showland": true,
           "subunitcolor": "white"
          },
          "hoverlabel": {
           "align": "left"
          },
          "hovermode": "closest",
          "mapbox": {
           "style": "light"
          },
          "paper_bgcolor": "white",
          "plot_bgcolor": "#E5ECF6",
          "polar": {
           "angularaxis": {
            "gridcolor": "white",
            "linecolor": "white",
            "ticks": ""
           },
           "bgcolor": "#E5ECF6",
           "radialaxis": {
            "gridcolor": "white",
            "linecolor": "white",
            "ticks": ""
           }
          },
          "scene": {
           "xaxis": {
            "backgroundcolor": "#E5ECF6",
            "gridcolor": "white",
            "gridwidth": 2,
            "linecolor": "white",
            "showbackground": true,
            "ticks": "",
            "zerolinecolor": "white"
           },
           "yaxis": {
            "backgroundcolor": "#E5ECF6",
            "gridcolor": "white",
            "gridwidth": 2,
            "linecolor": "white",
            "showbackground": true,
            "ticks": "",
            "zerolinecolor": "white"
           },
           "zaxis": {
            "backgroundcolor": "#E5ECF6",
            "gridcolor": "white",
            "gridwidth": 2,
            "linecolor": "white",
            "showbackground": true,
            "ticks": "",
            "zerolinecolor": "white"
           }
          },
          "shapedefaults": {
           "line": {
            "color": "#2a3f5f"
           }
          },
          "ternary": {
           "aaxis": {
            "gridcolor": "white",
            "linecolor": "white",
            "ticks": ""
           },
           "baxis": {
            "gridcolor": "white",
            "linecolor": "white",
            "ticks": ""
           },
           "bgcolor": "#E5ECF6",
           "caxis": {
            "gridcolor": "white",
            "linecolor": "white",
            "ticks": ""
           }
          },
          "title": {
           "x": 0.05
          },
          "xaxis": {
           "automargin": true,
           "gridcolor": "white",
           "linecolor": "white",
           "ticks": "",
           "title": {
            "standoff": 15
           },
           "zerolinecolor": "white",
           "zerolinewidth": 2
          },
          "yaxis": {
           "automargin": true,
           "gridcolor": "white",
           "linecolor": "white",
           "ticks": "",
           "title": {
            "standoff": 15
           },
           "zerolinecolor": "white",
           "zerolinewidth": 2
          }
         }
        },
        "title": {
         "text": "Median audio‑features for top 8 different genres"
        },
        "xaxis": {
         "anchor": "y",
         "domain": [
          0,
          1
         ],
         "title": {
          "text": "track_genre"
         }
        },
        "yaxis": {
         "anchor": "x",
         "domain": [
          0,
          1
         ],
         "title": {
          "text": "median_value"
         }
        }
       }
      },
      "image/png": "[encoded data removed]"
     },
     "metadata": {},
     "output_type": "display_data"
    }
   ],
   "source": [
    "# 1. Compute medians per genre\n",
    "med_songs = numerical_data.groupby('track_genre')[\n",
    "    ['valence','danceability','acousticness','liveness', 'tempo', 'popularity', 'time_signature']\n",
    "].median()\n",
    "\n",
    "# 2. Find the N genres with the most tracks\n",
    "top_genres = (\n",
    "    numerical_data['track_genre']\n",
    "    .value_counts()\n",
    "    .nlargest(5)\n",
    "    .index\n",
    "    .tolist()\n",
    ")\n",
    "\n",
    "# 3. Select only those genres’ medians\n",
    "selected = med_songs.loc[top_genres]\n",
    "\n",
    "# 4. Melt to “long” form for px.bar\n",
    "df_long = (\n",
    "    selected\n",
    "    .reset_index()\n",
    "    .melt(id_vars='track_genre',\n",
    "          var_name='feature',\n",
    "          value_name='median_value')\n",
    ")\n",
    "\n",
    "# 5. Plot\n",
    "fig = px.bar(\n",
    "    df_long,\n",
    "    x='track_genre',\n",
    "    y='median_value',\n",
    "    color='feature',\n",
    "    barmode='group',\n",
    "    title='Median audio‑features for top 8 different genres'\n",
    ")\n",
    "fig.show()"
   ]
  },
  {
   "cell_type": "code",
   "execution_count": 15,
   "id": "ff179632",
   "metadata": {
    "papermill": {
     "duration": 0.639092,
     "end_time": "2025-05-06T18:53:20.340798",
     "exception": false,
     "start_time": "2025-05-06T18:53:19.701706",
     "status": "completed"
    },
    "tags": []
   },
   "outputs": [
    {
     "data": {
      "application/vnd.plotly.v1+json": {
       "config": {
        "plotlyServerURL": "https://plot.ly"
       },
       "data": [
        {
         "hovertemplate": "color=black-metal<br>0=%{x}<br>1=%{y}<br>2=%{z}<extra></extra>",
         "legendgroup": "black-metal",
         "marker": {
          "color": "#636efa",
          "symbol": "circle"
         },
         "mode": "markers",
         "name": "black-metal",
         "scene": "scene",
         "showlegend": true,
         "type": "scatter3d",
         "x": {
          "bdata": "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",
          "dtype": "f8"
         },
         "y": {
          "bdata": "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",
          "dtype": "f8"
         },
         "z": {
          "bdata": "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",
          "dtype": "f8"
         }
        },
        {
         "hovertemplate": "color=bluegrass<br>0=%{x}<br>1=%{y}<br>2=%{z}<extra></extra>",
         "legendgroup": "bluegrass",
         "marker": {
          "color": "#EF553B",
          "symbol": "circle"
         },
         "mode": "markers",
         "name": "bluegrass",
         "scene": "scene",
         "showlegend": true,
         "type": "scatter3d",
         "x": {
          "bdata": "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",
          "dtype": "f8"
         },
         "y": {
          "bdata": "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",
          "dtype": "f8"
         },
         "z": {
          "bdata": "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",
          "dtype": "f8"
         }
        },
        {
         "hovertemplate": "color=comedy<br>0=%{x}<br>1=%{y}<br>2=%{z}<extra></extra>",
         "legendgroup": "comedy",
         "marker": {
          "color": "#00cc96",
          "symbol": "circle"
         },
         "mode": "markers",
         "name": "comedy",
         "scene": "scene",
         "showlegend": true,
         "type": "scatter3d",
         "x": {
          "bdata": "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",
          "dtype": "f8"
         },
         "y": {
          "bdata": "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",
          "dtype": "f8"
         },
         "z": {
          "bdata": "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",
          "dtype": "f8"
         }
        },
        {
         "hovertemplate": "color=heavy-metal<br>0=%{x}<br>1=%{y}<br>2=%{z}<extra></extra>",
         "legendgroup": "heavy-metal",
         "marker": {
          "color": "#ab63fa",
          "symbol": "circle"
         },
         "mode": "markers",
         "name": "heavy-metal",
         "scene": "scene",
         "showlegend": true,
         "type": "scatter3d",
         "x": {
          "bdata": "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",
          "dtype": "f8"
         },
         "y": {
          "bdata": "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",
          "dtype": "f8"
         },
         "z": {
          "bdata": "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",
          "dtype": "f8"
         }
        },
        {
         "hovertemplate": "color=study<br>0=%{x}<br>1=%{y}<br>2=%{z}<extra></extra>",
         "legendgroup": "study",
         "marker": {
          "color": "#FFA15A",
          "symbol": "circle"
         },
         "mode": "markers",
         "name": "study",
         "scene": "scene",
         "showlegend": true,
         "type": "scatter3d",
         "x": {
          "bdata": "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",
          "dtype": "f8"
         },
         "y": {
          "bdata": "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",
          "dtype": "f8"
         },
         "z": {
          "bdata": "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",
          "dtype": "f8"
         }
        }
       ],
       "layout": {
        "legend": {
         "title": {
          "text": "color"
         },
         "tracegroupgap": 0
        },
        "scene": {
         "domain": {
          "x": [
           0,
           1
          ],
          "y": [
           0,
           1
          ]
         },
         "xaxis": {
          "title": {
           "text": "0"
          }
         },
         "yaxis": {
          "title": {
           "text": "1"
          }
         },
         "zaxis": {
          "title": {
           "text": "2"
          }
         }
        },
        "template": {
         "data": {
          "bar": [
           {
            "error_x": {
             "color": "#2a3f5f"
            },
            "error_y": {
             "color": "#2a3f5f"
            },
            "marker": {
             "line": {
              "color": "#E5ECF6",
              "width": 0.5
             },
             "pattern": {
              "fillmode": "overlay",
              "size": 10,
              "solidity": 0.2
             }
            },
            "type": "bar"
           }
          ],
          "barpolar": [
           {
            "marker": {
             "line": {
              "color": "#E5ECF6",
              "width": 0.5
             },
             "pattern": {
              "fillmode": "overlay",
              "size": 10,
              "solidity": 0.2
             }
            },
            "type": "barpolar"
           }
          ],
          "carpet": [
           {
            "aaxis": {
             "endlinecolor": "#2a3f5f",
             "gridcolor": "white",
             "linecolor": "white",
             "minorgridcolor": "white",
             "startlinecolor": "#2a3f5f"
            },
            "baxis": {
             "endlinecolor": "#2a3f5f",
             "gridcolor": "white",
             "linecolor": "white",
             "minorgridcolor": "white",
             "startlinecolor": "#2a3f5f"
            },
            "type": "carpet"
           }
          ],
          "choropleth": [
           {
            "colorbar": {
             "outlinewidth": 0,
             "ticks": ""
            },
            "type": "choropleth"
           }
          ],
          "contour": [
           {
            "colorbar": {
             "outlinewidth": 0,
             "ticks": ""
            },
            "colorscale": [
             [
              0,
              "#0d0887"
             ],
             [
              0.1111111111111111,
              "#46039f"
             ],
             [
              0.2222222222222222,
              "#7201a8"
             ],
             [
              0.3333333333333333,
              "#9c179e"
             ],
             [
              0.4444444444444444,
              "#bd3786"
             ],
             [
              0.5555555555555556,
              "#d8576b"
             ],
             [
              0.6666666666666666,
              "#ed7953"
             ],
             [
              0.7777777777777778,
              "#fb9f3a"
             ],
             [
              0.8888888888888888,
              "#fdca26"
             ],
             [
              1,
              "#f0f921"
             ]
            ],
            "type": "contour"
           }
          ],
          "contourcarpet": [
           {
            "colorbar": {
             "outlinewidth": 0,
             "ticks": ""
            },
            "type": "contourcarpet"
           }
          ],
          "heatmap": [
           {
            "colorbar": {
             "outlinewidth": 0,
             "ticks": ""
            },
            "colorscale": [
             [
              0,
              "#0d0887"
             ],
             [
              0.1111111111111111,
              "#46039f"
             ],
             [
              0.2222222222222222,
              "#7201a8"
             ],
             [
              0.3333333333333333,
              "#9c179e"
             ],
             [
              0.4444444444444444,
              "#bd3786"
             ],
             [
              0.5555555555555556,
              "#d8576b"
             ],
             [
              0.6666666666666666,
              "#ed7953"
             ],
             [
              0.7777777777777778,
              "#fb9f3a"
             ],
             [
              0.8888888888888888,
              "#fdca26"
             ],
             [
              1,
              "#f0f921"
             ]
            ],
            "type": "heatmap"
           }
          ],
          "histogram": [
           {
            "marker": {
             "pattern": {
              "fillmode": "overlay",
              "size": 10,
              "solidity": 0.2
             }
            },
            "type": "histogram"
           }
          ],
          "histogram2d": [
           {
            "colorbar": {
             "outlinewidth": 0,
             "ticks": ""
            },
            "colorscale": [
             [
              0,
              "#0d0887"
             ],
             [
              0.1111111111111111,
              "#46039f"
             ],
             [
              0.2222222222222222,
              "#7201a8"
             ],
             [
              0.3333333333333333,
              "#9c179e"
             ],
             [
              0.4444444444444444,
              "#bd3786"
             ],
             [
              0.5555555555555556,
              "#d8576b"
             ],
             [
              0.6666666666666666,
              "#ed7953"
             ],
             [
              0.7777777777777778,
              "#fb9f3a"
             ],
             [
              0.8888888888888888,
              "#fdca26"
             ],
             [
              1,
              "#f0f921"
             ]
            ],
            "type": "histogram2d"
           }
          ],
          "histogram2dcontour": [
           {
            "colorbar": {
             "outlinewidth": 0,
             "ticks": ""
            },
            "colorscale": [
             [
              0,
              "#0d0887"
             ],
             [
              0.1111111111111111,
              "#46039f"
             ],
             [
              0.2222222222222222,
              "#7201a8"
             ],
             [
              0.3333333333333333,
              "#9c179e"
             ],
             [
              0.4444444444444444,
              "#bd3786"
             ],
             [
              0.5555555555555556,
              "#d8576b"
             ],
             [
              0.6666666666666666,
              "#ed7953"
             ],
             [
              0.7777777777777778,
              "#fb9f3a"
             ],
             [
              0.8888888888888888,
              "#fdca26"
             ],
             [
              1,
              "#f0f921"
             ]
            ],
            "type": "histogram2dcontour"
           }
          ],
          "mesh3d": [
           {
            "colorbar": {
             "outlinewidth": 0,
             "ticks": ""
            },
            "type": "mesh3d"
           }
          ],
          "parcoords": [
           {
            "line": {
             "colorbar": {
              "outlinewidth": 0,
              "ticks": ""
             }
            },
            "type": "parcoords"
           }
          ],
          "pie": [
           {
            "automargin": true,
            "type": "pie"
           }
          ],
          "scatter": [
           {
            "fillpattern": {
             "fillmode": "overlay",
             "size": 10,
             "solidity": 0.2
            },
            "type": "scatter"
           }
          ],
          "scatter3d": [
           {
            "line": {
             "colorbar": {
              "outlinewidth": 0,
              "ticks": ""
             }
            },
            "marker": {
             "colorbar": {
              "outlinewidth": 0,
              "ticks": ""
             }
            },
            "type": "scatter3d"
           }
          ],
          "scattercarpet": [
           {
            "marker": {
             "colorbar": {
              "outlinewidth": 0,
              "ticks": ""
             }
            },
            "type": "scattercarpet"
           }
          ],
          "scattergeo": [
           {
            "marker": {
             "colorbar": {
              "outlinewidth": 0,
              "ticks": ""
             }
            },
            "type": "scattergeo"
           }
          ],
          "scattergl": [
           {
            "marker": {
             "colorbar": {
              "outlinewidth": 0,
              "ticks": ""
             }
            },
            "type": "scattergl"
           }
          ],
          "scattermap": [
           {
            "marker": {
             "colorbar": {
              "outlinewidth": 0,
              "ticks": ""
             }
            },
            "type": "scattermap"
           }
          ],
          "scattermapbox": [
           {
            "marker": {
             "colorbar": {
              "outlinewidth": 0,
              "ticks": ""
             }
            },
            "type": "scattermapbox"
           }
          ],
          "scatterpolar": [
           {
            "marker": {
             "colorbar": {
              "outlinewidth": 0,
              "ticks": ""
             }
            },
            "type": "scatterpolar"
           }
          ],
          "scatterpolargl": [
           {
            "marker": {
             "colorbar": {
              "outlinewidth": 0,
              "ticks": ""
             }
            },
            "type": "scatterpolargl"
           }
          ],
          "scatterternary": [
           {
            "marker": {
             "colorbar": {
              "outlinewidth": 0,
              "ticks": ""
             }
            },
            "type": "scatterternary"
           }
          ],
          "surface": [
           {
            "colorbar": {
             "outlinewidth": 0,
             "ticks": ""
            },
            "colorscale": [
             [
              0,
              "#0d0887"
             ],
             [
              0.1111111111111111,
              "#46039f"
             ],
             [
              0.2222222222222222,
              "#7201a8"
             ],
             [
              0.3333333333333333,
              "#9c179e"
             ],
             [
              0.4444444444444444,
              "#bd3786"
             ],
             [
              0.5555555555555556,
              "#d8576b"
             ],
             [
              0.6666666666666666,
              "#ed7953"
             ],
             [
              0.7777777777777778,
              "#fb9f3a"
             ],
             [
              0.8888888888888888,
              "#fdca26"
             ],
             [
              1,
              "#f0f921"
             ]
            ],
            "type": "surface"
           }
          ],
          "table": [
           {
            "cells": {
             "fill": {
              "color": "#EBF0F8"
             },
             "line": {
              "color": "white"
             }
            },
            "header": {
             "fill": {
              "color": "#C8D4E3"
             },
             "line": {
              "color": "white"
             }
            },
            "type": "table"
           }
          ]
         },
         "layout": {
          "annotationdefaults": {
           "arrowcolor": "#2a3f5f",
           "arrowhead": 0,
           "arrowwidth": 1
          },
          "autotypenumbers": "strict",
          "coloraxis": {
           "colorbar": {
            "outlinewidth": 0,
            "ticks": ""
           }
          },
          "colorscale": {
           "diverging": [
            [
             0,
             "#8e0152"
            ],
            [
             0.1,
             "#c51b7d"
            ],
            [
             0.2,
             "#de77ae"
            ],
            [
             0.3,
             "#f1b6da"
            ],
            [
             0.4,
             "#fde0ef"
            ],
            [
             0.5,
             "#f7f7f7"
            ],
            [
             0.6,
             "#e6f5d0"
            ],
            [
             0.7,
             "#b8e186"
            ],
            [
             0.8,
             "#7fbc41"
            ],
            [
             0.9,
             "#4d9221"
            ],
            [
             1,
             "#276419"
            ]
           ],
           "sequential": [
            [
             0,
             "#0d0887"
            ],
            [
             0.1111111111111111,
             "#46039f"
            ],
            [
             0.2222222222222222,
             "#7201a8"
            ],
            [
             0.3333333333333333,
             "#9c179e"
            ],
            [
             0.4444444444444444,
             "#bd3786"
            ],
            [
             0.5555555555555556,
             "#d8576b"
            ],
            [
             0.6666666666666666,
             "#ed7953"
            ],
            [
             0.7777777777777778,
             "#fb9f3a"
            ],
            [
             0.8888888888888888,
             "#fdca26"
            ],
            [
             1,
             "#f0f921"
            ]
           ],
           "sequentialminus": [
            [
             0,
             "#0d0887"
            ],
            [
             0.1111111111111111,
             "#46039f"
            ],
            [
             0.2222222222222222,
             "#7201a8"
            ],
            [
             0.3333333333333333,
             "#9c179e"
            ],
            [
             0.4444444444444444,
             "#bd3786"
            ],
            [
             0.5555555555555556,
             "#d8576b"
            ],
            [
             0.6666666666666666,
             "#ed7953"
            ],
            [
             0.7777777777777778,
             "#fb9f3a"
            ],
            [
             0.8888888888888888,
             "#fdca26"
            ],
            [
             1,
             "#f0f921"
            ]
           ]
          },
          "colorway": [
           "#636efa",
           "#EF553B",
           "#00cc96",
           "#ab63fa",
           "#FFA15A",
           "#19d3f3",
           "#FF6692",
           "#B6E880",
           "#FF97FF",
           "#FECB52"
          ],
          "font": {
           "color": "#2a3f5f"
          },
          "geo": {
           "bgcolor": "white",
           "lakecolor": "white",
           "landcolor": "#E5ECF6",
           "showlakes": true,
           "showland": true,
           "subunitcolor": "white"
          },
          "hoverlabel": {
           "align": "left"
          },
          "hovermode": "closest",
          "mapbox": {
           "style": "light"
          },
          "paper_bgcolor": "white",
          "plot_bgcolor": "#E5ECF6",
          "polar": {
           "angularaxis": {
            "gridcolor": "white",
            "linecolor": "white",
            "ticks": ""
           },
           "bgcolor": "#E5ECF6",
           "radialaxis": {
            "gridcolor": "white",
            "linecolor": "white",
            "ticks": ""
           }
          },
          "scene": {
           "xaxis": {
            "backgroundcolor": "#E5ECF6",
            "gridcolor": "white",
            "gridwidth": 2,
            "linecolor": "white",
            "showbackground": true,
            "ticks": "",
            "zerolinecolor": "white"
           },
           "yaxis": {
            "backgroundcolor": "#E5ECF6",
            "gridcolor": "white",
            "gridwidth": 2,
            "linecolor": "white",
            "showbackground": true,
            "ticks": "",
            "zerolinecolor": "white"
           },
           "zaxis": {
            "backgroundcolor": "#E5ECF6",
            "gridcolor": "white",
            "gridwidth": 2,
            "linecolor": "white",
            "showbackground": true,
            "ticks": "",
            "zerolinecolor": "white"
           }
          },
          "shapedefaults": {
           "line": {
            "color": "#2a3f5f"
           }
          },
          "ternary": {
           "aaxis": {
            "gridcolor": "white",
            "linecolor": "white",
            "ticks": ""
           },
           "baxis": {
            "gridcolor": "white",
            "linecolor": "white",
            "ticks": ""
           },
           "bgcolor": "#E5ECF6",
           "caxis": {
            "gridcolor": "white",
            "linecolor": "white",
            "ticks": ""
           }
          },
          "title": {
           "x": 0.05
          },
          "xaxis": {
           "automargin": true,
           "gridcolor": "white",
           "linecolor": "white",
           "ticks": "",
           "title": {
            "standoff": 15
           },
           "zerolinecolor": "white",
           "zerolinewidth": 2
          },
          "yaxis": {
           "automargin": true,
           "gridcolor": "white",
           "linecolor": "white",
           "ticks": "",
           "title": {
            "standoff": 15
           },
           "zerolinecolor": "white",
           "zerolinewidth": 2
          }
         }
        },
        "title": {
         "text": "PCA Plot of 5 Genres"
        }
       }
      },
      "image/png": "[encoded data removed]"
     },
     "metadata": {},
     "output_type": "display_data"
    }
   ],
   "source": [
    "from sklearn.decomposition import PCA\n",
    "\n",
    "top_genre_songs = numerical_data[numerical_data.track_genre.isin(top_genres)]\n",
    "\n",
    "pca = PCA(n_components=3)\n",
    "components = pca.fit_transform(top_genre_songs[['danceability', 'popularity', 'loudness', 'valence', 'tempo', 'acousticness']])\n",
    "\n",
    "fig = px.scatter_3d(components, x=0, y=1, z=2, color=top_genre_songs['track_genre'], title='PCA Plot of 5 Genres')\n",
    "fig.show()"
   ]
  },
  {
   "cell_type": "markdown",
   "id": "a3ad986b-49e2-47b5-8735-25a35777a0cc",
   "metadata": {
    "papermill": {
     "duration": 0.405536,
     "end_time": "2025-05-06T18:53:20.757102",
     "exception": false,
     "start_time": "2025-05-06T18:53:20.351566",
     "status": "completed"
    },
    "scrolled": true,
    "tags": []
   },
   "source": [
    "# 2. Filter the raw data to only those genres\n",
    "df = feature_data[feature_data['track_genre'].isin(top_genres)]\n",
    "\n",
    "# 3. Melt into long form so each row is one (genre, feature, value)\n",
    "df_long = (\n",
    "    df\n",
    "    .reset_index(drop=True)\n",
    "    .melt(\n",
    "        id_vars='track_genre',\n",
    "        value_vars=features,\n",
    "        var_name='feature',\n",
    "        value_name='value'\n",
    "    )\n",
    ")\n",
    "\n",
    "# 4a. Violin plot (shows density + box inside + points)\n",
    "fig = px.violin(\n",
    "    df_long,\n",
    "    x='track_genre',\n",
    "    y='value',\n",
    "    color='track_genre',\n",
    "    facet_col='feature',\n",
    "    facet_col_wrap=4,\n",
    "    box=True,           # draw a mini boxplot inside each violin\n",
    "    points='all',       # show all points\n",
    "    title='Distribution of Audio Features for Top 5 Genres',\n",
    "    width=1500,    # ← total figure width in pixels\n",
    "    height=700     # ← total figure height in pixels\n",
    ")\n",
    "fig.update_layout(showlegend=True)\n",
    "fig.update_yaxes(matches=None, showticklabels=True)\n",
    "fig.update_xaxes(tickangle=-45)\n",
    "fig.for_each_annotation(lambda a: a.update(text=a.text.split(\"=\")[-1]))\n",
    "fig.show()"
   ]
  },
  {
   "cell_type": "code",
   "execution_count": 9,
   "id": "8941d2a4",
   "metadata": {
    "papermill": {
     "duration": 1.960144,
     "end_time": "2025-05-06T18:53:22.743750",
     "exception": false,
     "start_time": "2025-05-06T18:53:20.783606",
     "status": "completed"
    },
    "tags": []
   },
   "outputs": [
    {
     "data": {
      "image/png": "[encoded data removed]",
      "text/plain": [
       "<Figure size 1600x800 with 8 Axes>"
      ]
     },
     "metadata": {},
     "output_type": "display_data"
    }
   ],
   "source": [
    "import numpy as np\n",
    "import matplotlib.pyplot as plt\n",
    "\n",
    "# 2) Create a 2×3 grid of subplots\n",
    "fig, axes = plt.subplots(2, 4, figsize=(16, 8))\n",
    "axes = axes.flatten()\n",
    "\n",
    "# 3) For each feature: compute histogram & outlier bounds, then plot\n",
    "for ax, feat in zip(axes, features[1:]):\n",
    "    data = feature_data[feat].dropna().values\n",
    "    \n",
    "    # Box‑plot outlier thresholds\n",
    "    q1, q3 = np.percentile(data, [25, 75])\n",
    "    iqr = q3 - q1\n",
    "    lower, upper = q1 - 1.5 * iqr, q3 + 1.5 * iqr\n",
    "    \n",
    "    # Build histogram\n",
    "    counts, edges = np.histogram(data, bins=45)\n",
    "    centers = (edges[:-1] + edges[1:]) / 2\n",
    "    width = edges[1] - edges[0]\n",
    "    \n",
    "    # Color bins outside [lower, upper] in red\n",
    "    mask_in = (centers >= lower) & (centers <= upper)\n",
    "    ax.bar(centers[mask_in],   counts[mask_in],   width=width, edgecolor='black')\n",
    "    ax.bar(centers[~mask_in],   counts[~mask_in],  width=width, color='red', edgecolor='black')\n",
    "    \n",
    "    # 🏷 Labels & title\n",
    "    ax.set_title(feat)\n",
    "    ax.set_xlabel('Value')\n",
    "    ax.set_ylabel('Count')\n",
    "\n",
    "plt.tight_layout()\n",
    "plt.show()\n"
   ]
  },
  {
   "cell_type": "code",
   "execution_count": null,
   "id": "dbca6e1b",
   "metadata": {
    "papermill": {
     "duration": 0.02707,
     "end_time": "2025-05-06T18:53:22.805834",
     "exception": false,
     "start_time": "2025-05-06T18:53:22.778764",
     "status": "completed"
    },
    "tags": []
   },
   "outputs": [],
   "source": []
  }
 ],
 "metadata": {
  "kaggle": {
   "accelerator": "none",
   "dataSources": [
    {
     "datasetId": 2570056,
     "sourceId": 4372070,
     "sourceType": "datasetVersion"
    }
   ],
   "dockerImageVersionId": 31012,
   "isGpuEnabled": false,
   "isInternetEnabled": false,
   "language": "python",
   "sourceType": "notebook"
  },
  "kernelspec": {
   "display_name": "Python 3 (ipykernel)",
   "language": "python",
   "name": "python3"
  },
  "language_info": {
   "codemirror_mode": {
    "name": "ipython",
    "version": 3
   },
   "file_extension": ".py",
   "mimetype": "text/x-python",
   "name": "python",
   "nbconvert_exporter": "python",
   "pygments_lexer": "ipython3",
   "version": "3.10.12"
  },
  "papermill": {
   "default_parameters": {},
   "duration": 17.956774,
   "end_time": "2025-05-06T18:53:23.754746",
   "environment_variables": {},
   "exception": null,
   "input_path": "__notebook__.ipynb",
   "output_path": "__notebook__.ipynb",
   "parameters": {},
   "start_time": "2025-05-06T18:53:05.797972",
   "version": "2.6.0"
  }
 },
 "nbformat": 4,
 "nbformat_minor": 5
}
