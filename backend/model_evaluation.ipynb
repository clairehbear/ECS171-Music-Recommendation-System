{
 "cells": [
  {
   "cell_type": "markdown",
   "id": "5107cd0d-ccf4-4d22-b87e-e8c9ebc7c0ff",
   "metadata": {},
   "source": [
    "# Model Evaluation\n",
    "Evaluating will be made up of the following two testing metrics for the 3 models.\n",
    "1. Silhouette Score\n",
    "2. Genre Evaluation\n",
    "\n",
    "Given that we were unable to train the hierarchical clustering model on the entire dataset (due to its relative inefficiency) we wll stick to evaluating the k-means and fuzzy c-means models."
   ]
  },
  {
   "cell_type": "code",
   "execution_count": 1,
   "id": "e4f07d5e-ce5e-491b-8f23-fda6d05e073b",
   "metadata": {},
   "outputs": [],
   "source": [
    "import numpy as np\n",
    "import pandas as pd\n",
    "import plotly.express as px\n",
    "import matplotlib.pyplot as plt\n",
    "from sklearn.cluster import KMeans\n",
    "from sklearn.metrics import silhouette_score\n",
    "from sklearn.preprocessing import StandardScaler\n",
    "from sklearn.decomposition import PCA\n",
    "from scipy.spatial.distance import correlation\n",
    "from tqdm.notebook import tqdm\n",
    "import pickle\n",
    "import os"
   ]
  },
  {
   "cell_type": "markdown",
   "id": "4202d54a-f44b-45aa-a065-b64038b1b949",
   "metadata": {},
   "source": [
    "# Load in Data"
   ]
  },
  {
   "cell_type": "markdown",
   "id": "26ef8ec2-b384-477d-9b3a-78a2b34f94ae",
   "metadata": {},
   "source": [
    "## Load song feature data "
   ]
  },
  {
   "cell_type": "code",
   "execution_count": 2,
   "id": "8c2e26f1-2d7c-4a30-aa0c-59bc630f9104",
   "metadata": {},
   "outputs": [],
   "source": [
    "data = pd.read_csv('..frontend/data/dataset.csv', index_col=0)\n",
    "data.drop_duplicates(subset='track_id', inplace=True)\n",
    "features = ['track_id', 'track_name', 'artists', 'popularity', 'track_genre', 'danceability', 'loudness', 'acousticness', 'valence', 'tempo']\n",
    "X = data[features].copy()\n",
    "X.drop_duplicates(subset=['track_name', 'artists'], keep='first', inplace=True)\n",
    "X.reset_index(drop=True, inplace=True)  # fix indices after removing duplicates\n",
    "\n",
    "# Standardize data\n",
    "scaler = StandardScaler()\n",
    "X_scaled = scaler.fit_transform(X[['popularity', 'danceability', 'loudness', 'acousticness', 'valence', 'tempo']])\n",
    "cos_scaled = X_scaled / np.linalg.norm(X_scaled, axis=1)[:, np.newaxis]"
   ]
  },
  {
   "cell_type": "code",
   "execution_count": 3,
   "id": "61d39857-a8fe-4edb-bf67-452520c8a0b4",
   "metadata": {},
   "outputs": [
    {
     "data": {
      "text/html": [
       "<div>\n",
       "<style scoped>\n",
       "    .dataframe tbody tr th:only-of-type {\n",
       "        vertical-align: middle;\n",
       "    }\n",
       "\n",
       "    .dataframe tbody tr th {\n",
       "        vertical-align: top;\n",
       "    }\n",
       "\n",
       "    .dataframe thead th {\n",
       "        text-align: right;\n",
       "    }\n",
       "</style>\n",
       "<table border=\"1\" class=\"dataframe\">\n",
       "  <thead>\n",
       "    <tr style=\"text-align: right;\">\n",
       "      <th></th>\n",
       "      <th>track_id</th>\n",
       "      <th>artists</th>\n",
       "      <th>album_name</th>\n",
       "      <th>track_name</th>\n",
       "      <th>popularity</th>\n",
       "      <th>duration_ms</th>\n",
       "      <th>explicit</th>\n",
       "      <th>danceability</th>\n",
       "      <th>energy</th>\n",
       "      <th>key</th>\n",
       "      <th>loudness</th>\n",
       "      <th>mode</th>\n",
       "      <th>speechiness</th>\n",
       "      <th>acousticness</th>\n",
       "      <th>instrumentalness</th>\n",
       "      <th>liveness</th>\n",
       "      <th>valence</th>\n",
       "      <th>tempo</th>\n",
       "      <th>time_signature</th>\n",
       "      <th>track_genre</th>\n",
       "    </tr>\n",
       "  </thead>\n",
       "  <tbody>\n",
       "    <tr>\n",
       "      <th>0</th>\n",
       "      <td>5SuOikwiRyPMVoIQDJUgSV</td>\n",
       "      <td>Gen Hoshino</td>\n",
       "      <td>Comedy</td>\n",
       "      <td>Comedy</td>\n",
       "      <td>73</td>\n",
       "      <td>230666</td>\n",
       "      <td>False</td>\n",
       "      <td>0.676</td>\n",
       "      <td>0.4610</td>\n",
       "      <td>1</td>\n",
       "      <td>-6.746</td>\n",
       "      <td>0</td>\n",
       "      <td>0.1430</td>\n",
       "      <td>0.0322</td>\n",
       "      <td>0.000001</td>\n",
       "      <td>0.3580</td>\n",
       "      <td>0.715</td>\n",
       "      <td>87.917</td>\n",
       "      <td>4</td>\n",
       "      <td>acoustic</td>\n",
       "    </tr>\n",
       "    <tr>\n",
       "      <th>1</th>\n",
       "      <td>4qPNDBW1i3p13qLCt0Ki3A</td>\n",
       "      <td>Ben Woodward</td>\n",
       "      <td>Ghost (Acoustic)</td>\n",
       "      <td>Ghost - Acoustic</td>\n",
       "      <td>55</td>\n",
       "      <td>149610</td>\n",
       "      <td>False</td>\n",
       "      <td>0.420</td>\n",
       "      <td>0.1660</td>\n",
       "      <td>1</td>\n",
       "      <td>-17.235</td>\n",
       "      <td>1</td>\n",
       "      <td>0.0763</td>\n",
       "      <td>0.9240</td>\n",
       "      <td>0.000006</td>\n",
       "      <td>0.1010</td>\n",
       "      <td>0.267</td>\n",
       "      <td>77.489</td>\n",
       "      <td>4</td>\n",
       "      <td>acoustic</td>\n",
       "    </tr>\n",
       "    <tr>\n",
       "      <th>2</th>\n",
       "      <td>1iJBSr7s7jYXzM8EGcbK5b</td>\n",
       "      <td>Ingrid Michaelson;ZAYN</td>\n",
       "      <td>To Begin Again</td>\n",
       "      <td>To Begin Again</td>\n",
       "      <td>57</td>\n",
       "      <td>210826</td>\n",
       "      <td>False</td>\n",
       "      <td>0.438</td>\n",
       "      <td>0.3590</td>\n",
       "      <td>0</td>\n",
       "      <td>-9.734</td>\n",
       "      <td>1</td>\n",
       "      <td>0.0557</td>\n",
       "      <td>0.2100</td>\n",
       "      <td>0.000000</td>\n",
       "      <td>0.1170</td>\n",
       "      <td>0.120</td>\n",
       "      <td>76.332</td>\n",
       "      <td>4</td>\n",
       "      <td>acoustic</td>\n",
       "    </tr>\n",
       "    <tr>\n",
       "      <th>3</th>\n",
       "      <td>6lfxq3CG4xtTiEg7opyCyx</td>\n",
       "      <td>Kina Grannis</td>\n",
       "      <td>Crazy Rich Asians (Original Motion Picture Sou...</td>\n",
       "      <td>Can't Help Falling In Love</td>\n",
       "      <td>71</td>\n",
       "      <td>201933</td>\n",
       "      <td>False</td>\n",
       "      <td>0.266</td>\n",
       "      <td>0.0596</td>\n",
       "      <td>0</td>\n",
       "      <td>-18.515</td>\n",
       "      <td>1</td>\n",
       "      <td>0.0363</td>\n",
       "      <td>0.9050</td>\n",
       "      <td>0.000071</td>\n",
       "      <td>0.1320</td>\n",
       "      <td>0.143</td>\n",
       "      <td>181.740</td>\n",
       "      <td>3</td>\n",
       "      <td>acoustic</td>\n",
       "    </tr>\n",
       "    <tr>\n",
       "      <th>4</th>\n",
       "      <td>5vjLSffimiIP26QG5WcN2K</td>\n",
       "      <td>Chord Overstreet</td>\n",
       "      <td>Hold On</td>\n",
       "      <td>Hold On</td>\n",
       "      <td>82</td>\n",
       "      <td>198853</td>\n",
       "      <td>False</td>\n",
       "      <td>0.618</td>\n",
       "      <td>0.4430</td>\n",
       "      <td>2</td>\n",
       "      <td>-9.681</td>\n",
       "      <td>1</td>\n",
       "      <td>0.0526</td>\n",
       "      <td>0.4690</td>\n",
       "      <td>0.000000</td>\n",
       "      <td>0.0829</td>\n",
       "      <td>0.167</td>\n",
       "      <td>119.949</td>\n",
       "      <td>4</td>\n",
       "      <td>acoustic</td>\n",
       "    </tr>\n",
       "  </tbody>\n",
       "</table>\n",
       "</div>"
      ],
      "text/plain": [
       "                 track_id                 artists  \\\n",
       "0  5SuOikwiRyPMVoIQDJUgSV             Gen Hoshino   \n",
       "1  4qPNDBW1i3p13qLCt0Ki3A            Ben Woodward   \n",
       "2  1iJBSr7s7jYXzM8EGcbK5b  Ingrid Michaelson;ZAYN   \n",
       "3  6lfxq3CG4xtTiEg7opyCyx            Kina Grannis   \n",
       "4  5vjLSffimiIP26QG5WcN2K        Chord Overstreet   \n",
       "\n",
       "                                          album_name  \\\n",
       "0                                             Comedy   \n",
       "1                                   Ghost (Acoustic)   \n",
       "2                                     To Begin Again   \n",
       "3  Crazy Rich Asians (Original Motion Picture Sou...   \n",
       "4                                            Hold On   \n",
       "\n",
       "                   track_name  popularity  duration_ms  explicit  \\\n",
       "0                      Comedy          73       230666     False   \n",
       "1            Ghost - Acoustic          55       149610     False   \n",
       "2              To Begin Again          57       210826     False   \n",
       "3  Can't Help Falling In Love          71       201933     False   \n",
       "4                     Hold On          82       198853     False   \n",
       "\n",
       "   danceability  energy  key  loudness  mode  speechiness  acousticness  \\\n",
       "0         0.676  0.4610    1    -6.746     0       0.1430        0.0322   \n",
       "1         0.420  0.1660    1   -17.235     1       0.0763        0.9240   \n",
       "2         0.438  0.3590    0    -9.734     1       0.0557        0.2100   \n",
       "3         0.266  0.0596    0   -18.515     1       0.0363        0.9050   \n",
       "4         0.618  0.4430    2    -9.681     1       0.0526        0.4690   \n",
       "\n",
       "   instrumentalness  liveness  valence    tempo  time_signature track_genre  \n",
       "0          0.000001    0.3580    0.715   87.917               4    acoustic  \n",
       "1          0.000006    0.1010    0.267   77.489               4    acoustic  \n",
       "2          0.000000    0.1170    0.120   76.332               4    acoustic  \n",
       "3          0.000071    0.1320    0.143  181.740               3    acoustic  \n",
       "4          0.000000    0.0829    0.167  119.949               4    acoustic  "
      ]
     },
     "execution_count": 3,
     "metadata": {},
     "output_type": "execute_result"
    }
   ],
   "source": [
    "data.head()"
   ]
  },
  {
   "cell_type": "markdown",
   "id": "0a922716-7774-45b6-b081-10323b807c1f",
   "metadata": {},
   "source": [
    "# Load in Models"
   ]
  },
  {
   "cell_type": "code",
   "execution_count": 4,
   "id": "668d7c46-460a-46ae-bab6-ef0ac37f54a7",
   "metadata": {},
   "outputs": [],
   "source": [
    "with open('models/eucd.pkl', 'rb') as file:\n",
    "    euc_model = pickle.load(file)\n",
    "with open('models/cos.pkl', 'rb') as file:\n",
    "    cos_model = pickle.load(file)\n",
    "with open('models/fuzzy.pkl', 'rb') as file:\n",
    "    (cntr, u) = pickle.load(file)"
   ]
  },
  {
   "cell_type": "code",
   "execution_count": 5,
   "id": "1b8c403b-3560-4fb2-adf8-814afddf2142",
   "metadata": {},
   "outputs": [],
   "source": [
    "results = X[['track_id', 'artists', 'track_name']].copy()\n",
    "results['euc_cluster'] = euc_model.predict(X_scaled).astype(str)\n",
    "results['cos_cluster'] = cos_model.predict(cos_scaled).astype(str)"
   ]
  },
  {
   "cell_type": "markdown",
   "id": "f34f9c09-3e2f-4ffe-a254-62a5d7a7f789",
   "metadata": {},
   "source": [
    "# 1. Compute Silhouette Scores "
   ]
  },
  {
   "cell_type": "code",
   "execution_count": 78,
   "id": "e23a2f8f-77d1-4822-9560-bfbfaeb75c5e",
   "metadata": {},
   "outputs": [
    {
     "data": {
      "text/plain": [
       "0.16670867125717742"
      ]
     },
     "execution_count": 78,
     "metadata": {},
     "output_type": "execute_result"
    }
   ],
   "source": [
    "silhouette_score(X_scaled, results['euc_cluster'])"
   ]
  },
  {
   "cell_type": "code",
   "execution_count": 79,
   "id": "9ebeb627-ba87-4b44-952f-a04992b09b7f",
   "metadata": {},
   "outputs": [
    {
     "data": {
      "text/plain": [
       "0.18433535862951692"
      ]
     },
     "execution_count": 79,
     "metadata": {},
     "output_type": "execute_result"
    }
   ],
   "source": [
    "silhouette_score(cos_scaled, results['cos_cluster'])"
   ]
  },
  {
   "cell_type": "code",
   "execution_count": 83,
   "id": "fc929618-136a-4bbc-b3d2-40af0d1caec7",
   "metadata": {},
   "outputs": [
    {
     "data": {
      "text/plain": [
       "0.16129094257774834"
      ]
     },
     "execution_count": 83,
     "metadata": {},
     "output_type": "execute_result"
    }
   ],
   "source": [
    "silhouette_score(X_scaled, np.argmax(u.T, axis=0))"
   ]
  },
  {
   "cell_type": "markdown",
   "id": "11465df6-884f-49f7-946d-556b99d32208",
   "metadata": {},
   "source": [
    "# 2. Compare with User-made Playlists"
   ]
  },
  {
   "cell_type": "markdown",
   "id": "e908eabf-ffeb-4d78-86f7-0bb1f043b3cb",
   "metadata": {},
   "source": [
    "## Load user playlist data"
   ]
  },
  {
   "cell_type": "code",
   "execution_count": 8,
   "id": "845a1ec0-9663-4065-a1a7-6b4014b31c3e",
   "metadata": {},
   "outputs": [],
   "source": [
    "playlists['track_name'] = playlists['track_name'].str.replace(r\"\\(.*\\)\",\"\", regex=True)"
   ]
  },
  {
   "cell_type": "code",
   "execution_count": 7,
   "id": "eaa496e8-7dee-4a36-93e8-5532f1dbce28",
   "metadata": {
    "scrolled": true
   },
   "outputs": [
    {
     "data": {
      "text/plain": [
       "0                                Red Shoes\n",
       "1            Peace, Love And Understanding\n",
       "2                         7 Years Too Late\n",
       "3                    Accidents Will Happen\n",
       "4                                   Alison\n",
       "                         ...              \n",
       "12901974                         Wild Side\n",
       "12901975                             Woman\n",
       "12901976       You Don't Know How It Feels\n",
       "12901977                      You Wreck Me\n",
       "12901978                   Youth Gone Wild\n",
       "Name: track_name, Length: 12901979, dtype: object"
      ]
     },
     "execution_count": 7,
     "metadata": {},
     "output_type": "execute_result"
    }
   ],
   "source": [
    "# Load first 1 million data points, excluding the user id\n",
    "playlists = pd.read_csv('..frontend/data/playlists_dataset.csv', on_bad_lines='skip', usecols=[' \"artistname\"', ' \"trackname\"', ' \"playlistname\"'])\n",
    "\n",
    "# Rename columns\n",
    "playlists.rename(columns={' \"artistname\"': 'artists', ' \"trackname\"': 'track_name', ' \"playlistname\"': 'playlist'}, inplace=True)\n",
    "\n",
    "# Remove all parantheticals in song names to treat more songs as the same\n",
    "playlists['track_name'] = playlists['track_name'].str.replace(r\"\\(.*\\)\",\"\", regex=True)"
   ]
  },
  {
   "cell_type": "markdown",
   "id": "ac4455b8-6e33-4889-9703-4632fd7daf72",
   "metadata": {},
   "source": [
    "## Find all the playlists containing songs in the original playlist"
   ]
  },
  {
   "cell_type": "code",
   "execution_count": 9,
   "id": "ef6a1949-b214-4376-9675-0928898eb6ae",
   "metadata": {},
   "outputs": [],
   "source": [
    "mixed_data = pd.merge(X, playlists, how='left', on=['artists', 'track_name'])\n",
    "mixed_data.drop_duplicates(subset=['track_id', 'playlist'], inplace=True)"
   ]
  },
  {
   "cell_type": "markdown",
   "id": "b52fdfaf-18a3-442e-bb39-ce3957223406",
   "metadata": {},
   "source": [
    "## Evaluate models based on playlist prediction"
   ]
  },
  {
   "cell_type": "code",
   "execution_count": 10,
   "id": "f38fe60c-3f9b-4195-a901-e6f5c86ff36e",
   "metadata": {},
   "outputs": [
    {
     "data": {
      "text/plain": [
       "721561"
      ]
     },
     "execution_count": 10,
     "metadata": {},
     "output_type": "execute_result"
    }
   ],
   "source": [
    "len(mixed_data)"
   ]
  },
  {
   "cell_type": "code",
   "execution_count": 19,
   "id": "329f6333-5b1e-44ad-9ff4-40fb2df86dc4",
   "metadata": {},
   "outputs": [],
   "source": [
    "evals = 100  # Number of songs to consider\n",
    "k = 5  # Number of songs to predict based on the given playlist\n",
    "p_length = 5  # Number of songs to pick from the playlist\n",
    "\n",
    "valid_lists = mixed_data.groupby(by='playlist').filter(lambda g: len(g) >= p_length + k)\n",
    "valid_playlists = valid_lists['playlist'].unique()"
   ]
  },
  {
   "cell_type": "code",
   "execution_count": 22,
   "id": "d9e74343-21de-4553-8a97-e3e48cd56bee",
   "metadata": {},
   "outputs": [
    {
     "data": {
      "application/vnd.jupyter.widget-view+json": {
       "model_id": "f557eddde64f4404bb59219cbcf84292",
       "version_major": 2,
       "version_minor": 0
      },
      "text/plain": [
       "  0%|          | 0/100 [00:00<?, ?it/s]"
      ]
     },
     "metadata": {},
     "output_type": "display_data"
    }
   ],
   "source": [
    "percentages = []\n",
    "np.random.seed(42)\n",
    "for _ in tqdm(range(evals)):\n",
    "    # Sample random playlist from the possible playlists\n",
    "    play = np.random.choice(valid_playlists)\n",
    "\n",
    "    # Sample a random playlist\n",
    "    total_playlist = valid_lists[valid_lists.playlist == play]\n",
    "\n",
    "    # Sample `p_length` songs from that playlist\n",
    "    playlist = valid_lists[valid_lists.playlist == play].sample(p_length).track_id\n",
    "\n",
    "    # Look up those songs in the catelog based on their id and find their index\n",
    "    playlist = results[results.track_id.isin(playlist)].index\n",
    "\n",
    "    # Find the majority cluster of the songs in the playlist\n",
    "    clusters = results.iloc[playlist]['cos_cluster']\n",
    "    majority = np.argmax(np.bincount(clusters))\n",
    "\n",
    "    # For each song in majority cluster, compute the correlation distance to each song in the playlist\n",
    "    song_score = []\n",
    "    indices = results[results['cos_cluster'] == str(majority)].index\n",
    "    for song in indices:\n",
    "        score = float('inf')\n",
    "        for liked_song in playlist:\n",
    "            score = min(score, correlation(cos_scaled[song], cos_scaled[liked_song])) # min(score, np.mean((X_scaled[song] - X_scaled[liked_song])**2))\n",
    "        song_score.append(score)\n",
    "\n",
    "    # Find the `k` most similar songs based on the correlation distance\n",
    "    most_similar = np.argpartition(song_score, kth=k+p_length)[:k+p_length]\n",
    "    songs = results.iloc[indices[most_similar]]\n",
    "    songs = songs[~songs.index.isin(playlist)][:k]\n",
    "\n",
    "    # Compute the percentage of the songs in the user-made playlists\n",
    "    inn = len(total_playlist[total_playlist.track_id.isin(songs.track_id)])\n",
    "    # display(X.iloc[indices[most_similar]])\n",
    "    # display(total_playlist)\n",
    "    percentages.append(inn)\n",
    "        "
   ]
  },
  {
   "cell_type": "code",
   "execution_count": null,
   "id": "0f65ea0b-1834-4223-8ebd-b447f6d25f04",
   "metadata": {},
   "outputs": [],
   "source": [
    "percentages = []\n",
    "np.random.seed(42)\n",
    "for _ in tqdm(range(evals)):\n",
    "    # Sample random playlist from the possible playlists\n",
    "    play = np.random.choice(valid_playlists)\n",
    "\n",
    "    # Sample a random playlist\n",
    "    total_playlist = valid_lists[valid_lists.playlist == play]\n",
    "\n",
    "    # Sample `p_length` songs from that playlist\n",
    "    playlist = valid_lists[valid_lists.playlist == play].sample(p_length).track_id\n",
    "\n",
    "    # Look up those songs in the catelog based on their id and find their index\n",
    "    playlist = results[results.track_id.isin(playlist)].index\n",
    "\n",
    "    indices = results.index\n",
    "    \n",
    "    # Compute song_score for each song in the same cluster\n",
    "    song_score = []\n",
    "    for song in indices:\n",
    "        score = float('inf')\n",
    "        for liked_song in playlist:\n",
    "            mse = u[song] @ u[liked_song].T\n",
    "            score = min(score, -mse)\n",
    "        song_score.append(score)\n",
    "\n",
    "    # Find the `k` most similar songs based on the correlation distance\n",
    "    most_similar = np.argpartition(song_score, kth=k+p_length)[:k+p_length]\n",
    "    songs = results.iloc[indices[most_similar]]\n",
    "    songs = songs[~songs.index.isin(playlist)][:k]\n",
    "\n",
    "    # Compute the percentage of the songs in the user-made playlists\n",
    "    inn = total_playlist[total_playlist.track_id.isin(songs.track_id)].count()\n",
    "    # display(X.iloc[indices[most_similar]])\n",
    "    # display(total_playlist)\n",
    "    percentages.append(inn)"
   ]
  },
  {
   "cell_type": "markdown",
   "id": "5157abb1-c6ee-4aee-b367-197e8f62eb6b",
   "metadata": {},
   "source": [
    "K-Means + Cosine Distance"
   ]
  },
  {
   "cell_type": "code",
   "execution_count": 23,
   "id": "7c6eba89-53d4-4521-8cf0-d8133bfb4bfb",
   "metadata": {},
   "outputs": [
    {
     "data": {
      "text/plain": [
       "0.002"
      ]
     },
     "execution_count": 23,
     "metadata": {},
     "output_type": "execute_result"
    }
   ],
   "source": [
    "sum(percentages) / ( k * evals )"
   ]
  },
  {
   "cell_type": "markdown",
   "id": "23ac8d90-aabb-4667-bef8-a12a539afba9",
   "metadata": {},
   "source": [
    "K-Means + Euclidean Distance"
   ]
  },
  {
   "cell_type": "code",
   "execution_count": 71,
   "id": "a7aa9ccd-971a-47be-9360-4a4ad503da1d",
   "metadata": {},
   "outputs": [
    {
     "data": {
      "text/plain": [
       "0.00125"
      ]
     },
     "execution_count": 71,
     "metadata": {},
     "output_type": "execute_result"
    }
   ],
   "source": [
    "sum(percentages) / ( k * evals )"
   ]
  },
  {
   "cell_type": "markdown",
   "id": "c615ec84-09a1-4171-9a1f-5f33a363fd6f",
   "metadata": {},
   "source": [
    "Soft K-Means"
   ]
  },
  {
   "cell_type": "code",
   "execution_count": 73,
   "id": "fa191af0-fd59-40e2-9cab-e45e39575085",
   "metadata": {},
   "outputs": [
    {
     "data": {
      "text/plain": [
       "0.0"
      ]
     },
     "execution_count": 73,
     "metadata": {},
     "output_type": "execute_result"
    }
   ],
   "source": [
    "sum(percentages) / ( k * evals )"
   ]
  },
  {
   "cell_type": "code",
   "execution_count": null,
   "id": "fe958ecc-7aa0-48fe-b12d-6647c50221d9",
   "metadata": {},
   "outputs": [],
   "source": []
  }
 ],
 "metadata": {
  "kernelspec": {
   "display_name": "Python 3 (ipykernel)",
   "language": "python",
   "name": "python3"
  },
  "language_info": {
   "codemirror_mode": {
    "name": "ipython",
    "version": 3
   },
   "file_extension": ".py",
   "mimetype": "text/x-python",
   "name": "python",
   "nbconvert_exporter": "python",
   "pygments_lexer": "ipython3",
   "version": "3.10.12"
  }
 },
 "nbformat": 4,
 "nbformat_minor": 5
}
