{
 "cells": [
  {
   "cell_type": "code",
   "execution_count": 3,
   "id": "2fa71709",
   "metadata": {
    "_cell_guid": "b1076dfc-b9ad-4769-8c92-a6c4dae69d19",
    "_uuid": "8f2839f25d086af736a60e9eeb907d3b93b6e0e5",
    "papermill": {
     "duration": 1.935689,
     "end_time": "2025-05-06T18:53:12.580485",
     "exception": false,
     "start_time": "2025-05-06T18:53:10.644796",
     "status": "completed"
    },
    "tags": []
   },
   "outputs": [],
   "source": [
    "import numpy as np\n",
    "import pandas as pd\n",
    "import os"
   ]
  },
  {
   "cell_type": "code",
   "execution_count": 4,
   "id": "7a67272d",
   "metadata": {
    "papermill": {
     "duration": 0.953417,
     "end_time": "2025-05-06T18:53:13.537646",
     "exception": false,
     "start_time": "2025-05-06T18:53:12.584229",
     "status": "completed"
    },
    "tags": []
   },
   "outputs": [
    {
     "data": {
      "text/plain": [
       "Index(['track_id', 'artists', 'album_name', 'track_name', 'popularity',\n",
       "       'duration_ms', 'explicit', 'danceability', 'energy', 'key', 'loudness',\n",
       "       'mode', 'speechiness', 'acousticness', 'instrumentalness', 'liveness',\n",
       "       'valence', 'tempo', 'time_signature', 'track_genre'],\n",
       "      dtype='object')"
      ]
     },
     "execution_count": 4,
     "metadata": {},
     "output_type": "execute_result"
    }
   ],
   "source": [
    "data = pd.read_csv('../frontend/data/dataset.csv', index_col=0)\n",
    "data.columns"
   ]
  },
  {
   "cell_type": "code",
   "execution_count": 5,
   "id": "c41d2be1",
   "metadata": {
    "papermill": {
     "duration": 0.036358,
     "end_time": "2025-05-06T18:53:13.577371",
     "exception": false,
     "start_time": "2025-05-06T18:53:13.541013",
     "status": "completed"
    },
    "tags": []
   },
   "outputs": [
    {
     "data": {
      "text/html": [
       "<div>\n",
       "<style scoped>\n",
       "    .dataframe tbody tr th:only-of-type {\n",
       "        vertical-align: middle;\n",
       "    }\n",
       "\n",
       "    .dataframe tbody tr th {\n",
       "        vertical-align: top;\n",
       "    }\n",
       "\n",
       "    .dataframe thead th {\n",
       "        text-align: right;\n",
       "    }\n",
       "</style>\n",
       "<table border=\"1\" class=\"dataframe\">\n",
       "  <thead>\n",
       "    <tr style=\"text-align: right;\">\n",
       "      <th></th>\n",
       "      <th>track_id</th>\n",
       "      <th>artists</th>\n",
       "      <th>album_name</th>\n",
       "      <th>track_name</th>\n",
       "      <th>popularity</th>\n",
       "      <th>duration_ms</th>\n",
       "      <th>explicit</th>\n",
       "      <th>danceability</th>\n",
       "      <th>energy</th>\n",
       "      <th>key</th>\n",
       "      <th>loudness</th>\n",
       "      <th>mode</th>\n",
       "      <th>speechiness</th>\n",
       "      <th>acousticness</th>\n",
       "      <th>instrumentalness</th>\n",
       "      <th>liveness</th>\n",
       "      <th>valence</th>\n",
       "      <th>tempo</th>\n",
       "      <th>time_signature</th>\n",
       "      <th>track_genre</th>\n",
       "    </tr>\n",
       "  </thead>\n",
       "  <tbody>\n",
       "    <tr>\n",
       "      <th>0</th>\n",
       "      <td>5SuOikwiRyPMVoIQDJUgSV</td>\n",
       "      <td>Gen Hoshino</td>\n",
       "      <td>Comedy</td>\n",
       "      <td>Comedy</td>\n",
       "      <td>73</td>\n",
       "      <td>230666</td>\n",
       "      <td>False</td>\n",
       "      <td>0.676</td>\n",
       "      <td>0.4610</td>\n",
       "      <td>1</td>\n",
       "      <td>-6.746</td>\n",
       "      <td>0</td>\n",
       "      <td>0.1430</td>\n",
       "      <td>0.0322</td>\n",
       "      <td>0.000001</td>\n",
       "      <td>0.3580</td>\n",
       "      <td>0.715</td>\n",
       "      <td>87.917</td>\n",
       "      <td>4</td>\n",
       "      <td>acoustic</td>\n",
       "    </tr>\n",
       "    <tr>\n",
       "      <th>1</th>\n",
       "      <td>4qPNDBW1i3p13qLCt0Ki3A</td>\n",
       "      <td>Ben Woodward</td>\n",
       "      <td>Ghost (Acoustic)</td>\n",
       "      <td>Ghost - Acoustic</td>\n",
       "      <td>55</td>\n",
       "      <td>149610</td>\n",
       "      <td>False</td>\n",
       "      <td>0.420</td>\n",
       "      <td>0.1660</td>\n",
       "      <td>1</td>\n",
       "      <td>-17.235</td>\n",
       "      <td>1</td>\n",
       "      <td>0.0763</td>\n",
       "      <td>0.9240</td>\n",
       "      <td>0.000006</td>\n",
       "      <td>0.1010</td>\n",
       "      <td>0.267</td>\n",
       "      <td>77.489</td>\n",
       "      <td>4</td>\n",
       "      <td>acoustic</td>\n",
       "    </tr>\n",
       "    <tr>\n",
       "      <th>2</th>\n",
       "      <td>1iJBSr7s7jYXzM8EGcbK5b</td>\n",
       "      <td>Ingrid Michaelson;ZAYN</td>\n",
       "      <td>To Begin Again</td>\n",
       "      <td>To Begin Again</td>\n",
       "      <td>57</td>\n",
       "      <td>210826</td>\n",
       "      <td>False</td>\n",
       "      <td>0.438</td>\n",
       "      <td>0.3590</td>\n",
       "      <td>0</td>\n",
       "      <td>-9.734</td>\n",
       "      <td>1</td>\n",
       "      <td>0.0557</td>\n",
       "      <td>0.2100</td>\n",
       "      <td>0.000000</td>\n",
       "      <td>0.1170</td>\n",
       "      <td>0.120</td>\n",
       "      <td>76.332</td>\n",
       "      <td>4</td>\n",
       "      <td>acoustic</td>\n",
       "    </tr>\n",
       "    <tr>\n",
       "      <th>3</th>\n",
       "      <td>6lfxq3CG4xtTiEg7opyCyx</td>\n",
       "      <td>Kina Grannis</td>\n",
       "      <td>Crazy Rich Asians (Original Motion Picture Sou...</td>\n",
       "      <td>Can't Help Falling In Love</td>\n",
       "      <td>71</td>\n",
       "      <td>201933</td>\n",
       "      <td>False</td>\n",
       "      <td>0.266</td>\n",
       "      <td>0.0596</td>\n",
       "      <td>0</td>\n",
       "      <td>-18.515</td>\n",
       "      <td>1</td>\n",
       "      <td>0.0363</td>\n",
       "      <td>0.9050</td>\n",
       "      <td>0.000071</td>\n",
       "      <td>0.1320</td>\n",
       "      <td>0.143</td>\n",
       "      <td>181.740</td>\n",
       "      <td>3</td>\n",
       "      <td>acoustic</td>\n",
       "    </tr>\n",
       "    <tr>\n",
       "      <th>4</th>\n",
       "      <td>5vjLSffimiIP26QG5WcN2K</td>\n",
       "      <td>Chord Overstreet</td>\n",
       "      <td>Hold On</td>\n",
       "      <td>Hold On</td>\n",
       "      <td>82</td>\n",
       "      <td>198853</td>\n",
       "      <td>False</td>\n",
       "      <td>0.618</td>\n",
       "      <td>0.4430</td>\n",
       "      <td>2</td>\n",
       "      <td>-9.681</td>\n",
       "      <td>1</td>\n",
       "      <td>0.0526</td>\n",
       "      <td>0.4690</td>\n",
       "      <td>0.000000</td>\n",
       "      <td>0.0829</td>\n",
       "      <td>0.167</td>\n",
       "      <td>119.949</td>\n",
       "      <td>4</td>\n",
       "      <td>acoustic</td>\n",
       "    </tr>\n",
       "  </tbody>\n",
       "</table>\n",
       "</div>"
      ],
      "text/plain": [
       "                 track_id                 artists  \\\n",
       "0  5SuOikwiRyPMVoIQDJUgSV             Gen Hoshino   \n",
       "1  4qPNDBW1i3p13qLCt0Ki3A            Ben Woodward   \n",
       "2  1iJBSr7s7jYXzM8EGcbK5b  Ingrid Michaelson;ZAYN   \n",
       "3  6lfxq3CG4xtTiEg7opyCyx            Kina Grannis   \n",
       "4  5vjLSffimiIP26QG5WcN2K        Chord Overstreet   \n",
       "\n",
       "                                          album_name  \\\n",
       "0                                             Comedy   \n",
       "1                                   Ghost (Acoustic)   \n",
       "2                                     To Begin Again   \n",
       "3  Crazy Rich Asians (Original Motion Picture Sou...   \n",
       "4                                            Hold On   \n",
       "\n",
       "                   track_name  popularity  duration_ms  explicit  \\\n",
       "0                      Comedy          73       230666     False   \n",
       "1            Ghost - Acoustic          55       149610     False   \n",
       "2              To Begin Again          57       210826     False   \n",
       "3  Can't Help Falling In Love          71       201933     False   \n",
       "4                     Hold On          82       198853     False   \n",
       "\n",
       "   danceability  energy  key  loudness  mode  speechiness  acousticness  \\\n",
       "0         0.676  0.4610    1    -6.746     0       0.1430        0.0322   \n",
       "1         0.420  0.1660    1   -17.235     1       0.0763        0.9240   \n",
       "2         0.438  0.3590    0    -9.734     1       0.0557        0.2100   \n",
       "3         0.266  0.0596    0   -18.515     1       0.0363        0.9050   \n",
       "4         0.618  0.4430    2    -9.681     1       0.0526        0.4690   \n",
       "\n",
       "   instrumentalness  liveness  valence    tempo  time_signature track_genre  \n",
       "0          0.000001    0.3580    0.715   87.917               4    acoustic  \n",
       "1          0.000006    0.1010    0.267   77.489               4    acoustic  \n",
       "2          0.000000    0.1170    0.120   76.332               4    acoustic  \n",
       "3          0.000071    0.1320    0.143  181.740               3    acoustic  \n",
       "4          0.000000    0.0829    0.167  119.949               4    acoustic  "
      ]
     },
     "execution_count": 5,
     "metadata": {},
     "output_type": "execute_result"
    }
   ],
   "source": [
    "data.head()"
   ]
  },
  {
   "cell_type": "markdown",
   "id": "22f1e524",
   "metadata": {
    "papermill": {
     "duration": 0.003215,
     "end_time": "2025-05-06T18:53:13.584498",
     "exception": false,
     "start_time": "2025-05-06T18:53:13.581283",
     "status": "completed"
    },
    "tags": []
   },
   "source": [
    "# Check Feature Correlations"
   ]
  },
  {
   "cell_type": "code",
   "execution_count": 11,
   "id": "ebb1bf66",
   "metadata": {
    "papermill": {
     "duration": 3.076665,
     "end_time": "2025-05-06T18:53:16.664994",
     "exception": false,
     "start_time": "2025-05-06T18:53:13.588329",
     "status": "completed"
    },
    "tags": []
   },
   "outputs": [
    {
     "name": "stderr",
     "output_type": "stream",
     "text": [
      "/tmp/ipykernel_756/642631236.py:14: SettingWithCopyWarning:\n",
      "\n",
      "\n",
      "A value is trying to be set on a copy of a slice from a DataFrame.\n",
      "Try using .loc[row_indexer,col_indexer] = value instead\n",
      "\n",
      "See the caveats in the documentation: https://pandas.pydata.org/pandas-docs/stable/user_guide/indexing.html#returning-a-view-versus-a-copy\n",
      "\n"
     ]
    }
   ],
   "source": [
    "import seaborn as sns\n",
    "import matplotlib.pyplot as plt\n",
    "import plotly.express as px\n",
    "from sklearn.preprocessing import StandardScaler\n",
    "from sklearn.compose import ColumnTransformer\n",
    "from sklearn.pipeline import Pipeline\n",
    "\n",
    "data.drop_duplicates(subset=['track_name', 'artists'], keep='first', inplace=True)\n",
    "data.reset_index(drop=True, inplace=True)  # fix indices after removing duplicates\n",
    "\n",
    "numerical_data = data[['track_genre', 'energy', 'danceability', 'loudness', 'popularity', 'speechiness', 'acousticness', 'instrumentalness', 'liveness', 'valence', 'tempo', 'duration_ms', 'key', 'mode', 'time_signature']]\n",
    "numeric_features = data.select_dtypes(include=['int64', 'float64']).columns\n",
    "scaler = StandardScaler()\n",
    "numerical_data[numeric_features] = scaler.fit_transform(numerical_data[numeric_features])\n",
    "# numerical_data['tempo'] = ( numerical_data['tempo'] - numerical_data['tempo'].min() ) / (numerical_data['tempo'].max() - numerical_data['tempo'].min())\n",
    "# numerical_data['loudness'] = ( numerical_data['loudness'] - numerical_data['loudness'].mean() ) / numerical_data['loudness'].std()\n",
    "\n",
    "features = ['track_genre', 'popularity', 'danceability', 'loudness', 'speechiness', 'acousticness', 'instrumentalness', 'liveness', 'valence', 'tempo']\n",
    "feature_data = numerical_data[features]\n",
    "# feature_data['tempo'] = ( feature_data['tempo'] - feature_data['tempo'].min() ) / (feature_data['tempo'].max() - feature_data['tempo'].min())\n",
    "# feature_data['loudness'] = ( feature_data['loudness'] - feature_data['loudness'].min() ) / (feature_data['loudness'].max() - feature_data['loudness'].min())\n",
    "# feature_data['loudness'] = ( feature_data['loudness'] - feature_data['loudness'].mean() ) / feature_data['loudness'].std()"
   ]
  },
  {
   "cell_type": "code",
   "execution_count": 7,
   "id": "06d38596",
   "metadata": {
    "papermill": {
     "duration": 0.651507,
     "end_time": "2025-05-06T18:53:17.320221",
     "exception": false,
     "start_time": "2025-05-06T18:53:16.668714",
     "status": "completed"
    },
    "scrolled": true,
    "tags": []
   },
   "outputs": [
    {
     "data": {
      "text/plain": [
       "(array([ 0.5,  1.5,  2.5,  3.5,  4.5,  5.5,  6.5,  7.5,  8.5,  9.5, 10.5,\n",
       "        11.5, 12.5, 13.5]),\n",
       " [Text(0.5, 0, 'energy'),\n",
       "  Text(1.5, 0, 'danceability'),\n",
       "  Text(2.5, 0, 'loudness'),\n",
       "  Text(3.5, 0, 'popularity'),\n",
       "  Text(4.5, 0, 'speechiness'),\n",
       "  Text(5.5, 0, 'acousticness'),\n",
       "  Text(6.5, 0, 'instrumentalness'),\n",
       "  Text(7.5, 0, 'liveness'),\n",
       "  Text(8.5, 0, 'valence'),\n",
       "  Text(9.5, 0, 'tempo'),\n",
       "  Text(10.5, 0, 'duration_ms'),\n",
       "  Text(11.5, 0, 'key'),\n",
       "  Text(12.5, 0, 'mode'),\n",
       "  Text(13.5, 0, 'time_signature')])"
      ]
     },
     "execution_count": 7,
     "metadata": {},
     "output_type": "execute_result"
    },
    {
     "data": {
      "image/png": "[encoded data removed]",
      "text/plain": [
       "<Figure size 1100x900 with 2 Axes>"
      ]
     },
     "metadata": {},
     "output_type": "display_data"
    }
   ],
   "source": [
    "f, ax = plt.subplots(figsize=(11, 9))\n",
    "cmap = sns.diverging_palette(230, 20, as_cmap=True)\n",
    "sns.heatmap(numerical_data.loc[:, numerical_data.columns != 'track_genre'].corr(), cmap=cmap).set(title='Correlation Matrix')\n",
    "plt.xticks(rotation=45)"
   ]
  },
  {
   "cell_type": "markdown",
   "id": "d37a1fcc",
   "metadata": {
    "papermill": {
     "duration": 0.005036,
     "end_time": "2025-05-06T18:53:17.331027",
     "exception": false,
     "start_time": "2025-05-06T18:53:17.325991",
     "status": "completed"
    },
    "tags": []
   },
   "source": [
    "# Visulize Feature Distributions"
   ]
  },
  {
   "cell_type": "markdown",
   "id": "2689cfc6",
   "metadata": {
    "papermill": {
     "duration": 0.004786,
     "end_time": "2025-05-06T18:53:17.340790",
     "exception": false,
     "start_time": "2025-05-06T18:53:17.336004",
     "status": "completed"
    },
    "tags": []
   },
   "source": [
    "## Features of a song based on their genre"
   ]
  },
  {
   "cell_type": "code",
   "execution_count": 8,
   "id": "4e4fb5ae",
   "metadata": {
    "papermill": {
     "duration": 0.227133,
     "end_time": "2025-05-06T18:53:17.572911",
     "exception": false,
     "start_time": "2025-05-06T18:53:17.345778",
     "status": "completed"
    },
    "tags": []
   },
   "outputs": [
    {
     "data": {
      "text/html": [
       "<div>\n",
       "<style scoped>\n",
       "    .dataframe tbody tr th:only-of-type {\n",
       "        vertical-align: middle;\n",
       "    }\n",
       "\n",
       "    .dataframe tbody tr th {\n",
       "        vertical-align: top;\n",
       "    }\n",
       "\n",
       "    .dataframe thead th {\n",
       "        text-align: right;\n",
       "    }\n",
       "</style>\n",
       "<table border=\"1\" class=\"dataframe\">\n",
       "  <thead>\n",
       "    <tr style=\"text-align: right;\">\n",
       "      <th></th>\n",
       "      <th>track_id</th>\n",
       "      <th>artists</th>\n",
       "      <th>album_name</th>\n",
       "      <th>track_name</th>\n",
       "      <th>popularity</th>\n",
       "      <th>duration_ms</th>\n",
       "      <th>explicit</th>\n",
       "      <th>danceability</th>\n",
       "      <th>energy</th>\n",
       "      <th>key</th>\n",
       "      <th>loudness</th>\n",
       "      <th>mode</th>\n",
       "      <th>speechiness</th>\n",
       "      <th>acousticness</th>\n",
       "      <th>instrumentalness</th>\n",
       "      <th>liveness</th>\n",
       "      <th>valence</th>\n",
       "      <th>tempo</th>\n",
       "      <th>time_signature</th>\n",
       "    </tr>\n",
       "    <tr>\n",
       "      <th>track_genre</th>\n",
       "      <th></th>\n",
       "      <th></th>\n",
       "      <th></th>\n",
       "      <th></th>\n",
       "      <th></th>\n",
       "      <th></th>\n",
       "      <th></th>\n",
       "      <th></th>\n",
       "      <th></th>\n",
       "      <th></th>\n",
       "      <th></th>\n",
       "      <th></th>\n",
       "      <th></th>\n",
       "      <th></th>\n",
       "      <th></th>\n",
       "      <th></th>\n",
       "      <th></th>\n",
       "      <th></th>\n",
       "      <th></th>\n",
       "    </tr>\n",
       "  </thead>\n",
       "  <tbody>\n",
       "    <tr>\n",
       "      <th>acoustic</th>\n",
       "      <td>941</td>\n",
       "      <td>330</td>\n",
       "      <td>690</td>\n",
       "      <td>911</td>\n",
       "      <td>62</td>\n",
       "      <td>919</td>\n",
       "      <td>2</td>\n",
       "      <td>409</td>\n",
       "      <td>565</td>\n",
       "      <td>12</td>\n",
       "      <td>907</td>\n",
       "      <td>2</td>\n",
       "      <td>377</td>\n",
       "      <td>615</td>\n",
       "      <td>492</td>\n",
       "      <td>388</td>\n",
       "      <td>566</td>\n",
       "      <td>933</td>\n",
       "      <td>4</td>\n",
       "    </tr>\n",
       "    <tr>\n",
       "      <th>afrobeat</th>\n",
       "      <td>953</td>\n",
       "      <td>343</td>\n",
       "      <td>491</td>\n",
       "      <td>947</td>\n",
       "      <td>55</td>\n",
       "      <td>936</td>\n",
       "      <td>2</td>\n",
       "      <td>413</td>\n",
       "      <td>488</td>\n",
       "      <td>12</td>\n",
       "      <td>900</td>\n",
       "      <td>2</td>\n",
       "      <td>552</td>\n",
       "      <td>723</td>\n",
       "      <td>677</td>\n",
       "      <td>527</td>\n",
       "      <td>520</td>\n",
       "      <td>936</td>\n",
       "      <td>4</td>\n",
       "    </tr>\n",
       "    <tr>\n",
       "      <th>alt-rock</th>\n",
       "      <td>798</td>\n",
       "      <td>342</td>\n",
       "      <td>472</td>\n",
       "      <td>792</td>\n",
       "      <td>55</td>\n",
       "      <td>782</td>\n",
       "      <td>2</td>\n",
       "      <td>404</td>\n",
       "      <td>439</td>\n",
       "      <td>12</td>\n",
       "      <td>750</td>\n",
       "      <td>2</td>\n",
       "      <td>439</td>\n",
       "      <td>678</td>\n",
       "      <td>521</td>\n",
       "      <td>476</td>\n",
       "      <td>552</td>\n",
       "      <td>791</td>\n",
       "      <td>5</td>\n",
       "    </tr>\n",
       "    <tr>\n",
       "      <th>alternative</th>\n",
       "      <td>238</td>\n",
       "      <td>110</td>\n",
       "      <td>157</td>\n",
       "      <td>235</td>\n",
       "      <td>50</td>\n",
       "      <td>234</td>\n",
       "      <td>2</td>\n",
       "      <td>197</td>\n",
       "      <td>198</td>\n",
       "      <td>12</td>\n",
       "      <td>229</td>\n",
       "      <td>2</td>\n",
       "      <td>204</td>\n",
       "      <td>223</td>\n",
       "      <td>140</td>\n",
       "      <td>176</td>\n",
       "      <td>209</td>\n",
       "      <td>232</td>\n",
       "      <td>4</td>\n",
       "    </tr>\n",
       "    <tr>\n",
       "      <th>ambient</th>\n",
       "      <td>937</td>\n",
       "      <td>325</td>\n",
       "      <td>521</td>\n",
       "      <td>918</td>\n",
       "      <td>72</td>\n",
       "      <td>924</td>\n",
       "      <td>2</td>\n",
       "      <td>496</td>\n",
       "      <td>652</td>\n",
       "      <td>12</td>\n",
       "      <td>923</td>\n",
       "      <td>2</td>\n",
       "      <td>325</td>\n",
       "      <td>421</td>\n",
       "      <td>425</td>\n",
       "      <td>360</td>\n",
       "      <td>562</td>\n",
       "      <td>929</td>\n",
       "      <td>5</td>\n",
       "    </tr>\n",
       "    <tr>\n",
       "      <th>...</th>\n",
       "      <td>...</td>\n",
       "      <td>...</td>\n",
       "      <td>...</td>\n",
       "      <td>...</td>\n",
       "      <td>...</td>\n",
       "      <td>...</td>\n",
       "      <td>...</td>\n",
       "      <td>...</td>\n",
       "      <td>...</td>\n",
       "      <td>...</td>\n",
       "      <td>...</td>\n",
       "      <td>...</td>\n",
       "      <td>...</td>\n",
       "      <td>...</td>\n",
       "      <td>...</td>\n",
       "      <td>...</td>\n",
       "      <td>...</td>\n",
       "      <td>...</td>\n",
       "      <td>...</td>\n",
       "    </tr>\n",
       "    <tr>\n",
       "      <th>techno</th>\n",
       "      <td>401</td>\n",
       "      <td>264</td>\n",
       "      <td>352</td>\n",
       "      <td>399</td>\n",
       "      <td>54</td>\n",
       "      <td>400</td>\n",
       "      <td>2</td>\n",
       "      <td>246</td>\n",
       "      <td>276</td>\n",
       "      <td>12</td>\n",
       "      <td>396</td>\n",
       "      <td>2</td>\n",
       "      <td>270</td>\n",
       "      <td>363</td>\n",
       "      <td>294</td>\n",
       "      <td>260</td>\n",
       "      <td>327</td>\n",
       "      <td>346</td>\n",
       "      <td>4</td>\n",
       "    </tr>\n",
       "    <tr>\n",
       "      <th>trance</th>\n",
       "      <td>676</td>\n",
       "      <td>447</td>\n",
       "      <td>505</td>\n",
       "      <td>675</td>\n",
       "      <td>57</td>\n",
       "      <td>645</td>\n",
       "      <td>2</td>\n",
       "      <td>346</td>\n",
       "      <td>320</td>\n",
       "      <td>12</td>\n",
       "      <td>645</td>\n",
       "      <td>2</td>\n",
       "      <td>456</td>\n",
       "      <td>580</td>\n",
       "      <td>473</td>\n",
       "      <td>417</td>\n",
       "      <td>442</td>\n",
       "      <td>563</td>\n",
       "      <td>4</td>\n",
       "    </tr>\n",
       "    <tr>\n",
       "      <th>trip-hop</th>\n",
       "      <td>861</td>\n",
       "      <td>297</td>\n",
       "      <td>491</td>\n",
       "      <td>859</td>\n",
       "      <td>53</td>\n",
       "      <td>846</td>\n",
       "      <td>2</td>\n",
       "      <td>415</td>\n",
       "      <td>496</td>\n",
       "      <td>12</td>\n",
       "      <td>827</td>\n",
       "      <td>2</td>\n",
       "      <td>491</td>\n",
       "      <td>696</td>\n",
       "      <td>650</td>\n",
       "      <td>474</td>\n",
       "      <td>568</td>\n",
       "      <td>844</td>\n",
       "      <td>4</td>\n",
       "    </tr>\n",
       "    <tr>\n",
       "      <th>turkish</th>\n",
       "      <td>849</td>\n",
       "      <td>413</td>\n",
       "      <td>637</td>\n",
       "      <td>839</td>\n",
       "      <td>36</td>\n",
       "      <td>835</td>\n",
       "      <td>2</td>\n",
       "      <td>443</td>\n",
       "      <td>472</td>\n",
       "      <td>12</td>\n",
       "      <td>820</td>\n",
       "      <td>2</td>\n",
       "      <td>549</td>\n",
       "      <td>657</td>\n",
       "      <td>412</td>\n",
       "      <td>429</td>\n",
       "      <td>526</td>\n",
       "      <td>823</td>\n",
       "      <td>4</td>\n",
       "    </tr>\n",
       "    <tr>\n",
       "      <th>world-music</th>\n",
       "      <td>880</td>\n",
       "      <td>224</td>\n",
       "      <td>412</td>\n",
       "      <td>845</td>\n",
       "      <td>51</td>\n",
       "      <td>864</td>\n",
       "      <td>1</td>\n",
       "      <td>437</td>\n",
       "      <td>576</td>\n",
       "      <td>12</td>\n",
       "      <td>843</td>\n",
       "      <td>2</td>\n",
       "      <td>335</td>\n",
       "      <td>720</td>\n",
       "      <td>344</td>\n",
       "      <td>477</td>\n",
       "      <td>519</td>\n",
       "      <td>851</td>\n",
       "      <td>5</td>\n",
       "    </tr>\n",
       "  </tbody>\n",
       "</table>\n",
       "<p>113 rows × 19 columns</p>\n",
       "</div>"
      ],
      "text/plain": [
       "             track_id  artists  album_name  track_name  popularity  \\\n",
       "track_genre                                                          \n",
       "acoustic          941      330         690         911          62   \n",
       "afrobeat          953      343         491         947          55   \n",
       "alt-rock          798      342         472         792          55   \n",
       "alternative       238      110         157         235          50   \n",
       "ambient           937      325         521         918          72   \n",
       "...               ...      ...         ...         ...         ...   \n",
       "techno            401      264         352         399          54   \n",
       "trance            676      447         505         675          57   \n",
       "trip-hop          861      297         491         859          53   \n",
       "turkish           849      413         637         839          36   \n",
       "world-music       880      224         412         845          51   \n",
       "\n",
       "             duration_ms  explicit  danceability  energy  key  loudness  mode  \\\n",
       "track_genre                                                                     \n",
       "acoustic             919         2           409     565   12       907     2   \n",
       "afrobeat             936         2           413     488   12       900     2   \n",
       "alt-rock             782         2           404     439   12       750     2   \n",
       "alternative          234         2           197     198   12       229     2   \n",
       "ambient              924         2           496     652   12       923     2   \n",
       "...                  ...       ...           ...     ...  ...       ...   ...   \n",
       "techno               400         2           246     276   12       396     2   \n",
       "trance               645         2           346     320   12       645     2   \n",
       "trip-hop             846         2           415     496   12       827     2   \n",
       "turkish              835         2           443     472   12       820     2   \n",
       "world-music          864         1           437     576   12       843     2   \n",
       "\n",
       "             speechiness  acousticness  instrumentalness  liveness  valence  \\\n",
       "track_genre                                                                   \n",
       "acoustic             377           615               492       388      566   \n",
       "afrobeat             552           723               677       527      520   \n",
       "alt-rock             439           678               521       476      552   \n",
       "alternative          204           223               140       176      209   \n",
       "ambient              325           421               425       360      562   \n",
       "...                  ...           ...               ...       ...      ...   \n",
       "techno               270           363               294       260      327   \n",
       "trance               456           580               473       417      442   \n",
       "trip-hop             491           696               650       474      568   \n",
       "turkish              549           657               412       429      526   \n",
       "world-music          335           720               344       477      519   \n",
       "\n",
       "             tempo  time_signature  \n",
       "track_genre                         \n",
       "acoustic       933               4  \n",
       "afrobeat       936               4  \n",
       "alt-rock       791               5  \n",
       "alternative    232               4  \n",
       "ambient        929               5  \n",
       "...            ...             ...  \n",
       "techno         346               4  \n",
       "trance         563               4  \n",
       "trip-hop       844               4  \n",
       "turkish        823               4  \n",
       "world-music    851               5  \n",
       "\n",
       "[113 rows x 19 columns]"
      ]
     },
     "execution_count": 8,
     "metadata": {},
     "output_type": "execute_result"
    }
   ],
   "source": [
    "data.groupby('track_genre').nunique()"
   ]
  },
  {
   "cell_type": "code",
   "execution_count": 12,
   "id": "e1a49867",
   "metadata": {
    "papermill": {
     "duration": 2.114673,
     "end_time": "2025-05-06T18:53:19.695196",
     "exception": false,
     "start_time": "2025-05-06T18:53:17.580523",
     "status": "completed"
    },
    "tags": []
   },
   "outputs": [
    {
     "data": {
      "application/vnd.plotly.v1+json": {
       "config": {
        "plotlyServerURL": "https://plot.ly"
       },
       "data": [
        {
         "alignmentgroup": "True",
         "hovertemplate": "feature=valence<br>track_genre=%{x}<br>median_value=%{y}<extra></extra>",
         "legendgroup": "valence",
         "marker": {
          "color": "#636efa",
          "pattern": {
           "shape": ""
          }
         },
         "name": "valence",
         "offsetgroup": "valence",
         "orientation": "v",
         "showlegend": true,
         "textposition": "auto",
         "type": "bar",
         "x": [
          "study",
          "black-metal",
          "comedy",
          "heavy-metal",
          "bluegrass"
         ],
         "xaxis": "x",
         "y": {
          "bdata": "ccB926Ek07/aN0ap5ujyv5VEE2+Xwqu/q5n0MPm41L/EFEpdrJHoPw==",
          "dtype": "f8"
         },
         "yaxis": "y"
        },
        {
         "alignmentgroup": "True",
         "hovertemplate": "feature=danceability<br>track_genre=%{x}<br>median_value=%{y}<extra></extra>",
         "legendgroup": "danceability",
         "marker": {
          "color": "#EF553B",
          "pattern": {
           "shape": ""
          }
         },
         "name": "danceability",
         "offsetgroup": "danceability",
         "orientation": "v",
         "showlegend": true,
         "textposition": "auto",
         "type": "bar",
         "x": [
          "study",
          "black-metal",
          "comedy",
          "heavy-metal",
          "bluegrass"
         ],
         "xaxis": "x",
         "y": {
          "bdata": "AwvBymFv6D+Azffcpwz5v0G0cVJuA6w/55fK7q9k5L8YlkHFAgC2vw==",
          "dtype": "f8"
         },
         "yaxis": "y"
        },
        {
         "alignmentgroup": "True",
         "hovertemplate": "feature=acousticness<br>track_genre=%{x}<br>median_value=%{y}<extra></extra>",
         "legendgroup": "acousticness",
         "marker": {
          "color": "#00cc96",
          "pattern": {
           "shape": ""
          }
         },
         "name": "acousticness",
         "offsetgroup": "acousticness",
         "orientation": "v",
         "showlegend": true,
         "textposition": "auto",
         "type": "bar",
         "x": [
          "study",
          "black-metal",
          "comedy",
          "heavy-metal",
          "bluegrass"
         ],
         "xaxis": "x",
         "y": {
          "bdata": "yLdOQzyf5j/giK+x/Qbvv9tFwOTrRvY/O8mfrU/+7r9IYmfC80HpPw==",
          "dtype": "f8"
         },
         "yaxis": "y"
        },
        {
         "alignmentgroup": "True",
         "hovertemplate": "feature=liveness<br>track_genre=%{x}<br>median_value=%{y}<extra></extra>",
         "legendgroup": "liveness",
         "marker": {
          "color": "#ab63fa",
          "pattern": {
           "shape": ""
          }
         },
         "name": "liveness",
         "offsetgroup": "liveness",
         "orientation": "v",
         "showlegend": true,
         "textposition": "auto",
         "type": "bar",
         "x": [
          "study",
          "black-metal",
          "comedy",
          "heavy-metal",
          "bluegrass"
         ],
         "xaxis": "x",
         "y": {
          "bdata": "4qNlWCAQ4b943lx+Veu/vzYKU6R4CAVAeN5cflXrv7+Rs09jNXHYvw==",
          "dtype": "f8"
         },
         "yaxis": "y"
        },
        {
         "alignmentgroup": "True",
         "hovertemplate": "feature=tempo<br>track_genre=%{x}<br>median_value=%{y}<extra></extra>",
         "legendgroup": "tempo",
         "marker": {
          "color": "#FFA15A",
          "pattern": {
           "shape": ""
          }
         },
         "name": "tempo",
         "offsetgroup": "tempo",
         "orientation": "v",
         "showlegend": true,
         "textposition": "auto",
         "type": "bar",
         "x": [
          "study",
          "black-metal",
          "comedy",
          "heavy-metal",
          "bluegrass"
         ],
         "xaxis": "x",
         "y": {
          "bdata": "0mor/JD577+cC0Q0cMbJP8sCEygdo+2/8pQvDU7lyD8ftXmhgP2yPw==",
          "dtype": "f8"
         },
         "yaxis": "y"
        },
        {
         "alignmentgroup": "True",
         "hovertemplate": "feature=popularity<br>track_genre=%{x}<br>median_value=%{y}<extra></extra>",
         "legendgroup": "popularity",
         "marker": {
          "color": "#19d3f3",
          "pattern": {
           "shape": ""
          }
         },
         "name": "popularity",
         "offsetgroup": "popularity",
         "orientation": "v",
         "showlegend": true,
         "textposition": "auto",
         "type": "bar",
         "x": [
          "study",
          "black-metal",
          "comedy",
          "heavy-metal",
          "bluegrass"
         ],
         "xaxis": "x",
         "y": {
          "bdata": "TggQ0yrZ1b8FREArcL3pv9u1Q5y5J+O/27VDnLkn479RkoT4S4Lhvw==",
          "dtype": "f8"
         },
         "yaxis": "y"
        },
        {
         "alignmentgroup": "True",
         "hovertemplate": "feature=time_signature<br>track_genre=%{x}<br>median_value=%{y}<extra></extra>",
         "legendgroup": "time_signature",
         "marker": {
          "color": "#FF6692",
          "pattern": {
           "shape": ""
          }
         },
         "name": "time_signature",
         "offsetgroup": "time_signature",
         "orientation": "v",
         "showlegend": true,
         "textposition": "auto",
         "type": "bar",
         "x": [
          "study",
          "black-metal",
          "comedy",
          "heavy-metal",
          "bluegrass"
         ],
         "xaxis": "x",
         "y": {
          "bdata": "9mK2DnHlzD/2YrYOceXMP/Zitg5x5cw/9mK2DnHlzD/2YrYOceXMPw==",
          "dtype": "f8"
         },
         "yaxis": "y"
        }
       ],
       "layout": {
        "barmode": "group",
        "legend": {
         "title": {
          "text": "feature"
         },
         "tracegroupgap": 0
        },
        "template": {
         "data": {
          "bar": [
           {
            "error_x": {
             "color": "#2a3f5f"
            },
            "error_y": {
             "color": "#2a3f5f"
            },
            "marker": {
             "line": {
              "color": "#E5ECF6",
              "width": 0.5
             },
             "pattern": {
              "fillmode": "overlay",
              "size": 10,
              "solidity": 0.2
             }
            },
            "type": "bar"
           }
          ],
          "barpolar": [
           {
            "marker": {
             "line": {
              "color": "#E5ECF6",
              "width": 0.5
             },
             "pattern": {
              "fillmode": "overlay",
              "size": 10,
              "solidity": 0.2
             }
            },
            "type": "barpolar"
           }
          ],
          "carpet": [
           {
            "aaxis": {
             "endlinecolor": "#2a3f5f",
             "gridcolor": "white",
             "linecolor": "white",
             "minorgridcolor": "white",
             "startlinecolor": "#2a3f5f"
            },
            "baxis": {
             "endlinecolor": "#2a3f5f",
             "gridcolor": "white",
             "linecolor": "white",
             "minorgridcolor": "white",
             "startlinecolor": "#2a3f5f"
            },
            "type": "carpet"
           }
          ],
          "choropleth": [
           {
            "colorbar": {
             "outlinewidth": 0,
             "ticks": ""
            },
            "type": "choropleth"
           }
          ],
          "contour": [
           {
            "colorbar": {
             "outlinewidth": 0,
             "ticks": ""
            },
            "colorscale": [
             [
              0,
              "#0d0887"
             ],
             [
              0.1111111111111111,
              "#46039f"
             ],
             [
              0.2222222222222222,
              "#7201a8"
             ],
             [
              0.3333333333333333,
              "#9c179e"
             ],
             [
              0.4444444444444444,
              "#bd3786"
             ],
             [
              0.5555555555555556,
              "#d8576b"
             ],
             [
              0.6666666666666666,
              "#ed7953"
             ],
             [
              0.7777777777777778,
              "#fb9f3a"
             ],
             [
              0.8888888888888888,
              "#fdca26"
             ],
             [
              1,
              "#f0f921"
             ]
            ],
            "type": "contour"
           }
          ],
          "contourcarpet": [
           {
            "colorbar": {
             "outlinewidth": 0,
             "ticks": ""
            },
            "type": "contourcarpet"
           }
          ],
          "heatmap": [
           {
            "colorbar": {
             "outlinewidth": 0,
             "ticks": ""
            },
            "colorscale": [
             [
              0,
              "#0d0887"
             ],
             [
              0.1111111111111111,
              "#46039f"
             ],
             [
              0.2222222222222222,
              "#7201a8"
             ],
             [
              0.3333333333333333,
              "#9c179e"
             ],
             [
              0.4444444444444444,
              "#bd3786"
             ],
             [
              0.5555555555555556,
              "#d8576b"
             ],
             [
              0.6666666666666666,
              "#ed7953"
             ],
             [
              0.7777777777777778,
              "#fb9f3a"
             ],
             [
              0.8888888888888888,
              "#fdca26"
             ],
             [
              1,
              "#f0f921"
             ]
            ],
            "type": "heatmap"
           }
          ],
          "histogram": [
           {
            "marker": {
             "pattern": {
              "fillmode": "overlay",
              "size": 10,
              "solidity": 0.2
             }
            },
            "type": "histogram"
           }
          ],
          "histogram2d": [
           {
            "colorbar": {
             "outlinewidth": 0,
             "ticks": ""
            },
            "colorscale": [
             [
              0,
              "#0d0887"
             ],
             [
              0.1111111111111111,
              "#46039f"
             ],
             [
              0.2222222222222222,
              "#7201a8"
             ],
             [
              0.3333333333333333,
              "#9c179e"
             ],
             [
              0.4444444444444444,
              "#bd3786"
             ],
             [
              0.5555555555555556,
              "#d8576b"
             ],
             [
              0.6666666666666666,
              "#ed7953"
             ],
             [
              0.7777777777777778,
              "#fb9f3a"
             ],
             [
              0.8888888888888888,
              "#fdca26"
             ],
             [
              1,
              "#f0f921"
             ]
            ],
            "type": "histogram2d"
           }
          ],
          "histogram2dcontour": [
           {
            "colorbar": {
             "outlinewidth": 0,
             "ticks": ""
            },
            "colorscale": [
             [
              0,
              "#0d0887"
             ],
             [
              0.1111111111111111,
              "#46039f"
             ],
             [
              0.2222222222222222,
              "#7201a8"
             ],
             [
              0.3333333333333333,
              "#9c179e"
             ],
             [
              0.4444444444444444,
              "#bd3786"
             ],
             [
              0.5555555555555556,
              "#d8576b"
             ],
             [
              0.6666666666666666,
              "#ed7953"
             ],
             [
              0.7777777777777778,
              "#fb9f3a"
             ],
             [
              0.8888888888888888,
              "#fdca26"
             ],
             [
              1,
              "#f0f921"
             ]
            ],
            "type": "histogram2dcontour"
           }
          ],
          "mesh3d": [
           {
            "colorbar": {
             "outlinewidth": 0,
             "ticks": ""
            },
            "type": "mesh3d"
           }
          ],
          "parcoords": [
           {
            "line": {
             "colorbar": {
              "outlinewidth": 0,
              "ticks": ""
             }
            },
            "type": "parcoords"
           }
          ],
          "pie": [
           {
            "automargin": true,
            "type": "pie"
           }
          ],
          "scatter": [
           {
            "fillpattern": {
             "fillmode": "overlay",
             "size": 10,
             "solidity": 0.2
            },
            "type": "scatter"
           }
          ],
          "scatter3d": [
           {
            "line": {
             "colorbar": {
              "outlinewidth": 0,
              "ticks": ""
             }
            },
            "marker": {
             "colorbar": {
              "outlinewidth": 0,
              "ticks": ""
             }
            },
            "type": "scatter3d"
           }
          ],
          "scattercarpet": [
           {
            "marker": {
             "colorbar": {
              "outlinewidth": 0,
              "ticks": ""
             }
            },
            "type": "scattercarpet"
           }
          ],
          "scattergeo": [
           {
            "marker": {
             "colorbar": {
              "outlinewidth": 0,
              "ticks": ""
             }
            },
            "type": "scattergeo"
           }
          ],
          "scattergl": [
           {
            "marker": {
             "colorbar": {
              "outlinewidth": 0,
              "ticks": ""
             }
            },
            "type": "scattergl"
           }
          ],
          "scattermap": [
           {
            "marker": {
             "colorbar": {
              "outlinewidth": 0,
              "ticks": ""
             }
            },
            "type": "scattermap"
           }
          ],
          "scattermapbox": [
           {
            "marker": {
             "colorbar": {
              "outlinewidth": 0,
              "ticks": ""
             }
            },
            "type": "scattermapbox"
           }
          ],
          "scatterpolar": [
           {
            "marker": {
             "colorbar": {
              "outlinewidth": 0,
              "ticks": ""
             }
            },
            "type": "scatterpolar"
           }
          ],
          "scatterpolargl": [
           {
            "marker": {
             "colorbar": {
              "outlinewidth": 0,
              "ticks": ""
             }
            },
            "type": "scatterpolargl"
           }
          ],
          "scatterternary": [
           {
            "marker": {
             "colorbar": {
              "outlinewidth": 0,
              "ticks": ""
             }
            },
            "type": "scatterternary"
           }
          ],
          "surface": [
           {
            "colorbar": {
             "outlinewidth": 0,
             "ticks": ""
            },
            "colorscale": [
             [
              0,
              "#0d0887"
             ],
             [
              0.1111111111111111,
              "#46039f"
             ],
             [
              0.2222222222222222,
              "#7201a8"
             ],
             [
              0.3333333333333333,
              "#9c179e"
             ],
             [
              0.4444444444444444,
              "#bd3786"
             ],
             [
              0.5555555555555556,
              "#d8576b"
             ],
             [
              0.6666666666666666,
              "#ed7953"
             ],
             [
              0.7777777777777778,
              "#fb9f3a"
             ],
             [
              0.8888888888888888,
              "#fdca26"
             ],
             [
              1,
              "#f0f921"
             ]
            ],
            "type": "surface"
           }
          ],
          "table": [
           {
            "cells": {
             "fill": {
              "color": "#EBF0F8"
             },
             "line": {
              "color": "white"
             }
            },
            "header": {
             "fill": {
              "color": "#C8D4E3"
             },
             "line": {
              "color": "white"
             }
            },
            "type": "table"
           }
          ]
         },
         "layout": {
          "annotationdefaults": {
           "arrowcolor": "#2a3f5f",
           "arrowhead": 0,
           "arrowwidth": 1
          },
          "autotypenumbers": "strict",
          "coloraxis": {
           "colorbar": {
            "outlinewidth": 0,
            "ticks": ""
           }
          },
          "colorscale": {
           "diverging": [
            [
             0,
             "#8e0152"
            ],
            [
             0.1,
             "#c51b7d"
            ],
            [
             0.2,
             "#de77ae"
            ],
            [
             0.3,
             "#f1b6da"
            ],
            [
             0.4,
             "#fde0ef"
            ],
            [
             0.5,
             "#f7f7f7"
            ],
            [
             0.6,
             "#e6f5d0"
            ],
            [
             0.7,
             "#b8e186"
            ],
            [
             0.8,
             "#7fbc41"
            ],
            [
             0.9,
             "#4d9221"
            ],
            [
             1,
             "#276419"
            ]
           ],
           "sequential": [
            [
             0,
             "#0d0887"
            ],
            [
             0.1111111111111111,
             "#46039f"
            ],
            [
             0.2222222222222222,
             "#7201a8"
            ],
            [
             0.3333333333333333,
             "#9c179e"
            ],
            [
             0.4444444444444444,
             "#bd3786"
            ],
            [
             0.5555555555555556,
             "#d8576b"
            ],
            [
             0.6666666666666666,
             "#ed7953"
            ],
            [
             0.7777777777777778,
             "#fb9f3a"
            ],
            [
             0.8888888888888888,
             "#fdca26"
            ],
            [
             1,
             "#f0f921"
            ]
           ],
           "sequentialminus": [
            [
             0,
             "#0d0887"
            ],
            [
             0.1111111111111111,
             "#46039f"
            ],
            [
             0.2222222222222222,
             "#7201a8"
            ],
            [
             0.3333333333333333,
             "#9c179e"
            ],
            [
             0.4444444444444444,
             "#bd3786"
            ],
            [
             0.5555555555555556,
             "#d8576b"
            ],
            [
             0.6666666666666666,
             "#ed7953"
            ],
            [
             0.7777777777777778,
             "#fb9f3a"
            ],
            [
             0.8888888888888888,
             "#fdca26"
            ],
            [
             1,
             "#f0f921"
            ]
           ]
          },
          "colorway": [
           "#636efa",
           "#EF553B",
           "#00cc96",
           "#ab63fa",
           "#FFA15A",
           "#19d3f3",
           "#FF6692",
           "#B6E880",
           "#FF97FF",
           "#FECB52"
          ],
          "font": {
           "color": "#2a3f5f"
          },
          "geo": {
           "bgcolor": "white",
           "lakecolor": "white",
           "landcolor": "#E5ECF6",
           "showlakes": true,
           "showland": true,
           "subunitcolor": "white"
          },
          "hoverlabel": {
           "align": "left"
          },
          "hovermode": "closest",
          "mapbox": {
           "style": "light"
          },
          "paper_bgcolor": "white",
          "plot_bgcolor": "#E5ECF6",
          "polar": {
           "angularaxis": {
            "gridcolor": "white",
            "linecolor": "white",
            "ticks": ""
           },
           "bgcolor": "#E5ECF6",
           "radialaxis": {
            "gridcolor": "white",
            "linecolor": "white",
            "ticks": ""
           }
          },
          "scene": {
           "xaxis": {
            "backgroundcolor": "#E5ECF6",
            "gridcolor": "white",
            "gridwidth": 2,
            "linecolor": "white",
            "showbackground": true,
            "ticks": "",
            "zerolinecolor": "white"
           },
           "yaxis": {
            "backgroundcolor": "#E5ECF6",
            "gridcolor": "white",
            "gridwidth": 2,
            "linecolor": "white",
            "showbackground": true,
            "ticks": "",
            "zerolinecolor": "white"
           },
           "zaxis": {
            "backgroundcolor": "#E5ECF6",
            "gridcolor": "white",
            "gridwidth": 2,
            "linecolor": "white",
            "showbackground": true,
            "ticks": "",
            "zerolinecolor": "white"
           }
          },
          "shapedefaults": {
           "line": {
            "color": "#2a3f5f"
           }
          },
          "ternary": {
           "aaxis": {
            "gridcolor": "white",
            "linecolor": "white",
            "ticks": ""
           },
           "baxis": {
            "gridcolor": "white",
            "linecolor": "white",
            "ticks": ""
           },
           "bgcolor": "#E5ECF6",
           "caxis": {
            "gridcolor": "white",
            "linecolor": "white",
            "ticks": ""
           }
          },
          "title": {
           "x": 0.05
          },
          "xaxis": {
           "automargin": true,
           "gridcolor": "white",
           "linecolor": "white",
           "ticks": "",
           "title": {
            "standoff": 15
           },
           "zerolinecolor": "white",
           "zerolinewidth": 2
          },
          "yaxis": {
           "automargin": true,
           "gridcolor": "white",
           "linecolor": "white",
           "ticks": "",
           "title": {
            "standoff": 15
           },
           "zerolinecolor": "white",
           "zerolinewidth": 2
          }
         }
        },
        "title": {
         "text": "Median audio‑features for top 8 different genres"
        },
        "xaxis": {
         "anchor": "y",
         "domain": [
          0,
          1
         ],
         "title": {
          "text": "track_genre"
         }
        },
        "yaxis": {
         "anchor": "x",
         "domain": [
          0,
          1
         ],
         "title": {
          "text": "median_value"
         }
        }
       }
      },
      "image/png": "[encoded data removed]"
     },
     "metadata": {},
     "output_type": "display_data"
    }
   ],
   "source": [
    "# 1. Compute medians per genre\n",
    "med_songs = numerical_data.groupby('track_genre')[\n",
    "    ['valence','danceability','acousticness','liveness', 'tempo', 'popularity', 'time_signature']\n",
    "].median()\n",
    "\n",
    "# 2. Find the N genres with the most tracks\n",
    "top_genres = (\n",
    "    numerical_data['track_genre']\n",
    "    .value_counts()\n",
    "    .nlargest(5)\n",
    "    .index\n",
    "    .tolist()\n",
    ")\n",
    "\n",
    "# 3. Select only those genres’ medians\n",
    "selected = med_songs.loc[top_genres]\n",
    "\n",
    "# 4. Melt to “long” form for px.bar\n",
    "df_long = (\n",
    "    selected\n",
    "    .reset_index()\n",
    "    .melt(id_vars='track_genre',\n",
    "          var_name='feature',\n",
    "          value_name='median_value')\n",
    ")\n",
    "\n",
    "# 5. Plot\n",
    "fig = px.bar(\n",
    "    df_long,\n",
    "    x='track_genre',\n",
    "    y='median_value',\n",
    "    color='feature',\n",
    "    barmode='group',\n",
    "    title='Median audio‑features for top 8 different genres'\n",
    ")\n",
    "fig.show()"
   ]
  },
  {
   "cell_type": "code",
   "execution_count": 31,
   "id": "ff179632",
   "metadata": {
    "papermill": {
     "duration": 0.639092,
     "end_time": "2025-05-06T18:53:20.340798",
     "exception": false,
     "start_time": "2025-05-06T18:53:19.701706",
     "status": "completed"
    },
    "tags": []
   },
   "outputs": [
    {
     "data": {
      "application/vnd.plotly.v1+json": {
       "config": {
        "plotlyServerURL": "https://plot.ly"
       },
       "data": [
        {
         "hovertemplate": "color=black-metal<br>0=%{x}<br>1=%{y}<extra></extra>",
         "legendgroup": "black-metal",
         "marker": {
          "color": "#636efa",
          "symbol": "circle"
         },
         "mode": "markers",
         "name": "black-metal",
         "showlegend": true,
         "type": "scattergl",
         "x": {
          "bdata": "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",
          "dtype": "f8"
         },
         "xaxis": "x",
         "y": {
          "bdata": "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",
          "dtype": "f8"
         },
         "yaxis": "y"
        },
        {
         "hovertemplate": "color=bluegrass<br>0=%{x}<br>1=%{y}<extra></extra>",
         "legendgroup": "bluegrass",
         "marker": {
          "color": "#EF553B",
          "symbol": "circle"
         },
         "mode": "markers",
         "name": "bluegrass",
         "showlegend": true,
         "type": "scattergl",
         "x": {
          "bdata": "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",
          "dtype": "f8"
         },
         "xaxis": "x",
         "y": {
          "bdata": "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",
          "dtype": "f8"
         },
         "yaxis": "y"
        },
        {
         "hovertemplate": "color=comedy<br>0=%{x}<br>1=%{y}<extra></extra>",
         "legendgroup": "comedy",
         "marker": {
          "color": "#00cc96",
          "symbol": "circle"
         },
         "mode": "markers",
         "name": "comedy",
         "showlegend": true,
         "type": "scattergl",
         "x": {
          "bdata": "AeGhHQm/+j+eCV9bvvnRP2ZZ2/gZOvY/8jJUlp8l2T9DHMUn2LLovwVuPl8CyeM/OybJeqJR5D8cjBurKsLRvx2ut9Cgj7I//o3p1Crz5T+lkh/ZSsbhP7vnP50yVbY/pIqslqPf8T/Wm5VCYGzyP9S+8yeolQBArYsYj4GU+T+curdA8ufnv5tl5uP7hP8/7J97BCmJ/j9aN/D8I3nmP28RXW5Wtfw/QRxe7iZZ6z/WfJZSsZyxv5paI6TQUwFAwjABcGmN8D/i3HTE0yDpPyCdaph5lPI/jKzYBAxW0L+QOcwbb6D0P9+Dj4gs1e0/G9u0AniA1D+7oa65nkXzP8kJ1425VvQ/vt4wBQju5L9yiJ7V+JD0P7DAv70lzus/i/wrY0zB8T9A3G/lr4j6P/iCTlmQus4/nxYX6Dt46z+VVtPfK0T2PwiNslqcdfY/e5No96N99j9w+BZQ78sDQPZeP6/j8Oi/TQm73MGd8j9q63+VNJz0PxdSm6+9/P8/9eQ05Wwc9D8aSqUcKZTzP0LMrSuB8+K/lvOJ95Gvxz95omVWLqj4P3dOdj+M4fw/GshZc98OAkCRNZustUG7P6a5YsvDING/2IWBsFiX0T8s009TwIkFQHlts4vbTs8/9mhE23It6j/GqKl/OwP8P9zT+CiZ1QFAkYvXocPw4D8KPirVyOTsP/McxHSAXMA/eecuHrdZB0Apdgfa5Nb4P7T1DliU1PM/P/22s3oX9D/4g259MLz4P/jZWHAyyPQ/V9RvCjGB+j/gI4aytzPsPygYrQqIa/g/RJr0f3Zp9z967FtFWaHRPxelgI1p4/w/lxfPdfyd/z8AkfrCcTb0PylrAswZkgBAr8nHhAem5D8z/vhYoj70P6UEBz6HXu8/on4G2N9z+j+0msN3SUL6P6PFtJQFswJAZHoz1LLzAECSyHJ8vzP0P0i6yxQEtfg/G7KwRchW8z9FFobySfjzPw7AhfyEbu8/bntnUSFR8z/MMAG6MzgAQNVlizmt1/w/lqLk7+2Y9j+mgoJa7EzgP4jn0e8eqOo/EV8mRkWO8L8No5BfaYG9P12lzV+rpfQ/WMDsRtmp/D+lrOcM1/P5PyLesUopqfc/V0G+QouTAUBxySlDrUTwP+KN26JQ3+4/8WYzS2068j9kbw/EZjTrPysvSk3jif4/OLFrF8t88z+2Oexvflv0P7pVzLuq3/W/nJF/GSTF2z/hvLtAnSP1P1gkOW/zcABA6hq1W2xD9T9bLCPli2X4Pwmgeean9fQ/hQ9+xlc+6T9LsdlrQR/jP+rtSbJkitA/ekxHbUT29D/8hDY6UrPqP0/lVrOhwvc/jFZ9OJt79z9pwDH1tsP/P+LeV4DhOQBAZCr14xlI5z9mo8Pzyhn4P89Yk1zf4/U/AVTYOguv8T94/WMlHGv5P9z03EtAufM/+DSuQUcu+z9EfCDMsQABQBE016cFocW/G1aGJ9z6/z/7mcLrsZTiP9KvUrhTr/I//1eS6w009D9TSN4hmlLjP8HIPEAhPO4/sP1Id0U+1z+CaH6AiS/0PyGR9dh1Ruw/Etw41O4D8T/ujtnyrS3BP/BR2tc8Puw/dovOY9zf1j/WYL6HlyPsP6G5En56ZvU/r1xJszza/z8iQ6Z/xKT8PyqStdbt/PU/oKVSZ8sv3j/rUG5I3nr2P9y3a5l3jew/LWmxOXX9/D+RMeSiAjL1P+2SdCufaPI/pLIoPws4/z+WZQjBdpD8P3gyfezgefc/eH+Yi/Nb3z/orFW2OXP2P8AKGY7d4PU/Qmm4xIpA/T9vrWrFVr3yPz16nMj4Ks2/uOQar7M0vz+XQGiZ3ET6P0d21MPrwfk/jVtyWPTx+j9lZrJ2G+D/P1EmShI0Bfg/uU7h5NCt8z/dovW8Eun4Px1w6ufXVvw/QldG6F7d7T9qRo2ugazaP2PzH08Qh/I/01VeIZsr8j8tQ/mk61byPw6/4i0zgfE/Mtdle15j5j/zUre7E/b1P96RhDtEOfA/xcM69YGm6D9RiTk3xIHwP3f1jugOofc/o7ekVeRj9T8aENXk05HyP9fQWhjElvY/hjf+JKSf0D9c9vSTz6PqP/zpaGeO4/s/hjxP0H0W4T9oXUh9nGv5P/QGWjarEgJAxNI+FHpX9z+ZNzCNnHjzP8dYQGe4sP4/+d0DpC5KAUA222UEoxL0P7yI8pF+xPE/yeRMlAoQ9D9BhfJrs1/1P/P9fTjUuQBAqAsNoCCytb9zyTf5mojOv4XzTaevsAFAMDHvCS4++j/XdVLfG7z2P8sfbyhC+P8//e8AvQeG+z8Zq+yiU9vwP5jmDvSYG/0/1HgyTSwC8z8QxPDvVo0AQKZ6VUGzvfw/AKj2513n4T81mhTaSGzoP+xoROYoV/g/elA+P4MJAkBC9Y77m+D2P5FqJfRdR/g/ye/BuZ+w8T80e8LGPKP3P0yVTYsRkfU/Cr71C90t9j9WRqpZhh36P6PY4pHJDPA/kEkzpCcy9D8AgaZFuZz0P9fzEGwiQek/7uCyhJkK+T8bvACHc0D4P0L4dZHzn+k/36a0SorK8j921bTo663UP+EQaM46wQJAycrW69fN9z/h4v/7jEf0P/8390i4Ds2/+3m/X8f/+z9FYbaNMGH9P+cvlSihkOW/V4oW+Vwt4T+yL6dBJQL2P/HJVlPG3PM/wSgblN329D++LugXdor1P5ECQyfQiu0/tqXeLgTD+D/HID8Jiv3xP3Bnx7UL3Ia/qbRJpu6k8z+cPVDrlJftP3MJoaOgdvI/VDOL46Ti+D9y8M5acIHwP4MREintw+Y/jf21agwXAEBBcIrxXcj1P3j0FimPu/I/OyXPsGkP8j+cJ9FgUBr1P1w+s3Ao3fs/Mdm7A/lx8j+fcP1WKDX3P6/C4JaYsP8/fksUS2+d8j/fD/n0N7v1P1KzgweoG/o/5RSd8PmD4j+ZecqG8DvyP57WFJwraec/wGK82P/I+T/Tof4H6An5P0vzyETXGug/U3UAe0eu+T/3JOVO3SX6P49yAVfB+PA/JCT6lWKr/D8X+grPhqbxP18i/VRjnfU/ZeP9Xeq39z8lVujuRkD2P7OKN6bCQPs/w5ZvdqVN7j8LMdEus/r+P4HPJ5W89/s/aD75dqSd/j9KNp34YML3P0CB3nQH/OY/rWo9rmmY7b+mryTACybUP4MiPHLezAJAst5vnyOt+T9f8hz1tq4AQBm7IK2jFPA/K5oSn5rhAUCR6a/Na97yP2iVEJhPMek/nGnXAQ9BAEB3nAiDtOztP+bYqiCgP/Q/igz3VKOo/z9q+xv7Y3vrPxuibmI6LPc/gc2VfE4P+D/gUV+vPpcDQOAkVGSekgFAIqGjohgQBUDfuBYZ1XkDQLKpMOqzRvY/Cat4FYm//j8ihQDYhhj2P/JPmo2/GPs/Iy9xy29B6T8nLNn06BD6PwtTld8MH9A/W9ZQBn/V9z/IV8ddDvTsP5IZdx0ifvQ/xyV2mjLP+z+XvhwokIP1P5AakzAPJfw/mBz73tyW+D+Hw/zPHtz3P6JGGVKfp/Q/Cb+FVW3P8j9X8GkXjH/gPyI17CN8Q/4/asCFimZl+z+dvHa55PPiPzetlXBgROA/mrSfMxc/0D8XRsuY/M/yP8EJ3jSnZABA+ygDIdoC9T/QmJ4KWoH8PyK0blV1LPo//LBvYDHO8z+39pYTOQABQM2/EY+Z1us/BEc9ily5wz9Eoyj15LPZPy3kMwqYlPg/H2KhfUgM9z/WiXjn4MIAQPs+udjhXwRAallytBo2oD9EivEtOHkAQNJ+n3zjP/8/wFb5xqzB+T9GHvjpt7/4PwyEpggCTus/KjFc5EMW9z9LkR1aCJb0PxABE7X/kvc/5LEYPW2M9T/s9KX3A0cAQFL1rthxefo/zmZ5Unyj/j+Edf4iofTxP4pKYcnRW/E/4FbdXQRs2z8e+znNxXD4P8eoAvRh5fY/IKFxWhfp67+roPVhsFcEQCNnK+yj3PQ//y5NkcJ88T/5koYLB+P+P+IS+LJYQPo/70IxgelJ+D85Z8GAhhrzP/gCJSh5qvc/yTArBYCYAUCw1jUzwnLfP6U9hcEuTv4/x8k0Eo114D84Si/qxDD4P/LsXRSd2e8/WygCiPEy8j+0ZJ6beTXSv7KtwPiJk8M/iCuG1ykb+j/jPNsYEJ/8P8s4aRmm9LY/IEKoa8AX8j8H/ElwSuX3P1r+cCpk6ew/RxALOqt78b8vcKstCE/pPy57FxmWY/U/RFuA8+hX6T91Gl1CSrX+P3K6ODoLLPU/FcgfZ6HX5T9H6KD6aNnvP7+8T0b5JwNAx21W69V87T+sRcC5QUrnv4QcC9CIGPk/jU+k+PrU8D8UQ4rxdobYv5n5YS0fRP0/PiLWsccc8D/6DiJJ5h2hPxDtEmRZp/8/yM1JlxU1+D9FpCHcAj7iP2iyRmTen+k/F8nAVQ437j/e5tFlgWoAQF0E0MNLCvQ/5Rg3ix3R8D+oqLho7nj1P6Wt16ArmPQ/vCeDeyza9j8pULA12dz0PwjgfCt3J/c/XCLw/pP49D+1tMe/yAHzP7IFMo+1rgRAw26gy+b09D+VaouiNLLsP36LySK3k+w/PxHJMbc77j+4paQefEXnP0BPCyxUbNA/5FMVmNNN7j9BXwBw40X0P6RaMgGJue4/EsmCsYKn8D8q/eWFb+P0P90ScllH/vI/ur3ZUeET9T8hsInYivr4P6P2KgZDL+G/P8W2Rpnc7j/kvAQuYKrcv9JZtfOyNdI/rexNs55aAUAJN3Wt13L4P0yXsQrnAv8/p206i076zT9E6WzZ6u79P90tMgWoJfI/1j01pHjCA0DY17OBTRn9P6SDDLL6ZPU/c7eoiEcSAEBgCyz1RT4CQLJKrxHgMeI/VdWFsuQR/z9aLE/h2MzoP/SzBmHbf+k/dNYj17ZY9D8JMNhCN5DvPxqBkc6ZOP4/PU/RvHQf/z8w1byJTNn5P4blvDy9G8G/bbKTbzZy8T/5HWpXpPbgv6s9FWjBGP4/eaz5/ijk/T+EqJEW6BP6Px7GaFUC8/0/6GzXWQNdAUDWEFKuZx0BQN6YZcjwXO0/A9puCXOn/z9cUlS4zDv1P/fLM8kPCPM/8UMOnb54+D+xx57Fhj/3Pyrx/JRIovA/kwzSRfFD+j83zzmmoeX4P72MJF3smfY/+Df9/jnC6j/gM7xyBlr1P+loW8IAIPc/Gw0CXlsW5j9BQ8KbHJXvP0CMuo1MZQFAPMIfE7tg7D9a5MHZmHruPyztiKxFn98/6GVZDaQSiz+G8junbJfSPzB3q1PpjPE/zld4XRaG5j8Ejv1ni6X1P7wGz7cjA/I/Zl/8QL1V/z/69izXfBjtP/9Whxqnb/Y/hVVujRYK7T+cYcqFHPkBQC/l7b3pvvQ/dgZNoZMU5j+2Kw0HRVn6PwtPiyY0xv0/tzvFT0p6AEDt7PFImFT1P0VE5HzpKvg/WK6VAqsS8j+p0P9PEaT6P2Q9qZFiIeU/h5uhSiyY/T/R2wSADd0BQOENypE+mwBAMK3Xjt3geD91fgeGxNz6P6HGeMeqD/Y/nLbsFwrb5D8aSMaJLeQFQBQiMcYIvQBA2OYFshVA4D8VJaNyZrzyPydEzW+Vxvo/9qyuiFiB4z8afbdRVg/wP+9+tkfidANA38E21Ots8z96a7odWu/9P4U1YcKPGPg/Si0motzM6z9uW+oJJrjDP90c+RTKGPE/isr3B0/SwT9Lr7lqSKf7P0Y/tkX4LOE/0SJUR6Sb8T/AzMzQm2XuP0Pwq9+xsPU/r/KpYnPez7+amm8UUpT2P+pOScXMmf0/QRIt24MU+D/zDl/rHUP7PzV4oPcMYvY/7/OmMw6m/j8gmfy80PDkP0wD1NBI3/E/PEOjdITP8z+o7rM3VTHtPxhWnlpwyf0/uCfRZXtn+z+4nRp49PD3P1OvEHBeHuc/xHE8v5ss9T8WM+dsMA73P2fylILflew/yYbqU3T6+D9gblSpWlr2P2Df6wKglv0/RhQx1Va54T9zs/LIHvgCQHD+glDs+c8/aQOz4hi04z/0oXE/4gP6PzTfn32cevE/ejeK3qb5sz+HwnnoZTP0P60zj9FGufI/YnWH8or18z+bAdKoDM32P1XYtlCyytM/AuaYin/H+D8J+Hp6Pkv2v6m1xjRbquk/YN1ZdhBX0T8vPy/CSdbTP7vscwJJ8PU/wh749+0m8j+Crjzx73j3P7gT5G/op9s/TGm4tBKH2j+XjxnlG8MEQPNBO1ISjv0/tZz7wItf+D+xLOEpFkLhP0CvwFzVFfg/fMMgr1kH/z9oxqUABsPBv8P+VW68TOI/u2MGApww8D/s41oVK27zPzu+j2fJCPg/mu7VZKo1/z+0oxmcv9zxPy/0gVZXJ/g/YUnX3lpA+j/CQrMg+Hb3v0tLkW9cOOo/FY2yMvhg/T8Jr3Bw6RvyP7d0A9mVVfw/js0Z0tg9+j9kYwQhXjzrv2dgALakqPo/HWrZsmucBECIn0CyxcMJQN05jd4LAAJAaTZ+4msv7j9Umf8HruC8vx0V9B6rMv0/Gj4YVgZU8j8umv1+THP3P+hJEwH6HANAm5NcvwLw8z9B785I+0gCQMqN8MElOu4/uvdRAMXK7j9ZGB83k7byP+CnXTEKt/Y/zIaKgjFx9T8xhnxWi3PnP3N9IDe3OfQ/9PG2SD5T8D+g566tJpT1P3R0SXFEMvY/5pnwAlSd8T+rSZxOwpEBQOgfMFVXhf0/BKIYYqdJ8z9TFoYLOlnhP+fgT26J1se/Geb3Nu9J/z+qzhTM0xzyPy8OjG4NJ+E/F4yvKeBU+D/xDjl0uMbuP9WNgOkXYPE/brc2FYw217+lwL6mLCDrPydFdeSVgAFArUYN9vvIAUCNB657VqMBQMYEsYOw1fY/kZ0mGpPm+j8r9rYRZwH7PyUXcKIJEfk/DrehNn6lBECT26b5A9/1P1WmXskbNABAeuUlJIlw9D/bGNSav0b7P8X9ZqBJs/M/Za2dPPIK+j9JAdgc++n+P97uRnTWSAFAwq8OEdTJ5T+Uxk4OnMP6P9eifelPauE/pd1m+Q6L9z/WStlrgufuP2AeLyPCPfI/3t6paUQc2T/Zg/QN1qABQGEnN9zcaPs//4bBy4HE9D+0+eYiMIjwP3emokuzRgJAEfoY/t0k8T9qccmDbzv/P8YWs400FPg/uhFym6AOAEBfCaN5pZP3P6WtpWE4bv4/E/2CB4gU9T9dOLoOwyj1P4llDr1bSvo/CooNkmhA9j9Nr96Wis0AQBwkYzYoNdU/2PNZLgwa/T++e3VizPLsP2G3dYxKlvY/z2KrdJJB/z8PgHA02i71P65dOITHQNg/6M1XHZQj9D+PUpjwnS71P2Z2pR5hJd0/S0noKsGN9T8lQZTIoGjyP36p4VHoJwVA5Mx7S1QO3D9G9PpBfWgBQErqJ/6mOcE/ONNldOziqr89S3ftM5/qPyXzDNETj/w/JQwTCJPF8D+tem7lnLX6P17jUm5L3O4/Yp1tpfjkAUAgVlg72LfzP4u8TVEOAgFAKFbIsiZqyj/Z1bGmrQfgP6ojcD7oquI/BkQCJNZM8T/eC/2t7NX6P6y59z4z1v0/Zg6GVs1w+T+GidG7KvTWPxUyNasYleY/zF+2iz7g/D+Be9w8c+j4P504XoGf4+8/pkDVuyWs7j+vUJDXmjH5Pz6dNdKinPk/bXJOGy7O+j814UJ24hj8PyS/zHyNqvg/R2Q3jn/N+T8CGj/bqTPfPw1YGckIkvw/UY9TpRXn+j81E1v3kKzzP7i9wBtWJPE/QficH5hP9T8aGcvC68L6P6wfLiXFMgNAyHUQZ9fF6j9BwVobHP7vPzdBs/8y+wJAxS/EJRHh/j8qD2DvQwoBQBM6tcvVmfc/I/Li+a7b9T+yQ6X3Ky36Pyh4Viy2zeS/MsNoM6WF9T8kKYI9Fnz7PwYec8kghABAfgc0sRof9z/buW83wXTwPyZjB+53N/E/SRPrF2oZAkAqsvgfUtDyP7nhIzoLbPE/1Jhe9bJm9j936T3pLDvqP/bEgQ1+d/Y/JW5sSwd36T/iKlzqjun+P2s9LDeoiQJARyd5s2lS+T8uKShVgOrRP0a+aftvRARAaOshBguj8z/1PP34CfT0P9q1OtcuOwBAdBCYsDTQ3b8+5kbGuNHcPye8R7WWd/Q/ehBqQnAnA0DcfsRsDw3gPz9gGtH/XwFACtgm4skV8j8rUybYLR32P5eXtJBp8fY//YdVf4Uq6D9TqQR20P72P5yD9/WpEPU/wOdyHflX+j8d75mPN5kAQALnoAB+ZPU/Xvk/T3sE9j/GN1bwSG72P3JIqQXFAv0/UCzHRdva+T9XyaXMF/b/P/6USSmlY9K/lkC7/edi6D/y/1hLtfrgP7gC8J9tX+U/GZhJ6MK8A0DuGGEzQ9zuP8rCHaRj4+M/o8C+mDy28j/sHlvz+mjbPxlX2zHow/s/OxnHp9Fw7z9M8qJauxf5Pzetnf6Frv0/yOxDzTma4j+4TxfC19vrP4TQ10QfqPw/JRvu7VYK5j9qs3aSQbQEQJ6vsY/MVN0/MHFUuOVVAkAA1lLUPnHjPwCrxgHOFwNAzuew6MCU7T/iH/srjnn7P48S9uZziPw/nIbqcr2O9D81fqFqp/zvP/Am12xumAJAq4O0vlyE+z/QLqHWzF7oP2jHf4dUqN4/eNPA4p+O9T8SCNVsz3/ZPxdrPoY7If0/vdlcO1Qs9j/gjUBPITX6PxIqc+yzVeI/WX7ZN+U78j/peky5Bb7sP24IMKtSyfQ/8gA3z6f68z8FAKhxmYfAPwEZr8wJt+8/jCLolfUE7j+3B9HSjDfwP0zQuKzB+Ow/+dBUCOqA4D/RacynnsL2P6ZHJe/iJ/o/WFIH4QwB6j+MkzH5VbfzP2ea6vaVc/A/THaabImA9T8JZf/V13/yPwzPv0UHF98/Zl2qt3Cm9j8wH+Di6fLpP6FAMCtJjfM/nAjvHuPJ8j++CwLbp573P/1PtCLxdQBAlE7w/ZGo+j8dZUU7JSj2P/cRWyGiyfg/U2GakzK89D8YzBQG6IjxPxwvEY1eiPM/7zLVkAwU/T9SszuZUP8BQLlSpgPrBQBA3K9c5bMBAkDuWHyXTFPxP8ghqIZqb/k/tjxHdreJ9D9qICHRta/7P59QBQyhXf8/qONwI8wG8D/pvf0BXkf6P1p/6/xoles/zkoRkl89AEBUPH0A/YUBQFUK0DXjvPg/LoYsw7nv3D8e+kKtSXbfP9iXuzIKkvs/gMAYO9I58z/bpurrq6T3PxWGY5QZ7O4/iA0VZMm9+D+xUZ9eDEP9P0gEgarHVP0/IdbPr/Vz9D8Cmeq4eA3zP1/pnouFbPo/90QVOgC7+T+cRkPbMon/P2ruPZSbIvQ/GSrHxVgw6z/vjy/83fb6P4fJ39OR4eK/WQ57cu4DAkDC8UEP78HsP/Ph43B2AfQ/FZWuLfy2+z8Ptu1wQykBQPfuiRB9hOA/cFNf11mH8j8mkkkGkWABQEg/SqGf0Po/+KFBzULa4j9jblG+Q6/+P+heHKmIsfc/3oBRkjB/AUARUH8zZDv3P3x85xBT+gBAyp6Wzlqb8T969qjvc1XnPyfzK/1mp/0/BhOeQowK9T/Tkrgu1s/3P0ffok6r3vM/arz6RbRcBEBapfY8X6wCQPJ2DWIfzuA/Yroy2RiF7T+xA1x54ez4P8P51ZQL0Po/ao5OUNmU5z881pnrQ4OTv/+vx4O0GwZArZtIfPiG9D+0tasdv/EDQNBDXEvGFfk/18UvS4Mr8j8+qUJMfiz7P82R8/W3tPg/MfjqTLhIBkBB16VV0YD0P4jtblCA6+8/wyftiWXm6z8mj4PuluLyP6WVFux0FPI/cyERrPNk4D8S+TbWDMnpP2ZnA9dQIf8/KRcX7jD4wz+cd/DlsZL7P0ASrcgl1M0/l/dUGeG0+j+P6r4DzJHtP2b3z+wLtO4/sVvDx+be5z9T6j8oMHviP61deuxMIvA/E4KgwmsF6D873FpU1UD3P4If/DyrdMk/PpwX4HL06D8e+F4RFDr4P4Aiua4boPM/NsKgPlVN+T8Le9Uf5BwBQLlvRUm9Y/c/n0XrsiO6AkCQYXtcaRzxP5qRQIDa+AFATnwGpMMRAEB7e+mgSDL/Pyo8xA7J4uQ/3kumHZNQ+T+6AR8R19j8P5m38aq8dwVAtXEnozVb8j8oqKcUwCn3P8QVWeyF1tA/jh7ff3xU4T/JHwFjRXAAQNvtWm+xo/M/idoAMydEA0DqwubIwvjyP+Psa9rxN/s/QTFSIZB15z/HdNM1n2EAQMSIEHNeiO0/I/WCdpLA6j/ku86ptafpP3S4KxZ7tuA/f/TBBLhf/T/9hVw2s5P8PzAvXyGzdoi/8XXStbE40j/YGDB8tBvlP9kgRa0vlvg//gb5GY4q8j+MuszVMAH0Py5Ui7OiwvA/Sof3KA1N8j96QBV8B8r4P9Fx0hKQEPA/MIkQOu9K8D9/YeAc9iH8P1om0fCFj/I/",
          "dtype": "f8"
         },
         "xaxis": "x",
         "y": {
          "bdata": "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",
          "dtype": "f8"
         },
         "yaxis": "y"
        },
        {
         "hovertemplate": "color=heavy-metal<br>0=%{x}<br>1=%{y}<extra></extra>",
         "legendgroup": "heavy-metal",
         "marker": {
          "color": "#ab63fa",
          "symbol": "circle"
         },
         "mode": "markers",
         "name": "heavy-metal",
         "showlegend": true,
         "type": "scattergl",
         "x": {
          "bdata": "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",
          "dtype": "f8"
         },
         "xaxis": "x",
         "y": {
          "bdata": "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",
          "dtype": "f8"
         },
         "yaxis": "y"
        },
        {
         "hovertemplate": "color=study<br>0=%{x}<br>1=%{y}<extra></extra>",
         "legendgroup": "study",
         "marker": {
          "color": "#FFA15A",
          "symbol": "circle"
         },
         "mode": "markers",
         "name": "study",
         "showlegend": true,
         "type": "scattergl",
         "x": {
          "bdata": "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",
          "dtype": "f8"
         },
         "xaxis": "x",
         "y": {
          "bdata": "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",
          "dtype": "f8"
         },
         "yaxis": "y"
        }
       ],
       "layout": {
        "legend": {
         "title": {
          "text": "color"
         },
         "tracegroupgap": 0
        },
        "template": {
         "data": {
          "bar": [
           {
            "error_x": {
             "color": "#2a3f5f"
            },
            "error_y": {
             "color": "#2a3f5f"
            },
            "marker": {
             "line": {
              "color": "#E5ECF6",
              "width": 0.5
             },
             "pattern": {
              "fillmode": "overlay",
              "size": 10,
              "solidity": 0.2
             }
            },
            "type": "bar"
           }
          ],
          "barpolar": [
           {
            "marker": {
             "line": {
              "color": "#E5ECF6",
              "width": 0.5
             },
             "pattern": {
              "fillmode": "overlay",
              "size": 10,
              "solidity": 0.2
             }
            },
            "type": "barpolar"
           }
          ],
          "carpet": [
           {
            "aaxis": {
             "endlinecolor": "#2a3f5f",
             "gridcolor": "white",
             "linecolor": "white",
             "minorgridcolor": "white",
             "startlinecolor": "#2a3f5f"
            },
            "baxis": {
             "endlinecolor": "#2a3f5f",
             "gridcolor": "white",
             "linecolor": "white",
             "minorgridcolor": "white",
             "startlinecolor": "#2a3f5f"
            },
            "type": "carpet"
           }
          ],
          "choropleth": [
           {
            "colorbar": {
             "outlinewidth": 0,
             "ticks": ""
            },
            "type": "choropleth"
           }
          ],
          "contour": [
           {
            "colorbar": {
             "outlinewidth": 0,
             "ticks": ""
            },
            "colorscale": [
             [
              0,
              "#0d0887"
             ],
             [
              0.1111111111111111,
              "#46039f"
             ],
             [
              0.2222222222222222,
              "#7201a8"
             ],
             [
              0.3333333333333333,
              "#9c179e"
             ],
             [
              0.4444444444444444,
              "#bd3786"
             ],
             [
              0.5555555555555556,
              "#d8576b"
             ],
             [
              0.6666666666666666,
              "#ed7953"
             ],
             [
              0.7777777777777778,
              "#fb9f3a"
             ],
             [
              0.8888888888888888,
              "#fdca26"
             ],
             [
              1,
              "#f0f921"
             ]
            ],
            "type": "contour"
           }
          ],
          "contourcarpet": [
           {
            "colorbar": {
             "outlinewidth": 0,
             "ticks": ""
            },
            "type": "contourcarpet"
           }
          ],
          "heatmap": [
           {
            "colorbar": {
             "outlinewidth": 0,
             "ticks": ""
            },
            "colorscale": [
             [
              0,
              "#0d0887"
             ],
             [
              0.1111111111111111,
              "#46039f"
             ],
             [
              0.2222222222222222,
              "#7201a8"
             ],
             [
              0.3333333333333333,
              "#9c179e"
             ],
             [
              0.4444444444444444,
              "#bd3786"
             ],
             [
              0.5555555555555556,
              "#d8576b"
             ],
             [
              0.6666666666666666,
              "#ed7953"
             ],
             [
              0.7777777777777778,
              "#fb9f3a"
             ],
             [
              0.8888888888888888,
              "#fdca26"
             ],
             [
              1,
              "#f0f921"
             ]
            ],
            "type": "heatmap"
           }
          ],
          "histogram": [
           {
            "marker": {
             "pattern": {
              "fillmode": "overlay",
              "size": 10,
              "solidity": 0.2
             }
            },
            "type": "histogram"
           }
          ],
          "histogram2d": [
           {
            "colorbar": {
             "outlinewidth": 0,
             "ticks": ""
            },
            "colorscale": [
             [
              0,
              "#0d0887"
             ],
             [
              0.1111111111111111,
              "#46039f"
             ],
             [
              0.2222222222222222,
              "#7201a8"
             ],
             [
              0.3333333333333333,
              "#9c179e"
             ],
             [
              0.4444444444444444,
              "#bd3786"
             ],
             [
              0.5555555555555556,
              "#d8576b"
             ],
             [
              0.6666666666666666,
              "#ed7953"
             ],
             [
              0.7777777777777778,
              "#fb9f3a"
             ],
             [
              0.8888888888888888,
              "#fdca26"
             ],
             [
              1,
              "#f0f921"
             ]
            ],
            "type": "histogram2d"
           }
          ],
          "histogram2dcontour": [
           {
            "colorbar": {
             "outlinewidth": 0,
             "ticks": ""
            },
            "colorscale": [
             [
              0,
              "#0d0887"
             ],
             [
              0.1111111111111111,
              "#46039f"
             ],
             [
              0.2222222222222222,
              "#7201a8"
             ],
             [
              0.3333333333333333,
              "#9c179e"
             ],
             [
              0.4444444444444444,
              "#bd3786"
             ],
             [
              0.5555555555555556,
              "#d8576b"
             ],
             [
              0.6666666666666666,
              "#ed7953"
             ],
             [
              0.7777777777777778,
              "#fb9f3a"
             ],
             [
              0.8888888888888888,
              "#fdca26"
             ],
             [
              1,
              "#f0f921"
             ]
            ],
            "type": "histogram2dcontour"
           }
          ],
          "mesh3d": [
           {
            "colorbar": {
             "outlinewidth": 0,
             "ticks": ""
            },
            "type": "mesh3d"
           }
          ],
          "parcoords": [
           {
            "line": {
             "colorbar": {
              "outlinewidth": 0,
              "ticks": ""
             }
            },
            "type": "parcoords"
           }
          ],
          "pie": [
           {
            "automargin": true,
            "type": "pie"
           }
          ],
          "scatter": [
           {
            "fillpattern": {
             "fillmode": "overlay",
             "size": 10,
             "solidity": 0.2
            },
            "type": "scatter"
           }
          ],
          "scatter3d": [
           {
            "line": {
             "colorbar": {
              "outlinewidth": 0,
              "ticks": ""
             }
            },
            "marker": {
             "colorbar": {
              "outlinewidth": 0,
              "ticks": ""
             }
            },
            "type": "scatter3d"
           }
          ],
          "scattercarpet": [
           {
            "marker": {
             "colorbar": {
              "outlinewidth": 0,
              "ticks": ""
             }
            },
            "type": "scattercarpet"
           }
          ],
          "scattergeo": [
           {
            "marker": {
             "colorbar": {
              "outlinewidth": 0,
              "ticks": ""
             }
            },
            "type": "scattergeo"
           }
          ],
          "scattergl": [
           {
            "marker": {
             "colorbar": {
              "outlinewidth": 0,
              "ticks": ""
             }
            },
            "type": "scattergl"
           }
          ],
          "scattermap": [
           {
            "marker": {
             "colorbar": {
              "outlinewidth": 0,
              "ticks": ""
             }
            },
            "type": "scattermap"
           }
          ],
          "scattermapbox": [
           {
            "marker": {
             "colorbar": {
              "outlinewidth": 0,
              "ticks": ""
             }
            },
            "type": "scattermapbox"
           }
          ],
          "scatterpolar": [
           {
            "marker": {
             "colorbar": {
              "outlinewidth": 0,
              "ticks": ""
             }
            },
            "type": "scatterpolar"
           }
          ],
          "scatterpolargl": [
           {
            "marker": {
             "colorbar": {
              "outlinewidth": 0,
              "ticks": ""
             }
            },
            "type": "scatterpolargl"
           }
          ],
          "scatterternary": [
           {
            "marker": {
             "colorbar": {
              "outlinewidth": 0,
              "ticks": ""
             }
            },
            "type": "scatterternary"
           }
          ],
          "surface": [
           {
            "colorbar": {
             "outlinewidth": 0,
             "ticks": ""
            },
            "colorscale": [
             [
              0,
              "#0d0887"
             ],
             [
              0.1111111111111111,
              "#46039f"
             ],
             [
              0.2222222222222222,
              "#7201a8"
             ],
             [
              0.3333333333333333,
              "#9c179e"
             ],
             [
              0.4444444444444444,
              "#bd3786"
             ],
             [
              0.5555555555555556,
              "#d8576b"
             ],
             [
              0.6666666666666666,
              "#ed7953"
             ],
             [
              0.7777777777777778,
              "#fb9f3a"
             ],
             [
              0.8888888888888888,
              "#fdca26"
             ],
             [
              1,
              "#f0f921"
             ]
            ],
            "type": "surface"
           }
          ],
          "table": [
           {
            "cells": {
             "fill": {
              "color": "#EBF0F8"
             },
             "line": {
              "color": "white"
             }
            },
            "header": {
             "fill": {
              "color": "#C8D4E3"
             },
             "line": {
              "color": "white"
             }
            },
            "type": "table"
           }
          ]
         },
         "layout": {
          "annotationdefaults": {
           "arrowcolor": "#2a3f5f",
           "arrowhead": 0,
           "arrowwidth": 1
          },
          "autotypenumbers": "strict",
          "coloraxis": {
           "colorbar": {
            "outlinewidth": 0,
            "ticks": ""
           }
          },
          "colorscale": {
           "diverging": [
            [
             0,
             "#8e0152"
            ],
            [
             0.1,
             "#c51b7d"
            ],
            [
             0.2,
             "#de77ae"
            ],
            [
             0.3,
             "#f1b6da"
            ],
            [
             0.4,
             "#fde0ef"
            ],
            [
             0.5,
             "#f7f7f7"
            ],
            [
             0.6,
             "#e6f5d0"
            ],
            [
             0.7,
             "#b8e186"
            ],
            [
             0.8,
             "#7fbc41"
            ],
            [
             0.9,
             "#4d9221"
            ],
            [
             1,
             "#276419"
            ]
           ],
           "sequential": [
            [
             0,
             "#0d0887"
            ],
            [
             0.1111111111111111,
             "#46039f"
            ],
            [
             0.2222222222222222,
             "#7201a8"
            ],
            [
             0.3333333333333333,
             "#9c179e"
            ],
            [
             0.4444444444444444,
             "#bd3786"
            ],
            [
             0.5555555555555556,
             "#d8576b"
            ],
            [
             0.6666666666666666,
             "#ed7953"
            ],
            [
             0.7777777777777778,
             "#fb9f3a"
            ],
            [
             0.8888888888888888,
             "#fdca26"
            ],
            [
             1,
             "#f0f921"
            ]
           ],
           "sequentialminus": [
            [
             0,
             "#0d0887"
            ],
            [
             0.1111111111111111,
             "#46039f"
            ],
            [
             0.2222222222222222,
             "#7201a8"
            ],
            [
             0.3333333333333333,
             "#9c179e"
            ],
            [
             0.4444444444444444,
             "#bd3786"
            ],
            [
             0.5555555555555556,
             "#d8576b"
            ],
            [
             0.6666666666666666,
             "#ed7953"
            ],
            [
             0.7777777777777778,
             "#fb9f3a"
            ],
            [
             0.8888888888888888,
             "#fdca26"
            ],
            [
             1,
             "#f0f921"
            ]
           ]
          },
          "colorway": [
           "#636efa",
           "#EF553B",
           "#00cc96",
           "#ab63fa",
           "#FFA15A",
           "#19d3f3",
           "#FF6692",
           "#B6E880",
           "#FF97FF",
           "#FECB52"
          ],
          "font": {
           "color": "#2a3f5f"
          },
          "geo": {
           "bgcolor": "white",
           "lakecolor": "white",
           "landcolor": "#E5ECF6",
           "showlakes": true,
           "showland": true,
           "subunitcolor": "white"
          },
          "hoverlabel": {
           "align": "left"
          },
          "hovermode": "closest",
          "mapbox": {
           "style": "light"
          },
          "paper_bgcolor": "white",
          "plot_bgcolor": "#E5ECF6",
          "polar": {
           "angularaxis": {
            "gridcolor": "white",
            "linecolor": "white",
            "ticks": ""
           },
           "bgcolor": "#E5ECF6",
           "radialaxis": {
            "gridcolor": "white",
            "linecolor": "white",
            "ticks": ""
           }
          },
          "scene": {
           "xaxis": {
            "backgroundcolor": "#E5ECF6",
            "gridcolor": "white",
            "gridwidth": 2,
            "linecolor": "white",
            "showbackground": true,
            "ticks": "",
            "zerolinecolor": "white"
           },
           "yaxis": {
            "backgroundcolor": "#E5ECF6",
            "gridcolor": "white",
            "gridwidth": 2,
            "linecolor": "white",
            "showbackground": true,
            "ticks": "",
            "zerolinecolor": "white"
           },
           "zaxis": {
            "backgroundcolor": "#E5ECF6",
            "gridcolor": "white",
            "gridwidth": 2,
            "linecolor": "white",
            "showbackground": true,
            "ticks": "",
            "zerolinecolor": "white"
           }
          },
          "shapedefaults": {
           "line": {
            "color": "#2a3f5f"
           }
          },
          "ternary": {
           "aaxis": {
            "gridcolor": "white",
            "linecolor": "white",
            "ticks": ""
           },
           "baxis": {
            "gridcolor": "white",
            "linecolor": "white",
            "ticks": ""
           },
           "bgcolor": "#E5ECF6",
           "caxis": {
            "gridcolor": "white",
            "linecolor": "white",
            "ticks": ""
           }
          },
          "title": {
           "x": 0.05
          },
          "xaxis": {
           "automargin": true,
           "gridcolor": "white",
           "linecolor": "white",
           "ticks": "",
           "title": {
            "standoff": 15
           },
           "zerolinecolor": "white",
           "zerolinewidth": 2
          },
          "yaxis": {
           "automargin": true,
           "gridcolor": "white",
           "linecolor": "white",
           "ticks": "",
           "title": {
            "standoff": 15
           },
           "zerolinecolor": "white",
           "zerolinewidth": 2
          }
         }
        },
        "title": {
         "text": "PCA Plot of 5 Genres"
        },
        "xaxis": {
         "anchor": "y",
         "domain": [
          0,
          1
         ],
         "title": {
          "text": "0"
         }
        },
        "yaxis": {
         "anchor": "x",
         "domain": [
          0,
          1
         ],
         "title": {
          "text": "1"
         }
        }
       }
      },
      "image/png": "[encoded data removed]"
     },
     "metadata": {},
     "output_type": "display_data"
    },
    {
     "data": {
      "text/plain": [
       "<Figure size 640x480 with 0 Axes>"
      ]
     },
     "metadata": {},
     "output_type": "display_data"
    }
   ],
   "source": [
    "from sklearn.decomposition import PCA\n",
    "\n",
    "top_genre_songs = numerical_data[numerical_data.track_genre.isin(top_genres)]\n",
    "\n",
    "pca = PCA(n_components=3)\n",
    "components = pca.fit_transform(top_genre_songs[['danceability', 'popularity', 'loudness', 'valence', 'tempo', 'acousticness']])\n",
    "\n",
    "fig = px.scatter(components, x=0, y=1, color=top_genre_songs['track_genre'], title='PCA Plot of 5 Genres')\n",
    "plt.savefig('pca.png', format='png')\n",
    "fig.show()"
   ]
  },
  {
   "cell_type": "markdown",
   "id": "a3ad986b-49e2-47b5-8735-25a35777a0cc",
   "metadata": {
    "papermill": {
     "duration": 0.405536,
     "end_time": "2025-05-06T18:53:20.757102",
     "exception": false,
     "start_time": "2025-05-06T18:53:20.351566",
     "status": "completed"
    },
    "scrolled": true,
    "tags": []
   },
   "source": [
    "# 2. Filter the raw data to only those genres\n",
    "df = feature_data[feature_data['track_genre'].isin(top_genres)]\n",
    "\n",
    "# 3. Melt into long form so each row is one (genre, feature, value)\n",
    "df_long = (\n",
    "    df\n",
    "    .reset_index(drop=True)\n",
    "    .melt(\n",
    "        id_vars='track_genre',\n",
    "        value_vars=features,\n",
    "        var_name='feature',\n",
    "        value_name='value'\n",
    "    )\n",
    ")\n",
    "\n",
    "# 4a. Violin plot (shows density + box inside + points)\n",
    "fig = px.violin(\n",
    "    df_long,\n",
    "    x='track_genre',\n",
    "    y='value',\n",
    "    color='track_genre',\n",
    "    facet_col='feature',\n",
    "    facet_col_wrap=4,\n",
    "    box=True,           # draw a mini boxplot inside each violin\n",
    "    points='all',       # show all points\n",
    "    title='Distribution of Audio Features for Top 5 Genres',\n",
    "    width=1500,    # ← total figure width in pixels\n",
    "    height=700     # ← total figure height in pixels\n",
    ")\n",
    "fig.update_layout(showlegend=True)\n",
    "fig.update_yaxes(matches=None, showticklabels=True)\n",
    "fig.update_xaxes(tickangle=-45)\n",
    "fig.for_each_annotation(lambda a: a.update(text=a.text.split(\"=\")[-1]))\n",
    "fig.show()"
   ]
  },
  {
   "cell_type": "code",
   "execution_count": 17,
   "id": "8941d2a4",
   "metadata": {
    "papermill": {
     "duration": 1.960144,
     "end_time": "2025-05-06T18:53:22.743750",
     "exception": false,
     "start_time": "2025-05-06T18:53:20.783606",
     "status": "completed"
    },
    "tags": []
   },
   "outputs": [
    {
     "data": {
      "image/png": "[encoded data removed]",
      "text/plain": [
       "<Figure size 1600x800 with 9 Axes>"
      ]
     },
     "metadata": {},
     "output_type": "display_data"
    }
   ],
   "source": [
    "import numpy as np\n",
    "import matplotlib.pyplot as plt\n",
    "\n",
    "# 2) Create a 2×3 grid of subplots\n",
    "fig, axes = plt.subplots(3, 3, figsize=(16, 8))\n",
    "axes = axes.flatten()\n",
    "\n",
    "# 3) For each feature: compute histogram & outlier bounds, then plot\n",
    "for ax, feat in zip(axes, features[1:]):\n",
    "    data = feature_data[feat].dropna().values\n",
    "    \n",
    "    # Box‑plot outlier thresholds\n",
    "    q1, q3 = np.percentile(data, [25, 75])\n",
    "    iqr = q3 - q1\n",
    "    lower, upper = q1 - 1.5 * iqr, q3 + 1.5 * iqr\n",
    "    \n",
    "    # Build histogram\n",
    "    counts, edges = np.histogram(data, bins=45)\n",
    "    centers = (edges[:-1] + edges[1:]) / 2\n",
    "    width = edges[1] - edges[0]\n",
    "    \n",
    "    # Color bins outside [lower, upper] in red\n",
    "    mask_in = (centers >= lower) & (centers <= upper)\n",
    "    ax.bar(centers[mask_in],   counts[mask_in],   width=width, edgecolor='black')\n",
    "    ax.bar(centers[~mask_in],   counts[~mask_in],  width=width, color='red', edgecolor='black')\n",
    "    \n",
    "    # 🏷 Labels & title\n",
    "    ax.set_title(feat)\n",
    "    ax.set_xlabel('Value')\n",
    "    ax.set_ylabel('Count')\n",
    "\n",
    "plt.tight_layout()\n",
    "plt.savefig('distributions.png', format='png')\n",
    "plt.show()\n"
   ]
  },
  {
   "cell_type": "code",
   "execution_count": 21,
   "id": "db801dae-b6f6-4f95-b8cb-02d98cfe939b",
   "metadata": {},
   "outputs": [
    {
     "data": {
      "text/html": [
       "<div>\n",
       "<style scoped>\n",
       "    .dataframe tbody tr th:only-of-type {\n",
       "        vertical-align: middle;\n",
       "    }\n",
       "\n",
       "    .dataframe tbody tr th {\n",
       "        vertical-align: top;\n",
       "    }\n",
       "\n",
       "    .dataframe thead th {\n",
       "        text-align: right;\n",
       "    }\n",
       "</style>\n",
       "<table border=\"1\" class=\"dataframe\">\n",
       "  <thead>\n",
       "    <tr style=\"text-align: right;\">\n",
       "      <th></th>\n",
       "      <th>popularity</th>\n",
       "      <th>danceability</th>\n",
       "      <th>loudness</th>\n",
       "      <th>speechiness</th>\n",
       "      <th>acousticness</th>\n",
       "      <th>instrumentalness</th>\n",
       "      <th>liveness</th>\n",
       "      <th>valence</th>\n",
       "      <th>tempo</th>\n",
       "    </tr>\n",
       "  </thead>\n",
       "  <tbody>\n",
       "    <tr>\n",
       "      <th>0</th>\n",
       "      <td>1.973595</td>\n",
       "      <td>0.656701</td>\n",
       "      <td>0.348357</td>\n",
       "      <td>0.463078</td>\n",
       "      <td>-0.875018</td>\n",
       "      <td>-0.557105</td>\n",
       "      <td>0.697427</td>\n",
       "      <td>0.955723</td>\n",
       "      <td>-1.136061</td>\n",
       "    </tr>\n",
       "    <tr>\n",
       "      <th>1</th>\n",
       "      <td>1.047605</td>\n",
       "      <td>-0.783568</td>\n",
       "      <td>-1.628934</td>\n",
       "      <td>-0.108828</td>\n",
       "      <td>1.748240</td>\n",
       "      <td>-0.557091</td>\n",
       "      <td>-0.598786</td>\n",
       "      <td>-0.745232</td>\n",
       "      <td>-1.482176</td>\n",
       "    </tr>\n",
       "    <tr>\n",
       "      <th>2</th>\n",
       "      <td>1.150493</td>\n",
       "      <td>-0.682299</td>\n",
       "      <td>-0.214914</td>\n",
       "      <td>-0.285459</td>\n",
       "      <td>-0.352014</td>\n",
       "      <td>-0.557108</td>\n",
       "      <td>-0.518088</td>\n",
       "      <td>-1.303357</td>\n",
       "      <td>-1.520578</td>\n",
       "    </tr>\n",
       "    <tr>\n",
       "      <th>3</th>\n",
       "      <td>1.870707</td>\n",
       "      <td>-1.649981</td>\n",
       "      <td>-1.870228</td>\n",
       "      <td>-0.451801</td>\n",
       "      <td>1.692351</td>\n",
       "      <td>-0.556895</td>\n",
       "      <td>-0.442433</td>\n",
       "      <td>-1.216032</td>\n",
       "      <td>1.978013</td>\n",
       "    </tr>\n",
       "    <tr>\n",
       "      <th>4</th>\n",
       "      <td>2.436590</td>\n",
       "      <td>0.330390</td>\n",
       "      <td>-0.204923</td>\n",
       "      <td>-0.312039</td>\n",
       "      <td>0.409843</td>\n",
       "      <td>-0.557108</td>\n",
       "      <td>-0.690075</td>\n",
       "      <td>-1.124909</td>\n",
       "      <td>-0.072888</td>\n",
       "    </tr>\n",
       "    <tr>\n",
       "      <th>...</th>\n",
       "      <td>...</td>\n",
       "      <td>...</td>\n",
       "      <td>...</td>\n",
       "      <td>...</td>\n",
       "      <td>...</td>\n",
       "      <td>...</td>\n",
       "      <td>...</td>\n",
       "      <td>...</td>\n",
       "      <td>...</td>\n",
       "    </tr>\n",
       "    <tr>\n",
       "      <th>81339</th>\n",
       "      <td>-0.701487</td>\n",
       "      <td>-2.178830</td>\n",
       "      <td>-1.470208</td>\n",
       "      <td>-0.401212</td>\n",
       "      <td>0.912845</td>\n",
       "      <td>2.241537</td>\n",
       "      <td>-0.672927</td>\n",
       "      <td>-1.630260</td>\n",
       "      <td>0.127784</td>\n",
       "    </tr>\n",
       "    <tr>\n",
       "      <th>81340</th>\n",
       "      <td>-0.650043</td>\n",
       "      <td>-2.167578</td>\n",
       "      <td>-1.833092</td>\n",
       "      <td>-0.419218</td>\n",
       "      <td>1.954147</td>\n",
       "      <td>2.386295</td>\n",
       "      <td>-0.578611</td>\n",
       "      <td>-1.626083</td>\n",
       "      <td>-1.224946</td>\n",
       "    </tr>\n",
       "    <tr>\n",
       "      <th>81341</th>\n",
       "      <td>-0.650043</td>\n",
       "      <td>0.392277</td>\n",
       "      <td>-0.433775</td>\n",
       "      <td>-0.402927</td>\n",
       "      <td>1.580573</td>\n",
       "      <td>-0.557108</td>\n",
       "      <td>-0.685032</td>\n",
       "      <td>1.062032</td>\n",
       "      <td>0.339642</td>\n",
       "    </tr>\n",
       "    <tr>\n",
       "      <th>81342</th>\n",
       "      <td>0.327391</td>\n",
       "      <td>0.155983</td>\n",
       "      <td>-0.432644</td>\n",
       "      <td>-0.508391</td>\n",
       "      <td>0.150988</td>\n",
       "      <td>-0.557108</td>\n",
       "      <td>0.253587</td>\n",
       "      <td>-0.190903</td>\n",
       "      <td>0.458532</td>\n",
       "    </tr>\n",
       "    <tr>\n",
       "      <th>81343</th>\n",
       "      <td>-0.650043</td>\n",
       "      <td>-0.187207</td>\n",
       "      <td>-0.303514</td>\n",
       "      <td>-0.141411</td>\n",
       "      <td>1.033448</td>\n",
       "      <td>-0.557108</td>\n",
       "      <td>-0.657796</td>\n",
       "      <td>0.929145</td>\n",
       "      <td>-1.425453</td>\n",
       "    </tr>\n",
       "  </tbody>\n",
       "</table>\n",
       "<p>81344 rows × 9 columns</p>\n",
       "</div>"
      ],
      "text/plain": [
       "       popularity  danceability  loudness  speechiness  acousticness  \\\n",
       "0        1.973595      0.656701  0.348357     0.463078     -0.875018   \n",
       "1        1.047605     -0.783568 -1.628934    -0.108828      1.748240   \n",
       "2        1.150493     -0.682299 -0.214914    -0.285459     -0.352014   \n",
       "3        1.870707     -1.649981 -1.870228    -0.451801      1.692351   \n",
       "4        2.436590      0.330390 -0.204923    -0.312039      0.409843   \n",
       "...           ...           ...       ...          ...           ...   \n",
       "81339   -0.701487     -2.178830 -1.470208    -0.401212      0.912845   \n",
       "81340   -0.650043     -2.167578 -1.833092    -0.419218      1.954147   \n",
       "81341   -0.650043      0.392277 -0.433775    -0.402927      1.580573   \n",
       "81342    0.327391      0.155983 -0.432644    -0.508391      0.150988   \n",
       "81343   -0.650043     -0.187207 -0.303514    -0.141411      1.033448   \n",
       "\n",
       "       instrumentalness  liveness   valence     tempo  \n",
       "0             -0.557105  0.697427  0.955723 -1.136061  \n",
       "1             -0.557091 -0.598786 -0.745232 -1.482176  \n",
       "2             -0.557108 -0.518088 -1.303357 -1.520578  \n",
       "3             -0.556895 -0.442433 -1.216032  1.978013  \n",
       "4             -0.557108 -0.690075 -1.124909 -0.072888  \n",
       "...                 ...       ...       ...       ...  \n",
       "81339          2.241537 -0.672927 -1.630260  0.127784  \n",
       "81340          2.386295 -0.578611 -1.626083 -1.224946  \n",
       "81341         -0.557108 -0.685032  1.062032  0.339642  \n",
       "81342         -0.557108  0.253587 -0.190903  0.458532  \n",
       "81343         -0.557108 -0.657796  0.929145 -1.425453  \n",
       "\n",
       "[81344 rows x 9 columns]"
      ]
     },
     "execution_count": 21,
     "metadata": {},
     "output_type": "execute_result"
    }
   ],
   "source": [
    "feature_data[features[1:]]"
   ]
  },
  {
   "cell_type": "code",
   "execution_count": 26,
   "id": "892e035a-1e84-47f9-bbfd-ed6271293058",
   "metadata": {},
   "outputs": [
    {
     "data": {
      "text/html": [
       "<div>\n",
       "<style scoped>\n",
       "    .dataframe tbody tr th:only-of-type {\n",
       "        vertical-align: middle;\n",
       "    }\n",
       "\n",
       "    .dataframe tbody tr th {\n",
       "        vertical-align: top;\n",
       "    }\n",
       "\n",
       "    .dataframe thead th {\n",
       "        text-align: right;\n",
       "    }\n",
       "</style>\n",
       "<table border=\"1\" class=\"dataframe\">\n",
       "  <thead>\n",
       "    <tr style=\"text-align: right;\">\n",
       "      <th></th>\n",
       "      <th>skew</th>\n",
       "      <th>median</th>\n",
       "    </tr>\n",
       "  </thead>\n",
       "  <tbody>\n",
       "    <tr>\n",
       "      <th>popularity</th>\n",
       "      <td>0.067471</td>\n",
       "      <td>0.018727</td>\n",
       "    </tr>\n",
       "    <tr>\n",
       "      <th>danceability</th>\n",
       "      <td>-0.389922</td>\n",
       "      <td>0.077218</td>\n",
       "    </tr>\n",
       "    <tr>\n",
       "      <th>loudness</th>\n",
       "      <td>-1.937911</td>\n",
       "      <td>0.251085</td>\n",
       "    </tr>\n",
       "    <tr>\n",
       "      <th>speechiness</th>\n",
       "      <td>4.484315</td>\n",
       "      <td>-0.342049</td>\n",
       "    </tr>\n",
       "    <tr>\n",
       "      <th>acousticness</th>\n",
       "      <td>0.647358</td>\n",
       "      <td>-0.410844</td>\n",
       "    </tr>\n",
       "    <tr>\n",
       "      <th>instrumentalness</th>\n",
       "      <td>1.463852</td>\n",
       "      <td>-0.556841</td>\n",
       "    </tr>\n",
       "    <tr>\n",
       "      <th>liveness</th>\n",
       "      <td>2.031808</td>\n",
       "      <td>-0.437390</td>\n",
       "    </tr>\n",
       "    <tr>\n",
       "      <th>valence</th>\n",
       "      <td>0.150237</td>\n",
       "      <td>-0.054219</td>\n",
       "    </tr>\n",
       "    <tr>\n",
       "      <th>tempo</th>\n",
       "      <td>0.168174</td>\n",
       "      <td>-0.003818</td>\n",
       "    </tr>\n",
       "  </tbody>\n",
       "</table>\n",
       "</div>"
      ],
      "text/plain": [
       "                      skew    median\n",
       "popularity        0.067471  0.018727\n",
       "danceability     -0.389922  0.077218\n",
       "loudness         -1.937911  0.251085\n",
       "speechiness       4.484315 -0.342049\n",
       "acousticness      0.647358 -0.410844\n",
       "instrumentalness  1.463852 -0.556841\n",
       "liveness          2.031808 -0.437390\n",
       "valence           0.150237 -0.054219\n",
       "tempo             0.168174 -0.003818"
      ]
     },
     "execution_count": 26,
     "metadata": {},
     "output_type": "execute_result"
    }
   ],
   "source": [
    "feature_data[features[1:]].agg(['skew', 'median']).transpose()"
   ]
  },
  {
   "cell_type": "code",
   "execution_count": null,
   "id": "1cf599de-579b-49bf-9d4c-15a372bde95d",
   "metadata": {},
   "outputs": [],
   "source": []
  }
 ],
 "metadata": {
  "kaggle": {
   "accelerator": "none",
   "dataSources": [
    {
     "datasetId": 2570056,
     "sourceId": 4372070,
     "sourceType": "datasetVersion"
    }
   ],
   "dockerImageVersionId": 31012,
   "isGpuEnabled": false,
   "isInternetEnabled": false,
   "language": "python",
   "sourceType": "notebook"
  },
  "kernelspec": {
   "display_name": "Python 3 (ipykernel)",
   "language": "python",
   "name": "python3"
  },
  "language_info": {
   "codemirror_mode": {
    "name": "ipython",
    "version": 3
   },
   "file_extension": ".py",
   "mimetype": "text/x-python",
   "name": "python",
   "nbconvert_exporter": "python",
   "pygments_lexer": "ipython3",
   "version": "3.10.12"
  },
  "papermill": {
   "default_parameters": {},
   "duration": 17.956774,
   "end_time": "2025-05-06T18:53:23.754746",
   "environment_variables": {},
   "exception": null,
   "input_path": "__notebook__.ipynb",
   "output_path": "__notebook__.ipynb",
   "parameters": {},
   "start_time": "2025-05-06T18:53:05.797972",
   "version": "2.6.0"
  }
 },
 "nbformat": 4,
 "nbformat_minor": 5
}
