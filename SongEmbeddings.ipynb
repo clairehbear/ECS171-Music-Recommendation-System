{
 "cells": [
  {
   "cell_type": "code",
   "execution_count": 1,
   "id": "2beaed8b-3bc2-4980-abd1-f6965f956207",
   "metadata": {},
   "outputs": [],
   "source": [
    "from gensim.models import Word2Vec\n",
    "import numpy as np\n",
    "import pandas as pd\n",
    "from pandas._libs.lib import fast_zip\n",
    "import os"
   ]
  },
  {
   "cell_type": "markdown",
   "id": "3d46cfc2-d5ed-48c2-884a-f03f47840d83",
   "metadata": {},
   "source": [
    "# Load and Clean Data"
   ]
  },
  {
   "cell_type": "code",
   "execution_count": 2,
   "id": "313415c4-be70-4b0d-9f16-37330c467eba",
   "metadata": {
    "scrolled": true
   },
   "outputs": [
    {
     "data": {
      "text/plain": [
       "0                                Red Shoes\n",
       "1            Peace, Love And Understanding\n",
       "2                         7 Years Too Late\n",
       "3                    Accidents Will Happen\n",
       "4                                   Alison\n",
       "                         ...              \n",
       "12901974                         Wild Side\n",
       "12901975                             Woman\n",
       "12901976       You Don't Know How It Feels\n",
       "12901977                      You Wreck Me\n",
       "12901978                   Youth Gone Wild\n",
       "Name: title, Length: 12901979, dtype: object"
      ]
     },
     "execution_count": 2,
     "metadata": {},
     "output_type": "execute_result"
    }
   ],
   "source": [
    "# Load first 1 million data points, excluding the user id\n",
    "data = pd.read_csv('data/spotify_dataset.csv', on_bad_lines='skip', usecols=[' \"artistname\"', ' \"trackname\"', ' \"playlistname\"'])\n",
    "\n",
    "# Rename columns\n",
    "data.rename(columns={' \"artistname\"': 'artists', ' \"trackname\"': 'title', ' \"playlistname\"': 'playlist'}, inplace=True)\n",
    "\n",
    "# Remove all parantheticals in song names to treat more songs as the same\n",
    "data['title'].str.replace(r\"\\(.*\\)\",\"\", regex=True)"
   ]
  },
  {
   "cell_type": "code",
   "execution_count": 3,
   "id": "a7a98599-7ca1-4110-8ee2-5eaa23eba839",
   "metadata": {},
   "outputs": [
    {
     "data": {
      "text/html": [
       "<div>\n",
       "<style scoped>\n",
       "    .dataframe tbody tr th:only-of-type {\n",
       "        vertical-align: middle;\n",
       "    }\n",
       "\n",
       "    .dataframe tbody tr th {\n",
       "        vertical-align: top;\n",
       "    }\n",
       "\n",
       "    .dataframe thead th {\n",
       "        text-align: right;\n",
       "    }\n",
       "</style>\n",
       "<table border=\"1\" class=\"dataframe\">\n",
       "  <thead>\n",
       "    <tr style=\"text-align: right;\">\n",
       "      <th></th>\n",
       "      <th>artists</th>\n",
       "      <th>title</th>\n",
       "      <th>playlist</th>\n",
       "    </tr>\n",
       "  </thead>\n",
       "  <tbody>\n",
       "    <tr>\n",
       "      <th>0</th>\n",
       "      <td>Elvis Costello</td>\n",
       "      <td>(The Angels Wanna Wear My) Red Shoes</td>\n",
       "      <td>HARD ROCK 2010</td>\n",
       "    </tr>\n",
       "    <tr>\n",
       "      <th>1</th>\n",
       "      <td>Elvis Costello &amp; The Attractions</td>\n",
       "      <td>(What's So Funny 'Bout) Peace, Love And Unders...</td>\n",
       "      <td>HARD ROCK 2010</td>\n",
       "    </tr>\n",
       "    <tr>\n",
       "      <th>2</th>\n",
       "      <td>Tiffany Page</td>\n",
       "      <td>7 Years Too Late</td>\n",
       "      <td>HARD ROCK 2010</td>\n",
       "    </tr>\n",
       "    <tr>\n",
       "      <th>3</th>\n",
       "      <td>Elvis Costello &amp; The Attractions</td>\n",
       "      <td>Accidents Will Happen</td>\n",
       "      <td>HARD ROCK 2010</td>\n",
       "    </tr>\n",
       "    <tr>\n",
       "      <th>4</th>\n",
       "      <td>Elvis Costello</td>\n",
       "      <td>Alison</td>\n",
       "      <td>HARD ROCK 2010</td>\n",
       "    </tr>\n",
       "  </tbody>\n",
       "</table>\n",
       "</div>"
      ],
      "text/plain": [
       "                            artists  \\\n",
       "0                    Elvis Costello   \n",
       "1  Elvis Costello & The Attractions   \n",
       "2                      Tiffany Page   \n",
       "3  Elvis Costello & The Attractions   \n",
       "4                    Elvis Costello   \n",
       "\n",
       "                                               title        playlist  \n",
       "0               (The Angels Wanna Wear My) Red Shoes  HARD ROCK 2010  \n",
       "1  (What's So Funny 'Bout) Peace, Love And Unders...  HARD ROCK 2010  \n",
       "2                                   7 Years Too Late  HARD ROCK 2010  \n",
       "3                              Accidents Will Happen  HARD ROCK 2010  \n",
       "4                                             Alison  HARD ROCK 2010  "
      ]
     },
     "execution_count": 3,
     "metadata": {},
     "output_type": "execute_result"
    }
   ],
   "source": [
    "data.head()"
   ]
  },
  {
   "cell_type": "markdown",
   "id": "2c3439ab-0ea4-4402-8fef-c7886f161e8d",
   "metadata": {},
   "source": [
    "## Create 'sentences'"
   ]
  },
  {
   "cell_type": "code",
   "execution_count": 4,
   "id": "e61e05a4-362d-48ca-a3c4-c678f0027eeb",
   "metadata": {},
   "outputs": [],
   "source": [
    "# Label each unique song (based on artist and song title) with its own id\n",
    "ids, songs = pd.factorize(fast_zip([data.artists.values, data.title.values]))\n",
    "data['songs'] = ids\n",
    "\n",
    "\n",
    "# Form 'sentences' based on each playlist\n",
    "min_num_songs = 5\n",
    "groups = data.groupby('playlist').filter(lambda x: x['songs'].nunique() >= min_num_songs)\n",
    "groups = groups.groupby('playlist')['songs'].unique()\n",
    "\n",
    "sentences = groups.apply(list).tolist()"
   ]
  },
  {
   "cell_type": "markdown",
   "id": "37b8ef4a-d7db-4042-b528-ba0cf60fd5b4",
   "metadata": {},
   "source": [
    "# Train Word2Vec Model"
   ]
  },
  {
   "cell_type": "code",
   "execution_count": 30,
   "id": "e6d481cf-8815-4148-9460-859f2b8a7b63",
   "metadata": {},
   "outputs": [],
   "source": [
    "# To load: model = Word2Vec.load(\"song2vec.model\")\n",
    "model = Word2Vec(\n",
    "    sentences=sentences,\n",
    "    vector_size=20,        # Example: 20 dimensions\n",
    "    window=10,             # Example: 10 songs before and 10 after\n",
    "    min_count=2,           # Example: Ignore songs appearing less than 2 times\n",
    "    sg=1,                  # Example: Use Skip-gram\n",
    "    workers=8,             # Example: Use 8 CPU cores\n",
    "    epochs=10              # Example: Iterate 10 times over the data\n",
    ")\n",
    "model.save(\"song2vec2.model\")"
   ]
  },
  {
   "cell_type": "code",
   "execution_count": 6,
   "id": "d51518e1-3da1-473e-944c-62dd9e1f8688",
   "metadata": {},
   "outputs": [
    {
     "data": {
      "text/plain": [
       "array([ 0.38246003,  0.6203271 , -0.38880336, -0.09840385,  1.2375836 ,\n",
       "       -0.9882781 , -1.3208984 ,  1.7355688 ,  0.2760223 ,  0.6414492 ,\n",
       "       -1.2785425 , -0.49925712,  0.34828863,  0.49347827, -0.23920417,\n",
       "        1.4617358 , -0.6441757 , -1.4714783 , -2.3783753 , -0.48084772],\n",
       "      dtype=float32)"
      ]
     },
     "execution_count": 6,
     "metadata": {},
     "output_type": "execute_result"
    }
   ],
   "source": [
    "model.wv[1]"
   ]
  },
  {
   "cell_type": "markdown",
   "id": "7ebcb353-85a5-4beb-83f8-332800824955",
   "metadata": {},
   "source": [
    "# Check Model"
   ]
  },
  {
   "cell_type": "code",
   "execution_count": 7,
   "id": "86e8eb69-1ba7-4e2d-a9f5-55da6f6f9781",
   "metadata": {},
   "outputs": [],
   "source": [
    "song_list = data.drop_duplicates(subset=['title', 'artists'])"
   ]
  },
  {
   "cell_type": "code",
   "execution_count": 28,
   "id": "b261b310-7dc5-400c-a4f8-5da1d010445d",
   "metadata": {
    "scrolled": true
   },
   "outputs": [
    {
     "data": {
      "text/html": [
       "<div>\n",
       "<style scoped>\n",
       "    .dataframe tbody tr th:only-of-type {\n",
       "        vertical-align: middle;\n",
       "    }\n",
       "\n",
       "    .dataframe tbody tr th {\n",
       "        vertical-align: top;\n",
       "    }\n",
       "\n",
       "    .dataframe thead th {\n",
       "        text-align: right;\n",
       "    }\n",
       "</style>\n",
       "<table border=\"1\" class=\"dataframe\">\n",
       "  <thead>\n",
       "    <tr style=\"text-align: right;\">\n",
       "      <th></th>\n",
       "      <th>artists</th>\n",
       "      <th>title</th>\n",
       "      <th>playlist</th>\n",
       "      <th>songs</th>\n",
       "    </tr>\n",
       "  </thead>\n",
       "  <tbody>\n",
       "    <tr>\n",
       "      <th>196</th>\n",
       "      <td>DJ Shadow</td>\n",
       "      <td>Fixed Income</td>\n",
       "      <td>Chill out</td>\n",
       "      <td>195</td>\n",
       "    </tr>\n",
       "    <tr>\n",
       "      <th>1775</th>\n",
       "      <td>Twin Shadow</td>\n",
       "      <td>Run My Heart</td>\n",
       "      <td>Chelsea</td>\n",
       "      <td>1445</td>\n",
       "    </tr>\n",
       "    <tr>\n",
       "      <th>4417</th>\n",
       "      <td>Twin Shadow</td>\n",
       "      <td>Castles In The Snow</td>\n",
       "      <td>Everything at once</td>\n",
       "      <td>3615</td>\n",
       "    </tr>\n",
       "    <tr>\n",
       "      <th>4637</th>\n",
       "      <td>Hadouken!</td>\n",
       "      <td>Crank It Up</td>\n",
       "      <td>Everything at once</td>\n",
       "      <td>3813</td>\n",
       "    </tr>\n",
       "    <tr>\n",
       "      <th>5038</th>\n",
       "      <td>Savoir Adore</td>\n",
       "      <td>Dreamers</td>\n",
       "      <td>Everything at once</td>\n",
       "      <td>4170</td>\n",
       "    </tr>\n",
       "    <tr>\n",
       "      <th>...</th>\n",
       "      <td>...</td>\n",
       "      <td>...</td>\n",
       "      <td>...</td>\n",
       "      <td>...</td>\n",
       "    </tr>\n",
       "    <tr>\n",
       "      <th>12884298</th>\n",
       "      <td>Voladoras</td>\n",
       "      <td>Geetar Slut</td>\n",
       "      <td>Starred</td>\n",
       "      <td>2821972</td>\n",
       "    </tr>\n",
       "    <tr>\n",
       "      <th>12888065</th>\n",
       "      <td>Belladonna</td>\n",
       "      <td>Dub Funk</td>\n",
       "      <td>Nudiscoisms</td>\n",
       "      <td>2822600</td>\n",
       "    </tr>\n",
       "    <tr>\n",
       "      <th>12892714</th>\n",
       "      <td>Shadow Dancer</td>\n",
       "      <td>Murder Room</td>\n",
       "      <td>Early 2015</td>\n",
       "      <td>2823076</td>\n",
       "    </tr>\n",
       "    <tr>\n",
       "      <th>12900668</th>\n",
       "      <td>Eddie Amador</td>\n",
       "      <td>Take Care Of My Heart</td>\n",
       "      <td>4.14.15</td>\n",
       "      <td>2823893</td>\n",
       "    </tr>\n",
       "    <tr>\n",
       "      <th>12901483</th>\n",
       "      <td>Nelly Furtado</td>\n",
       "      <td>Parking Lot - K. Drew Remix</td>\n",
       "      <td>Starred</td>\n",
       "      <td>2823939</td>\n",
       "    </tr>\n",
       "  </tbody>\n",
       "</table>\n",
       "<p>12614 rows × 4 columns</p>\n",
       "</div>"
      ],
      "text/plain": [
       "                artists                        title            playlist  \\\n",
       "196           DJ Shadow                 Fixed Income           Chill out   \n",
       "1775        Twin Shadow                 Run My Heart             Chelsea   \n",
       "4417        Twin Shadow          Castles In The Snow  Everything at once   \n",
       "4637          Hadouken!                  Crank It Up  Everything at once   \n",
       "5038       Savoir Adore                     Dreamers  Everything at once   \n",
       "...                 ...                          ...                 ...   \n",
       "12884298      Voladoras                  Geetar Slut             Starred   \n",
       "12888065     Belladonna                     Dub Funk         Nudiscoisms   \n",
       "12892714  Shadow Dancer                  Murder Room          Early 2015   \n",
       "12900668   Eddie Amador        Take Care Of My Heart             4.14.15   \n",
       "12901483  Nelly Furtado  Parking Lot - K. Drew Remix             Starred   \n",
       "\n",
       "            songs  \n",
       "196           195  \n",
       "1775         1445  \n",
       "4417         3615  \n",
       "4637         3813  \n",
       "5038         4170  \n",
       "...           ...  \n",
       "12884298  2821972  \n",
       "12888065  2822600  \n",
       "12892714  2823076  \n",
       "12900668  2823893  \n",
       "12901483  2823939  \n",
       "\n",
       "[12614 rows x 4 columns]"
      ]
     },
     "execution_count": 28,
     "metadata": {},
     "output_type": "execute_result"
    }
   ],
   "source": [
    "# Search for song\n",
    "title = ''\n",
    "artist = ''\n",
    "\n",
    "song_list[song_list['title'].str.contains(title, na=False, case=False) & song_list['artists'].str.contains(artist, na=False, case=False)]"
   ]
  },
  {
   "cell_type": "code",
   "execution_count": 26,
   "id": "ec2f76d9-95e0-47bb-9774-79d9ce7a32ae",
   "metadata": {},
   "outputs": [
    {
     "name": "stdout",
     "output_type": "stream",
     "text": [
      "    614069 Call It What You Want          by Tesla                -- 0.9904\n",
      "    887800 Calling To You                 by Robert Plant         -- 0.9857\n",
      "   1326032 Child's Play                   by Tnt                  -- 0.9845\n",
      "   1092241 Caffeine                       by Alice Cooper         -- 0.9843\n",
      "   1067017 Camel's Night Out              by Eric Johnson         -- 0.9838\n",
      "   1721661 Calm Before the Storm          by Saxon                -- 0.9833\n",
      "    894087 Cagey Cretins                  by Blue Oyster Cult     -- 0.9826\n",
      "   1112419 Cheap Sunglasses - Remastered Live Version by ZZ Top               -- 0.9825\n",
      "    100310 Bus Stop - 1999 Remastered Version by Tin Machine          -- 0.9824\n",
      "   1686649 Carmen                         by Toto                 -- 0.9819\n"
     ]
    }
   ],
   "source": [
    "for song_id, score in model.wv.most_similar(107706, topn=10):\n",
    "    song = song_list[song_list['songs'] == song_id].head(1)\n",
    "    print(f'{song_id:10} {song[\"title\"].values[0]:30} by {song[\"artists\"].values[0]:20} -- {score:.4f}')"
   ]
  },
  {
   "cell_type": "code",
   "execution_count": null,
   "id": "9df754d4-4908-4b78-b855-498c6b250395",
   "metadata": {},
   "outputs": [],
   "source": []
  }
 ],
 "metadata": {
  "kernelspec": {
   "display_name": "Python 3 (ipykernel)",
   "language": "python",
   "name": "python3"
  },
  "language_info": {
   "codemirror_mode": {
    "name": "ipython",
    "version": 3
   },
   "file_extension": ".py",
   "mimetype": "text/x-python",
   "name": "python",
   "nbconvert_exporter": "python",
   "pygments_lexer": "ipython3",
   "version": "3.10.12"
  }
 },
 "nbformat": 4,
 "nbformat_minor": 5
}
