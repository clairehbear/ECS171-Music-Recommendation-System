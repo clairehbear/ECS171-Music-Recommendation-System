{
 "cells": [
  {
   "cell_type": "code",
   "execution_count": 1,
   "id": "2beaed8b-3bc2-4980-abd1-f6965f956207",
   "metadata": {},
   "outputs": [],
   "source": [
    "from gensim.models import Word2Vec\n",
    "import numpy as np\n",
    "import pandas as pd\n",
    "from pandas._libs.lib import fast_zip\n",
    "import os"
   ]
  },
  {
   "cell_type": "markdown",
   "id": "3d46cfc2-d5ed-48c2-884a-f03f47840d83",
   "metadata": {},
   "source": [
    "# Load and Clean Data"
   ]
  },
  {
   "cell_type": "code",
   "execution_count": 2,
   "id": "313415c4-be70-4b0d-9f16-37330c467eba",
   "metadata": {
    "scrolled": true
   },
   "outputs": [
    {
     "data": {
      "text/plain": [
       "0                                Red Shoes\n",
       "1            Peace, Love And Understanding\n",
       "2                         7 Years Too Late\n",
       "3                    Accidents Will Happen\n",
       "4                                   Alison\n",
       "                         ...              \n",
       "12901974                         Wild Side\n",
       "12901975                             Woman\n",
       "12901976       You Don't Know How It Feels\n",
       "12901977                      You Wreck Me\n",
       "12901978                   Youth Gone Wild\n",
       "Name: title, Length: 12901979, dtype: object"
      ]
     },
     "execution_count": 2,
     "metadata": {},
     "output_type": "execute_result"
    }
   ],
   "source": [
    "# Load first 1 million data points, excluding the user id\n",
    "data = pd.read_csv('data/spotify_dataset.csv', on_bad_lines='skip', usecols=[' \"artistname\"', ' \"trackname\"', ' \"playlistname\"'])\n",
    "\n",
    "# Rename columns\n",
    "data.rename(columns={' \"artistname\"': 'artists', ' \"trackname\"': 'title', ' \"playlistname\"': 'playlist'}, inplace=True)\n",
    "\n",
    "# Remove all parantheticals in song names to treat more songs as the same\n",
    "data['title'].str.replace(r\"\\(.*\\)\",\"\", regex=True)"
   ]
  },
  {
   "cell_type": "code",
   "execution_count": 3,
   "id": "a7a98599-7ca1-4110-8ee2-5eaa23eba839",
   "metadata": {},
   "outputs": [
    {
     "data": {
      "text/html": [
       "<div>\n",
       "<style scoped>\n",
       "    .dataframe tbody tr th:only-of-type {\n",
       "        vertical-align: middle;\n",
       "    }\n",
       "\n",
       "    .dataframe tbody tr th {\n",
       "        vertical-align: top;\n",
       "    }\n",
       "\n",
       "    .dataframe thead th {\n",
       "        text-align: right;\n",
       "    }\n",
       "</style>\n",
       "<table border=\"1\" class=\"dataframe\">\n",
       "  <thead>\n",
       "    <tr style=\"text-align: right;\">\n",
       "      <th></th>\n",
       "      <th>artists</th>\n",
       "      <th>title</th>\n",
       "      <th>playlist</th>\n",
       "    </tr>\n",
       "  </thead>\n",
       "  <tbody>\n",
       "    <tr>\n",
       "      <th>0</th>\n",
       "      <td>Elvis Costello</td>\n",
       "      <td>(The Angels Wanna Wear My) Red Shoes</td>\n",
       "      <td>HARD ROCK 2010</td>\n",
       "    </tr>\n",
       "    <tr>\n",
       "      <th>1</th>\n",
       "      <td>Elvis Costello &amp; The Attractions</td>\n",
       "      <td>(What's So Funny 'Bout) Peace, Love And Unders...</td>\n",
       "      <td>HARD ROCK 2010</td>\n",
       "    </tr>\n",
       "    <tr>\n",
       "      <th>2</th>\n",
       "      <td>Tiffany Page</td>\n",
       "      <td>7 Years Too Late</td>\n",
       "      <td>HARD ROCK 2010</td>\n",
       "    </tr>\n",
       "    <tr>\n",
       "      <th>3</th>\n",
       "      <td>Elvis Costello &amp; The Attractions</td>\n",
       "      <td>Accidents Will Happen</td>\n",
       "      <td>HARD ROCK 2010</td>\n",
       "    </tr>\n",
       "    <tr>\n",
       "      <th>4</th>\n",
       "      <td>Elvis Costello</td>\n",
       "      <td>Alison</td>\n",
       "      <td>HARD ROCK 2010</td>\n",
       "    </tr>\n",
       "  </tbody>\n",
       "</table>\n",
       "</div>"
      ],
      "text/plain": [
       "                            artists  \\\n",
       "0                    Elvis Costello   \n",
       "1  Elvis Costello & The Attractions   \n",
       "2                      Tiffany Page   \n",
       "3  Elvis Costello & The Attractions   \n",
       "4                    Elvis Costello   \n",
       "\n",
       "                                               title        playlist  \n",
       "0               (The Angels Wanna Wear My) Red Shoes  HARD ROCK 2010  \n",
       "1  (What's So Funny 'Bout) Peace, Love And Unders...  HARD ROCK 2010  \n",
       "2                                   7 Years Too Late  HARD ROCK 2010  \n",
       "3                              Accidents Will Happen  HARD ROCK 2010  \n",
       "4                                             Alison  HARD ROCK 2010  "
      ]
     },
     "execution_count": 3,
     "metadata": {},
     "output_type": "execute_result"
    }
   ],
   "source": [
    "data.head()"
   ]
  },
  {
   "cell_type": "markdown",
   "id": "2c3439ab-0ea4-4402-8fef-c7886f161e8d",
   "metadata": {},
   "source": [
    "## Create 'sentences'"
   ]
  },
  {
   "cell_type": "code",
   "execution_count": 5,
   "id": "e61e05a4-362d-48ca-a3c4-c678f0027eeb",
   "metadata": {},
   "outputs": [],
   "source": [
    "# Label each unique song (based on artist and song title) with its own id\n",
    "ids, songs = pd.factorize(fast_zip([data.artists.values, data.title.values]))\n",
    "data['songs'] = ids\n",
    "\n",
    "\n",
    "# Form 'sentences' based on each playlist\n",
    "min_num_songs = 5\n",
    "groups = data.groupby('playlist').filter(lambda x: x['songs'].nunique() >= min_num_songs)\n",
    "groups = groups.groupby('playlist')['songs'].unique()\n",
    "\n",
    "sentences = groups.apply(list).tolist()"
   ]
  },
  {
   "cell_type": "markdown",
   "id": "37b8ef4a-d7db-4042-b528-ba0cf60fd5b4",
   "metadata": {},
   "source": [
    "# Train Word2Vec Model"
   ]
  },
  {
   "cell_type": "code",
   "execution_count": 19,
   "id": "e6d481cf-8815-4148-9460-859f2b8a7b63",
   "metadata": {},
   "outputs": [
    {
     "data": {
      "text/plain": [
       "'\\nmodel = Word2Vec(\\n    sentences=sentences,\\n    vector_size=20,        # Example: 20 dimensions\\n    window=10,             # Example: 10 songs before and 10 after\\n    min_count=2,           # Example: Ignore songs appearing less than 2 times\\n    sg=1,                  # Example: Use Skip-gram\\n    workers=8,             # Example: Use 8 CPU cores\\n    epochs=10              # Example: Iterate 10 times over the data\\n)\\nmodel.save(\"song2vec2.model\")\\n'"
      ]
     },
     "execution_count": 19,
     "metadata": {},
     "output_type": "execute_result"
    }
   ],
   "source": [
    "# To load: model = Word2Vec.load(\"song2vec.model\")\n",
    "model = Word2Vec.load(\"song2vec.model\")\n",
    "\"\"\"\n",
    "model = Word2Vec(\n",
    "    sentences=sentences,\n",
    "    vector_size=20,        # Example: 20 dimensions\n",
    "    window=10,             # Example: 10 songs before and 10 after\n",
    "    min_count=2,           # Example: Ignore songs appearing less than 2 times\n",
    "    sg=1,                  # Example: Use Skip-gram\n",
    "    workers=8,             # Example: Use 8 CPU cores\n",
    "    epochs=10              # Example: Iterate 10 times over the data\n",
    ")\n",
    "model.save(\"song2vec2.model\")\n",
    "\"\"\""
   ]
  },
  {
   "cell_type": "code",
   "execution_count": 7,
   "id": "d51518e1-3da1-473e-944c-62dd9e1f8688",
   "metadata": {},
   "outputs": [
    {
     "data": {
      "text/plain": [
       "array([ 0.4263834 ,  0.5521066 , -0.2698889 , -0.09454672,  1.0843053 ,\n",
       "       -0.8065107 , -1.2720923 ,  1.7668669 ,  0.30876648,  0.56067955,\n",
       "       -1.2315571 , -0.5868361 ,  0.30129227,  0.49245536, -0.16328426,\n",
       "        1.4507519 , -0.84748226, -1.6008003 , -2.4196336 , -0.5084578 ],\n",
       "      dtype=float32)"
      ]
     },
     "execution_count": 7,
     "metadata": {},
     "output_type": "execute_result"
    }
   ],
   "source": [
    "model.wv[1]"
   ]
  },
  {
   "cell_type": "markdown",
   "id": "7ebcb353-85a5-4beb-83f8-332800824955",
   "metadata": {},
   "source": [
    "# Check Model"
   ]
  },
  {
   "cell_type": "code",
   "execution_count": 20,
   "id": "86e8eb69-1ba7-4e2d-a9f5-55da6f6f9781",
   "metadata": {},
   "outputs": [],
   "source": [
    "song_list = data.drop_duplicates(subset=['title', 'artists'])"
   ]
  },
  {
   "cell_type": "code",
   "execution_count": 35,
   "id": "b261b310-7dc5-400c-a4f8-5da1d010445d",
   "metadata": {
    "scrolled": true
   },
   "outputs": [
    {
     "data": {
      "text/html": [
       "<div>\n",
       "<style scoped>\n",
       "    .dataframe tbody tr th:only-of-type {\n",
       "        vertical-align: middle;\n",
       "    }\n",
       "\n",
       "    .dataframe tbody tr th {\n",
       "        vertical-align: top;\n",
       "    }\n",
       "\n",
       "    .dataframe thead th {\n",
       "        text-align: right;\n",
       "    }\n",
       "</style>\n",
       "<table border=\"1\" class=\"dataframe\">\n",
       "  <thead>\n",
       "    <tr style=\"text-align: right;\">\n",
       "      <th></th>\n",
       "      <th>artists</th>\n",
       "      <th>title</th>\n",
       "      <th>playlist</th>\n",
       "      <th>songs</th>\n",
       "    </tr>\n",
       "  </thead>\n",
       "  <tbody>\n",
       "    <tr>\n",
       "      <th>15358</th>\n",
       "      <td>Carly Rae Jepsen</td>\n",
       "      <td>Call Me Maybe</td>\n",
       "      <td>Starred</td>\n",
       "      <td>10997</td>\n",
       "    </tr>\n",
       "    <tr>\n",
       "      <th>58543</th>\n",
       "      <td>Carly Rae Jepsen Tribute Team</td>\n",
       "      <td>Call Me Maybe</td>\n",
       "      <td>Fluxblog</td>\n",
       "      <td>45073</td>\n",
       "    </tr>\n",
       "    <tr>\n",
       "      <th>65401</th>\n",
       "      <td>Carly Rae Jepsen</td>\n",
       "      <td>Call Me Maybe - 10 Kings vs Ollie Green Remix</td>\n",
       "      <td>Amor</td>\n",
       "      <td>49687</td>\n",
       "    </tr>\n",
       "    <tr>\n",
       "      <th>96029</th>\n",
       "      <td>Sam Tsui</td>\n",
       "      <td>Call Me Maybe</td>\n",
       "      <td>Sam Tsui</td>\n",
       "      <td>70237</td>\n",
       "    </tr>\n",
       "    <tr>\n",
       "      <th>148780</th>\n",
       "      <td>Carly Rae Jepsen</td>\n",
       "      <td>Call Me Maybe - Manhattan Clique Remix</td>\n",
       "      <td>De todo un poco</td>\n",
       "      <td>99243</td>\n",
       "    </tr>\n",
       "    <tr>\n",
       "      <th>...</th>\n",
       "      <td>...</td>\n",
       "      <td>...</td>\n",
       "      <td>...</td>\n",
       "      <td>...</td>\n",
       "    </tr>\n",
       "    <tr>\n",
       "      <th>11111110</th>\n",
       "      <td>Yoga Pop Ups</td>\n",
       "      <td>Call Me Maybe</td>\n",
       "      <td>Journaling PlayList</td>\n",
       "      <td>2586230</td>\n",
       "    </tr>\n",
       "    <tr>\n",
       "      <th>11186423</th>\n",
       "      <td>C-Rok</td>\n",
       "      <td>Call Me Maybe  - Carly Rae Jepsen - C-Rok  Rok...</td>\n",
       "      <td>#SMDayDenver</td>\n",
       "      <td>2599382</td>\n",
       "    </tr>\n",
       "    <tr>\n",
       "      <th>11404626</th>\n",
       "      <td>Chambaland</td>\n",
       "      <td>Let It Go vs. Call Me Maybe (Demi Lovato vs. C...</td>\n",
       "      <td>Chambaland Mashups</td>\n",
       "      <td>2628439</td>\n",
       "    </tr>\n",
       "    <tr>\n",
       "      <th>11556827</th>\n",
       "      <td>Workout Remix Factory</td>\n",
       "      <td>Call Me Maybe (138 BPM)</td>\n",
       "      <td>Workout Remix Factory – Running Workout #1 Hits</td>\n",
       "      <td>2651962</td>\n",
       "    </tr>\n",
       "    <tr>\n",
       "      <th>12119959</th>\n",
       "      <td>OneTwo Presents... &amp; Vanessa J</td>\n",
       "      <td>Call Me Maybe (Remix)</td>\n",
       "      <td>Ultimate Dance Hits — Dance 2013 Hits!</td>\n",
       "      <td>2721541</td>\n",
       "    </tr>\n",
       "  </tbody>\n",
       "</table>\n",
       "<p>76 rows × 4 columns</p>\n",
       "</div>"
      ],
      "text/plain": [
       "                                 artists  \\\n",
       "15358                   Carly Rae Jepsen   \n",
       "58543      Carly Rae Jepsen Tribute Team   \n",
       "65401                   Carly Rae Jepsen   \n",
       "96029                           Sam Tsui   \n",
       "148780                  Carly Rae Jepsen   \n",
       "...                                  ...   \n",
       "11111110                    Yoga Pop Ups   \n",
       "11186423                           C-Rok   \n",
       "11404626                      Chambaland   \n",
       "11556827           Workout Remix Factory   \n",
       "12119959  OneTwo Presents... & Vanessa J   \n",
       "\n",
       "                                                      title  \\\n",
       "15358                                         Call Me Maybe   \n",
       "58543                                         Call Me Maybe   \n",
       "65401         Call Me Maybe - 10 Kings vs Ollie Green Remix   \n",
       "96029                                         Call Me Maybe   \n",
       "148780               Call Me Maybe - Manhattan Clique Remix   \n",
       "...                                                     ...   \n",
       "11111110                                      Call Me Maybe   \n",
       "11186423  Call Me Maybe  - Carly Rae Jepsen - C-Rok  Rok...   \n",
       "11404626  Let It Go vs. Call Me Maybe (Demi Lovato vs. C...   \n",
       "11556827                            Call Me Maybe (138 BPM)   \n",
       "12119959                              Call Me Maybe (Remix)   \n",
       "\n",
       "                                                 playlist    songs  \n",
       "15358                                             Starred    10997  \n",
       "58543                                            Fluxblog    45073  \n",
       "65401                                                Amor    49687  \n",
       "96029                                            Sam Tsui    70237  \n",
       "148780                                    De todo un poco    99243  \n",
       "...                                                   ...      ...  \n",
       "11111110                              Journaling PlayList  2586230  \n",
       "11186423                                     #SMDayDenver  2599382  \n",
       "11404626                               Chambaland Mashups  2628439  \n",
       "11556827  Workout Remix Factory – Running Workout #1 Hits  2651962  \n",
       "12119959           Ultimate Dance Hits — Dance 2013 Hits!  2721541  \n",
       "\n",
       "[76 rows x 4 columns]"
      ]
     },
     "execution_count": 35,
     "metadata": {},
     "output_type": "execute_result"
    }
   ],
   "source": [
    "# Search for song\n",
    "title = 'call me maybe'\n",
    "artist = ''\n",
    "\n",
    "song_list[song_list['title'].str.contains(title, na=False, case=False) & song_list['artists'].str.contains(artist, na=False, case=False)]"
   ]
  },
  {
   "cell_type": "code",
   "execution_count": 36,
   "id": "ec2f76d9-95e0-47bb-9774-79d9ce7a32ae",
   "metadata": {},
   "outputs": [
    {
     "name": "stdout",
     "output_type": "stream",
     "text": [
      "     94372 Belongings                     by Clock Opera          -- 0.9681\n",
      "     11903 Belong                         by The Pains Of Being Pure At Heart -- 0.9553\n",
      "    122586 Betty's A Bombshell            by Grouplove            -- 0.9550\n",
      "     91416 Bicycles                       by The Maccabees        -- 0.9548\n",
      "    351697 Birthday                       by the bird and the bee -- 0.9540\n",
      "     75650 Becoming A Jackal              by Villagers            -- 0.9518\n",
      "      3232 Best Friend                    by The Drums            -- 0.9505\n",
      "     18108 Black White & Blue             by Ladyhawke            -- 0.9492\n",
      "    145464 Bang Pop                       by Free Energy          -- 0.9481\n",
      "    372144 Be Good                        by Tokyo Police Club    -- 0.9480\n"
     ]
    }
   ],
   "source": [
    "for song_id, score in model.wv.most_similar(15358, topn=10):\n",
    "    song = song_list[song_list['songs'] == song_id].head(1)\n",
    "    print(f'{song_id:10} {song[\"title\"].values[0]:30} by {song[\"artists\"].values[0]:20} -- {score:.4f}')"
   ]
  },
  {
   "cell_type": "code",
   "execution_count": null,
   "id": "9df754d4-4908-4b78-b855-498c6b250395",
   "metadata": {},
   "outputs": [],
   "source": []
  }
 ],
 "metadata": {
  "kernelspec": {
   "display_name": "Python 3 (ipykernel)",
   "language": "python",
   "name": "python3"
  },
  "language_info": {
   "codemirror_mode": {
    "name": "ipython",
    "version": 3
   },
   "file_extension": ".py",
   "mimetype": "text/x-python",
   "name": "python",
   "nbconvert_exporter": "python",
   "pygments_lexer": "ipython3",
   "version": "3.10.12"
  }
 },
 "nbformat": 4,
 "nbformat_minor": 5
}
