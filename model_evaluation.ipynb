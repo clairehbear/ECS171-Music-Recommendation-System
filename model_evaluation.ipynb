{
 "cells": [
  {
   "cell_type": "markdown",
   "id": "5107cd0d-ccf4-4d22-b87e-e8c9ebc7c0ff",
   "metadata": {},
   "source": [
    "# Model Evaluation\n",
    "Evaluating will be made up of the following two testing metrics for the 3 models.\n",
    "1. Silhouette Score\n",
    "2. Genre Evaluation\n",
    "\n",
    "Given that we were unable to train the hierarchical clustering model on the entire dataset (due to its relative inefficiency) we wll stick to evaluating the k-means and fuzzy c-means models."
   ]
  },
  {
   "cell_type": "code",
   "execution_count": 1,
   "id": "e4f07d5e-ce5e-491b-8f23-fda6d05e073b",
   "metadata": {},
   "outputs": [],
   "source": [
    "import numpy as np\n",
    "import pandas as pd\n",
    "import plotly.express as px\n",
    "import matplotlib.pyplot as plt\n",
    "from sklearn.cluster import KMeans\n",
    "from sklearn.metrics import silhouette_score\n",
    "from sklearn.preprocessing import StandardScaler\n",
    "from sklearn.decomposition import PCA\n",
    "from tqdm.notebook import tqdm\n",
    "import pickle\n",
    "import os"
   ]
  },
  {
   "cell_type": "markdown",
   "id": "4202d54a-f44b-45aa-a065-b64038b1b949",
   "metadata": {},
   "source": [
    "# Load in Data"
   ]
  },
  {
   "cell_type": "code",
   "execution_count": 5,
   "id": "8c2e26f1-2d7c-4a30-aa0c-59bc630f9104",
   "metadata": {},
   "outputs": [],
   "source": [
    "data = pd.read_csv('data/dataset.csv', index_col=0)\n",
    "data.drop_duplicates(subset='track_id')\n",
    "features = ['track_name', 'artists', 'popularity', 'energy', 'track_genre', 'danceability', 'loudness', 'acousticness', 'valence', 'tempo']\n",
    "X = data[features].copy()\n",
    "X.drop_duplicates(subset=['track_name', 'artists'], keep='first', inplace=True)\n",
    "X.reset_index(drop=True, inplace=True)  # fix indices after removing duplicates\n",
    "\n",
    "# Standardize data\n",
    "scaler = StandardScaler()\n",
    "X_scaled = scaler.fit_transform(X[['popularity', 'energy', 'danceability', 'loudness', 'acousticness', 'valence', 'tempo']])\n",
    "cos_scaled = X_scaled / np.linalg.norm(X_scaled, axis=1)[:, np.newaxis]"
   ]
  },
  {
   "cell_type": "markdown",
   "id": "0a922716-7774-45b6-b081-10323b807c1f",
   "metadata": {},
   "source": [
    "# Load in Models"
   ]
  },
  {
   "cell_type": "code",
   "execution_count": 6,
   "id": "668d7c46-460a-46ae-bab6-ef0ac37f54a7",
   "metadata": {},
   "outputs": [],
   "source": [
    "with open('eucd.pkl', 'rb') as file:\n",
    "    euc_model = pickle.load(file)\n",
    "with open('cos.pkl', 'rb') as file:\n",
    "    cos_model = pickle.load(file)\n",
    "with open('fuzzy.pkl', 'rb') as file:\n",
    "    (cntr, u) = pickle.load(file)"
   ]
  },
  {
   "cell_type": "markdown",
   "id": "f34f9c09-3e2f-4ffe-a254-62a5d7a7f789",
   "metadata": {},
   "source": [
    "# 1. Compute Silhouette Scores "
   ]
  },
  {
   "cell_type": "markdown",
   "id": "11465df6-884f-49f7-946d-556b99d32208",
   "metadata": {},
   "source": [
    "# 2. Compare with Genre Evaluation"
   ]
  },
  {
   "cell_type": "code",
   "execution_count": 299,
   "id": "0d422aa6-7f4d-456e-8f86-89fa90f78268",
   "metadata": {},
   "outputs": [],
   "source": [
    "# Custom genre groupings for each possible genre in the dataset\n",
    "genre_groupings = [\n",
    "    ['acoustic', 'folk', 'singer-songwriter', 'bluegrass', 'country', 'honky-tonk', 'rockabilly', 'study', 'guitar', 'piano', 'new-age', 'ambient', 'sleep', 'chill'],\n",
    "    ['rock', 'alt-rock', 'alternative', 'hard-rock', 'grunge', 'punk', 'punk-rock', 'emo', 'psych-rock', 'rock-n-roll', 'indie', 'indie-pop', 'power-pop', 'goth', 'industrial'],\n",
    "    ['metal', 'black-metal', 'death-metal', 'heavy-metal', 'hardcore', 'metalcore', 'grindcore', 'hardstyle'],\n",
    "    ['electronic', 'edm', 'dance', 'electro', 'house', 'deep-house', 'chicago-house', 'progressive-house', 'techno', 'detroit-techno', 'minimal-techno', 'trance', 'dubstep', 'drum-and-bass', 'breakbeat', 'idm', 'trip-hop', 'garage', 'club', 'party', 'synth-pop', 'disco'],\n",
    "    ['hip-hop', 'r-n-b', 'soul', 'funk', 'groove', 'reggae', 'dancehall', 'dub'],\n",
    "    ['jazz', 'blues', 'classical', 'opera', 'show-tunes', 'disney', 'pop-film', 'romance', 'sad', 'happy'],\n",
    "    ['pop', 'k-pop', 'j-pop', 'j-dance', 'j-idol', 'j-rock', 'anime', 'cantopop', 'mandopop'],\n",
    "    ['latin', 'latino', 'salsa', 'samba', 'brazil', 'mpb', 'pagode', 'forro', 'sertanejo', 'tango', 'spanish', 'afrobeat', 'reggaeton'],\n",
    "    ['world-music', 'children', 'kids', 'comedy', 'french', 'german', 'indian', 'iranian', 'malay', 'turkish', 'british', 'swedish']\n",
    "]\n",
    "\n",
    "# Create genre to group dictionary\n",
    "genre_groups = {}\n",
    "for idx, group in enumerate(genre_groupings):\n",
    "    for genre in group:\n",
    "        genre_groups[genre] = idx\n"
   ]
  },
  {
   "cell_type": "code",
   "execution_count": 300,
   "id": "75e25747-0d7d-4491-98af-c371a6696f13",
   "metadata": {},
   "outputs": [
    {
     "name": "stdout",
     "output_type": "stream",
     "text": [
      "0.6\n"
     ]
    }
   ],
   "source": [
    "# Find group majority\n",
    "group_indices = [genre_groups[genre] for genre in results.iloc[playlist].track_genre]\n",
    "counts = np.bincount(group_indices)\n",
    "majority_group = np.argmax(counts)\n",
    "\n",
    "# Calculate the ratio of the recommended songs that are in the same genre group (higher is better)\n",
    "total = top_k - len(playlist)\n",
    "in_group = sum([1 for genre in results.iloc[indices[most_similar]][len(playlist)-1:].track_genre if genre_groups[genre] == majority_group])\n",
    "print(in_group / total)"
   ]
  }
 ],
 "metadata": {
  "kernelspec": {
   "display_name": "Python 3 (ipykernel)",
   "language": "python",
   "name": "python3"
  },
  "language_info": {
   "codemirror_mode": {
    "name": "ipython",
    "version": 3
   },
   "file_extension": ".py",
   "mimetype": "text/x-python",
   "name": "python",
   "nbconvert_exporter": "python",
   "pygments_lexer": "ipython3",
   "version": "3.10.12"
  }
 },
 "nbformat": 4,
 "nbformat_minor": 5
}
